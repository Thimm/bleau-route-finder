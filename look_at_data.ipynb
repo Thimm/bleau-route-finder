{
 "cells": [
  {
   "cell_type": "code",
   "execution_count": 73,
   "metadata": {},
   "outputs": [],
   "source": [
    "import pandas as pd\n",
    "import sqlite3\n",
    "con = sqlite3.connect(\"boolder.db\")\n",
    "df = pd.read_sql(\"SELECT * FROM problems\", con)\n",
    "# show 100 rows\n",
    "pd.set_option('display.max_rows', 100)\n"
   ]
  },
  {
   "cell_type": "code",
   "execution_count": 74,
   "metadata": {},
   "outputs": [],
   "source": [
    "areas = pd.read_sql(\"SELECT * FROM areas\", con)\n",
    "areas.rename(columns={\"id\": \"area_id\", \"name\": \"area_name\"}, inplace=True)"
   ]
  },
  {
   "cell_type": "code",
   "execution_count": 75,
   "metadata": {},
   "outputs": [
    {
     "data": {
      "text/html": [
       "<div>\n",
       "<style scoped>\n",
       "    .dataframe tbody tr th:only-of-type {\n",
       "        vertical-align: middle;\n",
       "    }\n",
       "\n",
       "    .dataframe tbody tr th {\n",
       "        vertical-align: top;\n",
       "    }\n",
       "\n",
       "    .dataframe thead th {\n",
       "        text-align: right;\n",
       "    }\n",
       "</style>\n",
       "<table border=\"1\" class=\"dataframe\">\n",
       "  <thead>\n",
       "    <tr style=\"text-align: right;\">\n",
       "      <th></th>\n",
       "      <th>id</th>\n",
       "      <th>name</th>\n",
       "      <th>name_en</th>\n",
       "      <th>name_searchable</th>\n",
       "      <th>grade</th>\n",
       "      <th>latitude</th>\n",
       "      <th>longitude</th>\n",
       "      <th>circuit_id</th>\n",
       "      <th>circuit_number</th>\n",
       "      <th>circuit_color</th>\n",
       "      <th>steepness</th>\n",
       "      <th>sit_start</th>\n",
       "      <th>area_id</th>\n",
       "      <th>bleau_info_id</th>\n",
       "      <th>featured</th>\n",
       "      <th>popularity</th>\n",
       "      <th>parent_id</th>\n",
       "      <th>area_name</th>\n",
       "    </tr>\n",
       "  </thead>\n",
       "  <tbody>\n",
       "    <tr>\n",
       "      <th>640</th>\n",
       "      <td>690</td>\n",
       "      <td>Le Toit du Cul de Chien</td>\n",
       "      <td>Le Toit du Cul de Chien</td>\n",
       "      <td>letoitduculdechien</td>\n",
       "      <td>7a</td>\n",
       "      <td>48.376143</td>\n",
       "      <td>2.522716</td>\n",
       "      <td>NaN</td>\n",
       "      <td>None</td>\n",
       "      <td>None</td>\n",
       "      <td>roof</td>\n",
       "      <td>0</td>\n",
       "      <td>2</td>\n",
       "      <td>173</td>\n",
       "      <td>1</td>\n",
       "      <td>23402</td>\n",
       "      <td>NaN</td>\n",
       "      <td>Cul de Chien</td>\n",
       "    </tr>\n",
       "    <tr>\n",
       "      <th>500</th>\n",
       "      <td>506</td>\n",
       "      <td>La Marie-Rose</td>\n",
       "      <td>La Marie-Rose</td>\n",
       "      <td>lamarierose</td>\n",
       "      <td>6a</td>\n",
       "      <td>48.447066</td>\n",
       "      <td>2.639099</td>\n",
       "      <td>15.0</td>\n",
       "      <td>22</td>\n",
       "      <td>red</td>\n",
       "      <td>wall</td>\n",
       "      <td>0</td>\n",
       "      <td>4</td>\n",
       "      <td>2128</td>\n",
       "      <td>1</td>\n",
       "      <td>18910</td>\n",
       "      <td>NaN</td>\n",
       "      <td>Cuvier</td>\n",
       "    </tr>\n",
       "    <tr>\n",
       "      <th>3003</th>\n",
       "      <td>3409</td>\n",
       "      <td>Graviton</td>\n",
       "      <td>Graviton</td>\n",
       "      <td>graviton</td>\n",
       "      <td>7a</td>\n",
       "      <td>48.374257</td>\n",
       "      <td>2.514130</td>\n",
       "      <td>NaN</td>\n",
       "      <td>None</td>\n",
       "      <td>red</td>\n",
       "      <td>wall</td>\n",
       "      <td>0</td>\n",
       "      <td>12</td>\n",
       "      <td>782</td>\n",
       "      <td>1</td>\n",
       "      <td>16879</td>\n",
       "      <td>NaN</td>\n",
       "      <td>Roche aux Sabots</td>\n",
       "    </tr>\n",
       "    <tr>\n",
       "      <th>2529</th>\n",
       "      <td>2902</td>\n",
       "      <td>Retour aux Sources</td>\n",
       "      <td>Retour aux Sources</td>\n",
       "      <td>retourauxsources</td>\n",
       "      <td>7a</td>\n",
       "      <td>48.385725</td>\n",
       "      <td>2.527241</td>\n",
       "      <td>NaN</td>\n",
       "      <td>None</td>\n",
       "      <td>None</td>\n",
       "      <td>overhang</td>\n",
       "      <td>1</td>\n",
       "      <td>10</td>\n",
       "      <td>5</td>\n",
       "      <td>1</td>\n",
       "      <td>13812</td>\n",
       "      <td>NaN</td>\n",
       "      <td>95.2</td>\n",
       "    </tr>\n",
       "    <tr>\n",
       "      <th>2954</th>\n",
       "      <td>3355</td>\n",
       "      <td>L'Oblique</td>\n",
       "      <td>L'Oblique</td>\n",
       "      <td>loblique</td>\n",
       "      <td>7a</td>\n",
       "      <td>48.374647</td>\n",
       "      <td>2.513958</td>\n",
       "      <td>NaN</td>\n",
       "      <td>None</td>\n",
       "      <td>None</td>\n",
       "      <td>roof</td>\n",
       "      <td>0</td>\n",
       "      <td>12</td>\n",
       "      <td>767</td>\n",
       "      <td>1</td>\n",
       "      <td>13426</td>\n",
       "      <td>3319.0</td>\n",
       "      <td>Roche aux Sabots</td>\n",
       "    </tr>\n",
       "    <tr>\n",
       "      <th>...</th>\n",
       "      <td>...</td>\n",
       "      <td>...</td>\n",
       "      <td>...</td>\n",
       "      <td>...</td>\n",
       "      <td>...</td>\n",
       "      <td>...</td>\n",
       "      <td>...</td>\n",
       "      <td>...</td>\n",
       "      <td>...</td>\n",
       "      <td>...</td>\n",
       "      <td>...</td>\n",
       "      <td>...</td>\n",
       "      <td>...</td>\n",
       "      <td>...</td>\n",
       "      <td>...</td>\n",
       "      <td>...</td>\n",
       "      <td>...</td>\n",
       "      <td>...</td>\n",
       "    </tr>\n",
       "    <tr>\n",
       "      <th>11311</th>\n",
       "      <td>12028</td>\n",
       "      <td>Amok (assis)</td>\n",
       "      <td>Amok (assis)</td>\n",
       "      <td>amokassis</td>\n",
       "      <td>8a+</td>\n",
       "      <td>48.384508</td>\n",
       "      <td>2.694254</td>\n",
       "      <td>NaN</td>\n",
       "      <td>None</td>\n",
       "      <td>None</td>\n",
       "      <td>overhang</td>\n",
       "      <td>1</td>\n",
       "      <td>52</td>\n",
       "      <td>11464</td>\n",
       "      <td>0</td>\n",
       "      <td>0</td>\n",
       "      <td>12027.0</td>\n",
       "      <td>Rocher de Bouligny</td>\n",
       "    </tr>\n",
       "    <tr>\n",
       "      <th>3840</th>\n",
       "      <td>4282</td>\n",
       "      <td>Mars Attaque</td>\n",
       "      <td>Mars Attaque</td>\n",
       "      <td>marsattaque</td>\n",
       "      <td>6b+</td>\n",
       "      <td>48.398928</td>\n",
       "      <td>2.520316</td>\n",
       "      <td>NaN</td>\n",
       "      <td>None</td>\n",
       "      <td>None</td>\n",
       "      <td>wall</td>\n",
       "      <td>0</td>\n",
       "      <td>15</td>\n",
       "      <td>12059</td>\n",
       "      <td>0</td>\n",
       "      <td>0</td>\n",
       "      <td>NaN</td>\n",
       "      <td>Gorge aux Châts</td>\n",
       "    </tr>\n",
       "    <tr>\n",
       "      <th>11314</th>\n",
       "      <td>12031</td>\n",
       "      <td>La Peau d'Éléphant</td>\n",
       "      <td>La Peau d'Éléphant</td>\n",
       "      <td>lapeaudelephant</td>\n",
       "      <td>4b</td>\n",
       "      <td>48.384726</td>\n",
       "      <td>2.695105</td>\n",
       "      <td>NaN</td>\n",
       "      <td>None</td>\n",
       "      <td>None</td>\n",
       "      <td>slab</td>\n",
       "      <td>0</td>\n",
       "      <td>52</td>\n",
       "      <td>16789</td>\n",
       "      <td>0</td>\n",
       "      <td>0</td>\n",
       "      <td>NaN</td>\n",
       "      <td>Rocher de Bouligny</td>\n",
       "    </tr>\n",
       "    <tr>\n",
       "      <th>11315</th>\n",
       "      <td>12032</td>\n",
       "      <td>La Grattonade du 17 Octobre</td>\n",
       "      <td>La Grattonade du 17 Octobre</td>\n",
       "      <td>lagrattonadedu17octobre</td>\n",
       "      <td>5a</td>\n",
       "      <td>48.384703</td>\n",
       "      <td>2.695097</td>\n",
       "      <td>NaN</td>\n",
       "      <td>None</td>\n",
       "      <td>None</td>\n",
       "      <td>slab</td>\n",
       "      <td>0</td>\n",
       "      <td>52</td>\n",
       "      <td>16790</td>\n",
       "      <td>0</td>\n",
       "      <td>0</td>\n",
       "      <td>NaN</td>\n",
       "      <td>Rocher de Bouligny</td>\n",
       "    </tr>\n",
       "    <tr>\n",
       "      <th>13789</th>\n",
       "      <td>14542</td>\n",
       "      <td>La Boule de Soumission</td>\n",
       "      <td>La Boule de Soumission</td>\n",
       "      <td>labouledesoumission</td>\n",
       "      <td>6a</td>\n",
       "      <td>48.445741</td>\n",
       "      <td>2.648203</td>\n",
       "      <td>NaN</td>\n",
       "      <td>None</td>\n",
       "      <td>None</td>\n",
       "      <td>other</td>\n",
       "      <td>0</td>\n",
       "      <td>64</td>\n",
       "      <td>22765</td>\n",
       "      <td>0</td>\n",
       "      <td>0</td>\n",
       "      <td>NaN</td>\n",
       "      <td>Cuvier Rempart</td>\n",
       "    </tr>\n",
       "  </tbody>\n",
       "</table>\n",
       "<p>18462 rows × 18 columns</p>\n",
       "</div>"
      ],
      "text/plain": [
       "          id                         name                      name_en  \\\n",
       "640      690      Le Toit du Cul de Chien      Le Toit du Cul de Chien   \n",
       "500      506                La Marie-Rose                La Marie-Rose   \n",
       "3003    3409                     Graviton                     Graviton   \n",
       "2529    2902           Retour aux Sources           Retour aux Sources   \n",
       "2954    3355                    L'Oblique                    L'Oblique   \n",
       "...      ...                          ...                          ...   \n",
       "11311  12028                 Amok (assis)                 Amok (assis)   \n",
       "3840    4282                 Mars Attaque                 Mars Attaque   \n",
       "11314  12031           La Peau d'Éléphant           La Peau d'Éléphant   \n",
       "11315  12032  La Grattonade du 17 Octobre  La Grattonade du 17 Octobre   \n",
       "13789  14542       La Boule de Soumission       La Boule de Soumission   \n",
       "\n",
       "               name_searchable grade   latitude  longitude  circuit_id  \\\n",
       "640         letoitduculdechien    7a  48.376143   2.522716         NaN   \n",
       "500                lamarierose    6a  48.447066   2.639099        15.0   \n",
       "3003                  graviton    7a  48.374257   2.514130         NaN   \n",
       "2529          retourauxsources    7a  48.385725   2.527241         NaN   \n",
       "2954                  loblique    7a  48.374647   2.513958         NaN   \n",
       "...                        ...   ...        ...        ...         ...   \n",
       "11311                amokassis   8a+  48.384508   2.694254         NaN   \n",
       "3840               marsattaque   6b+  48.398928   2.520316         NaN   \n",
       "11314          lapeaudelephant    4b  48.384726   2.695105         NaN   \n",
       "11315  lagrattonadedu17octobre    5a  48.384703   2.695097         NaN   \n",
       "13789      labouledesoumission    6a  48.445741   2.648203         NaN   \n",
       "\n",
       "      circuit_number circuit_color steepness  sit_start  area_id  \\\n",
       "640             None          None      roof          0        2   \n",
       "500               22           red      wall          0        4   \n",
       "3003            None           red      wall          0       12   \n",
       "2529            None          None  overhang          1       10   \n",
       "2954            None          None      roof          0       12   \n",
       "...              ...           ...       ...        ...      ...   \n",
       "11311           None          None  overhang          1       52   \n",
       "3840            None          None      wall          0       15   \n",
       "11314           None          None      slab          0       52   \n",
       "11315           None          None      slab          0       52   \n",
       "13789           None          None     other          0       64   \n",
       "\n",
       "      bleau_info_id  featured  popularity  parent_id           area_name  \n",
       "640             173         1       23402        NaN        Cul de Chien  \n",
       "500            2128         1       18910        NaN              Cuvier  \n",
       "3003            782         1       16879        NaN    Roche aux Sabots  \n",
       "2529              5         1       13812        NaN                95.2  \n",
       "2954            767         1       13426     3319.0    Roche aux Sabots  \n",
       "...             ...       ...         ...        ...                 ...  \n",
       "11311         11464         0           0    12027.0  Rocher de Bouligny  \n",
       "3840          12059         0           0        NaN     Gorge aux Châts  \n",
       "11314         16789         0           0        NaN  Rocher de Bouligny  \n",
       "11315         16790         0           0        NaN  Rocher de Bouligny  \n",
       "13789         22765         0           0        NaN      Cuvier Rempart  \n",
       "\n",
       "[18462 rows x 18 columns]"
      ]
     },
     "execution_count": 75,
     "metadata": {},
     "output_type": "execute_result"
    }
   ],
   "source": [
    "df = df.merge(areas[[\"area_id\", \"area_name\"]], on=\"area_id\", how=\"left\")\n",
    "df = df.sort_values(\"popularity\", ascending=False)\n",
    "df"
   ]
  },
  {
   "cell_type": "code",
   "execution_count": 76,
   "metadata": {},
   "outputs": [
    {
     "data": {
      "text/plain": [
       "<Axes: xlabel='grade'>"
      ]
     },
     "execution_count": 76,
     "metadata": {},
     "output_type": "execute_result"
    },
    {
     "data": {
      "image/png": "[encoded data removed]",
      "text/plain": [
       "<Figure size 640x480 with 1 Axes>"
      ]
     },
     "metadata": {},
     "output_type": "display_data"
    }
   ],
   "source": [
    "df[\"grade\"].value_counts().sort_index().plot(kind=\"bar\")"
   ]
  },
  {
   "cell_type": "code",
   "execution_count": 77,
   "metadata": {},
   "outputs": [
    {
     "data": {
      "text/plain": [
       "<Axes: xlabel='steepness'>"
      ]
     },
     "execution_count": 77,
     "metadata": {},
     "output_type": "execute_result"
    },
    {
     "data": {
      "image/png": "[encoded data removed]",
      "text/plain": [
       "<Figure size 640x480 with 1 Axes>"
      ]
     },
     "metadata": {},
     "output_type": "display_data"
    }
   ],
   "source": [
    "df[\"steepness\"].value_counts().plot(kind=\"bar\")"
   ]
  },
  {
   "cell_type": "code",
   "execution_count": 78,
   "metadata": {},
   "outputs": [
    {
     "data": {
      "application/vnd.plotly.v1+json": {
       "config": {
        "plotlyServerURL": "https://plot.ly"
       },
       "data": [
        {
         "branchvalues": "total",
         "customdata": [
          [
           1
          ],
          [
           1
          ],
          [
           1
          ],
          [
           1
          ],
          [
           31
          ],
          [
           1
          ],
          [
           120
          ],
          [
           123
          ],
          [
           15
          ],
          [
           46
          ],
          [
           265
          ],
          [
           2
          ],
          [
           34
          ],
          [
           9
          ],
          [
           12
          ],
          [
           117
          ],
          [
           3
          ],
          [
           141
          ],
          [
           36
          ],
          [
           96
          ],
          [
           300
          ],
          [
           10
          ],
          [
           354
          ],
          [
           132
          ],
          [
           243
          ],
          [
           234
          ],
          [
           21
          ],
          [
           300
          ],
          [
           125
          ],
          [
           246
          ],
          [
           230
          ],
          [
           20
          ],
          [
           1
          ],
          [
           235
          ],
          [
           123
          ],
          [
           260
          ],
          [
           194
          ],
          [
           28
          ],
          [
           209
          ],
          [
           134
          ],
          [
           268
          ],
          [
           182
          ],
          [
           35
          ],
          [
           241
          ],
          [
           133
          ],
          [
           325
          ],
          [
           195
          ],
          [
           58
          ],
          [
           217
          ],
          [
           111
          ],
          [
           355
          ],
          [
           156
          ],
          [
           78
          ],
          [
           183
          ],
          [
           99
          ],
          [
           365
          ],
          [
           136
          ],
          [
           90
          ],
          [
           1
          ],
          [
           200
          ],
          [
           85
          ],
          [
           375
          ],
          [
           121
          ],
          [
           87
          ],
          [
           6
          ],
          [
           160
          ],
          [
           80
          ],
          [
           308
          ],
          [
           144
          ],
          [
           130
          ],
          [
           6
          ],
          [
           172
          ],
          [
           77
          ],
          [
           419
          ],
          [
           175
          ],
          [
           167
          ],
          [
           6
          ],
          [
           134
          ],
          [
           94
          ],
          [
           411
          ],
          [
           161
          ],
          [
           189
          ],
          [
           5
          ],
          [
           122
          ],
          [
           115
          ],
          [
           381
          ],
          [
           79
          ],
          [
           98
          ],
          [
           9
          ],
          [
           31
          ],
          [
           52
          ],
          [
           142
          ],
          [
           143
          ],
          [
           162
          ],
          [
           20
          ],
          [
           74
          ],
          [
           114
          ],
          [
           252
          ],
          [
           71
          ],
          [
           92
          ],
          [
           22
          ],
          [
           25
          ],
          [
           74
          ],
          [
           109
          ],
          [
           151
          ],
          [
           183
          ],
          [
           26
          ],
          [
           61
          ],
          [
           135
          ],
          [
           238
          ],
          [
           64
          ],
          [
           104
          ],
          [
           17
          ],
          [
           18
          ],
          [
           76
          ],
          [
           96
          ],
          [
           204
          ],
          [
           328
          ],
          [
           57
          ],
          [
           58
          ],
          [
           265
          ],
          [
           260
          ],
          [
           125
          ],
          [
           177
          ],
          [
           45
          ],
          [
           26
          ],
          [
           178
          ],
          [
           130
          ],
          [
           109
          ],
          [
           165
          ],
          [
           41
          ],
          [
           23
          ],
          [
           161
          ],
          [
           88
          ],
          [
           58
          ],
          [
           134
          ],
          [
           34
          ],
          [
           15
          ],
          [
           120
          ],
          [
           63
          ],
          [
           61
          ],
          [
           125
          ],
          [
           28
          ],
          [
           8
          ],
          [
           82
          ],
          [
           49
          ],
          [
           30
          ],
          [
           63
          ],
          [
           20
          ],
          [
           7
          ],
          [
           47
          ],
          [
           26
          ],
          [
           26
          ],
          [
           42
          ],
          [
           16
          ],
          [
           5
          ],
          [
           48
          ],
          [
           21
          ],
          [
           6
          ],
          [
           21
          ],
          [
           14
          ],
          [
           2
          ],
          [
           23
          ],
          [
           6
          ],
          [
           4
          ],
          [
           8
          ],
          [
           8
          ],
          [
           2
          ],
          [
           11
          ],
          [
           2
          ],
          [
           2
          ],
          [
           6
          ],
          [
           4
          ],
          [
           5
          ],
          [
           2
          ],
          [
           1
          ],
          [
           1
          ],
          [
           5
          ],
          [
           6
          ],
          [
           2
          ],
          [
           1
          ],
          [
           1
          ],
          [
           1
          ],
          [
           3896
          ],
          [
           2627
          ],
          [
           393
          ],
          [
           3182
          ],
          [
           2768
          ],
          [
           5596
          ]
         ],
         "domain": {
          "x": [
           0,
           1
          ],
          "y": [
           0,
           1
          ]
         },
         "hovertemplate": "<b>%{label}</b><br>Count: %{customdata[0]:,.0f}<extra></extra>",
         "ids": [
          "other/",
          "slab/",
          "traverse/",
          "wall/",
          "other/1a",
          "slab/1a",
          "other/1b",
          "slab/1b",
          "traverse/1b",
          "wall/1b",
          "other/1c",
          "overhang/1c",
          "slab/1c",
          "traverse/1c",
          "wall/1c",
          "other/2a",
          "overhang/2a",
          "slab/2a",
          "traverse/2a",
          "wall/2a",
          "other/2b",
          "overhang/2b",
          "slab/2b",
          "traverse/2b",
          "wall/2b",
          "other/2c",
          "overhang/2c",
          "slab/2c",
          "traverse/2c",
          "wall/2c",
          "other/3a",
          "overhang/3a",
          "roof/3a",
          "slab/3a",
          "traverse/3a",
          "wall/3a",
          "other/3b",
          "overhang/3b",
          "slab/3b",
          "traverse/3b",
          "wall/3b",
          "other/3c",
          "overhang/3c",
          "slab/3c",
          "traverse/3c",
          "wall/3c",
          "other/4a",
          "overhang/4a",
          "slab/4a",
          "traverse/4a",
          "wall/4a",
          "other/4b",
          "overhang/4b",
          "slab/4b",
          "traverse/4b",
          "wall/4b",
          "other/4c",
          "overhang/4c",
          "roof/4c",
          "slab/4c",
          "traverse/4c",
          "wall/4c",
          "other/5a",
          "overhang/5a",
          "roof/5a",
          "slab/5a",
          "traverse/5a",
          "wall/5a",
          "other/5b",
          "overhang/5b",
          "roof/5b",
          "slab/5b",
          "traverse/5b",
          "wall/5b",
          "other/5c",
          "overhang/5c",
          "roof/5c",
          "slab/5c",
          "traverse/5c",
          "wall/5c",
          "other/6a",
          "overhang/6a",
          "roof/6a",
          "slab/6a",
          "traverse/6a",
          "wall/6a",
          "other/6a+",
          "overhang/6a+",
          "roof/6a+",
          "slab/6a+",
          "traverse/6a+",
          "wall/6a+",
          "other/6b",
          "overhang/6b",
          "roof/6b",
          "slab/6b",
          "traverse/6b",
          "wall/6b",
          "other/6b+",
          "overhang/6b+",
          "roof/6b+",
          "slab/6b+",
          "traverse/6b+",
          "wall/6b+",
          "other/6c",
          "overhang/6c",
          "roof/6c",
          "slab/6c",
          "traverse/6c",
          "wall/6c",
          "other/6c+",
          "overhang/6c+",
          "roof/6c+",
          "slab/6c+",
          "traverse/6c+",
          "wall/6c+",
          "other/7a",
          "overhang/7a",
          "roof/7a",
          "slab/7a",
          "traverse/7a",
          "wall/7a",
          "other/7a+",
          "overhang/7a+",
          "roof/7a+",
          "slab/7a+",
          "traverse/7a+",
          "wall/7a+",
          "other/7b",
          "overhang/7b",
          "roof/7b",
          "slab/7b",
          "traverse/7b",
          "wall/7b",
          "other/7b+",
          "overhang/7b+",
          "roof/7b+",
          "slab/7b+",
          "traverse/7b+",
          "wall/7b+",
          "other/7c",
          "overhang/7c",
          "roof/7c",
          "slab/7c",
          "traverse/7c",
          "wall/7c",
          "other/7c+",
          "overhang/7c+",
          "roof/7c+",
          "slab/7c+",
          "traverse/7c+",
          "wall/7c+",
          "other/8a",
          "overhang/8a",
          "roof/8a",
          "slab/8a",
          "traverse/8a",
          "wall/8a",
          "other/8a+",
          "overhang/8a+",
          "roof/8a+",
          "slab/8a+",
          "traverse/8a+",
          "wall/8a+",
          "other/8b",
          "overhang/8b",
          "roof/8b",
          "slab/8b",
          "traverse/8b",
          "wall/8b",
          "other/8b+",
          "overhang/8b+",
          "roof/8b+",
          "traverse/8b+",
          "wall/8b+",
          "other/8c",
          "overhang/8c",
          "roof/8c",
          "traverse/8c",
          "roof/8c+",
          "traverse/8c+",
          "wall/8c+",
          "traverse/9a",
          "other",
          "overhang",
          "roof",
          "slab",
          "traverse",
          "wall"
         ],
         "labels": [
          "",
          "",
          "",
          "",
          "1a",
          "1a",
          "1b",
          "1b",
          "1b",
          "1b",
          "1c",
          "1c",
          "1c",
          "1c",
          "1c",
          "2a",
          "2a",
          "2a",
          "2a",
          "2a",
          "2b",
          "2b",
          "2b",
          "2b",
          "2b",
          "2c",
          "2c",
          "2c",
          "2c",
          "2c",
          "3a",
          "3a",
          "3a",
          "3a",
          "3a",
          "3a",
          "3b",
          "3b",
          "3b",
          "3b",
          "3b",
          "3c",
          "3c",
          "3c",
          "3c",
          "3c",
          "4a",
          "4a",
          "4a",
          "4a",
          "4a",
          "4b",
          "4b",
          "4b",
          "4b",
          "4b",
          "4c",
          "4c",
          "4c",
          "4c",
          "4c",
          "4c",
          "5a",
          "5a",
          "5a",
          "5a",
          "5a",
          "5a",
          "5b",
          "5b",
          "5b",
          "5b",
          "5b",
          "5b",
          "5c",
          "5c",
          "5c",
          "5c",
          "5c",
          "5c",
          "6a",
          "6a",
          "6a",
          "6a",
          "6a",
          "6a",
          "6a+",
          "6a+",
          "6a+",
          "6a+",
          "6a+",
          "6a+",
          "6b",
          "6b",
          "6b",
          "6b",
          "6b",
          "6b",
          "6b+",
          "6b+",
          "6b+",
          "6b+",
          "6b+",
          "6b+",
          "6c",
          "6c",
          "6c",
          "6c",
          "6c",
          "6c",
          "6c+",
          "6c+",
          "6c+",
          "6c+",
          "6c+",
          "6c+",
          "7a",
          "7a",
          "7a",
          "7a",
          "7a",
          "7a",
          "7a+",
          "7a+",
          "7a+",
          "7a+",
          "7a+",
          "7a+",
          "7b",
          "7b",
          "7b",
          "7b",
          "7b",
          "7b",
          "7b+",
          "7b+",
          "7b+",
          "7b+",
          "7b+",
          "7b+",
          "7c",
          "7c",
          "7c",
          "7c",
          "7c",
          "7c",
          "7c+",
          "7c+",
          "7c+",
          "7c+",
          "7c+",
          "7c+",
          "8a",
          "8a",
          "8a",
          "8a",
          "8a",
          "8a",
          "8a+",
          "8a+",
          "8a+",
          "8a+",
          "8a+",
          "8a+",
          "8b",
          "8b",
          "8b",
          "8b",
          "8b",
          "8b",
          "8b+",
          "8b+",
          "8b+",
          "8b+",
          "8b+",
          "8c",
          "8c",
          "8c",
          "8c",
          "8c+",
          "8c+",
          "8c+",
          "9a",
          "other",
          "overhang",
          "roof",
          "slab",
          "traverse",
          "wall"
         ],
         "marker": {
          "colors": [
           "#FF6B6B",
           "#4ECDC4",
           "#45B7D1",
           "#96CEB4",
           "#FFEEAD",
           "#D4A5A5"
          ],
          "line": {
           "width": 2
          }
         },
         "name": "",
         "parents": [
          "other",
          "slab",
          "traverse",
          "wall",
          "other",
          "slab",
          "other",
          "slab",
          "traverse",
          "wall",
          "other",
          "overhang",
          "slab",
          "traverse",
          "wall",
          "other",
          "overhang",
          "slab",
          "traverse",
          "wall",
          "other",
          "overhang",
          "slab",
          "traverse",
          "wall",
          "other",
          "overhang",
          "slab",
          "traverse",
          "wall",
          "other",
          "overhang",
          "roof",
          "slab",
          "traverse",
          "wall",
          "other",
          "overhang",
          "slab",
          "traverse",
          "wall",
          "other",
          "overhang",
          "slab",
          "traverse",
          "wall",
          "other",
          "overhang",
          "slab",
          "traverse",
          "wall",
          "other",
          "overhang",
          "slab",
          "traverse",
          "wall",
          "other",
          "overhang",
          "roof",
          "slab",
          "traverse",
          "wall",
          "other",
          "overhang",
          "roof",
          "slab",
          "traverse",
          "wall",
          "other",
          "overhang",
          "roof",
          "slab",
          "traverse",
          "wall",
          "other",
          "overhang",
          "roof",
          "slab",
          "traverse",
          "wall",
          "other",
          "overhang",
          "roof",
          "slab",
          "traverse",
          "wall",
          "other",
          "overhang",
          "roof",
          "slab",
          "traverse",
          "wall",
          "other",
          "overhang",
          "roof",
          "slab",
          "traverse",
          "wall",
          "other",
          "overhang",
          "roof",
          "slab",
          "traverse",
          "wall",
          "other",
          "overhang",
          "roof",
          "slab",
          "traverse",
          "wall",
          "other",
          "overhang",
          "roof",
          "slab",
          "traverse",
          "wall",
          "other",
          "overhang",
          "roof",
          "slab",
          "traverse",
          "wall",
          "other",
          "overhang",
          "roof",
          "slab",
          "traverse",
          "wall",
          "other",
          "overhang",
          "roof",
          "slab",
          "traverse",
          "wall",
          "other",
          "overhang",
          "roof",
          "slab",
          "traverse",
          "wall",
          "other",
          "overhang",
          "roof",
          "slab",
          "traverse",
          "wall",
          "other",
          "overhang",
          "roof",
          "slab",
          "traverse",
          "wall",
          "other",
          "overhang",
          "roof",
          "slab",
          "traverse",
          "wall",
          "other",
          "overhang",
          "roof",
          "slab",
          "traverse",
          "wall",
          "other",
          "overhang",
          "roof",
          "slab",
          "traverse",
          "wall",
          "other",
          "overhang",
          "roof",
          "traverse",
          "wall",
          "other",
          "overhang",
          "roof",
          "traverse",
          "roof",
          "traverse",
          "wall",
          "traverse",
          "",
          "",
          "",
          "",
          "",
          ""
         ],
         "textinfo": "label+value",
         "type": "treemap",
         "values": [
          1,
          1,
          1,
          1,
          31,
          1,
          120,
          123,
          15,
          46,
          265,
          2,
          34,
          9,
          12,
          117,
          3,
          141,
          36,
          96,
          300,
          10,
          354,
          132,
          243,
          234,
          21,
          300,
          125,
          246,
          230,
          20,
          1,
          235,
          123,
          260,
          194,
          28,
          209,
          134,
          268,
          182,
          35,
          241,
          133,
          325,
          195,
          58,
          217,
          111,
          355,
          156,
          78,
          183,
          99,
          365,
          136,
          90,
          1,
          200,
          85,
          375,
          121,
          87,
          6,
          160,
          80,
          308,
          144,
          130,
          6,
          172,
          77,
          419,
          175,
          167,
          6,
          134,
          94,
          411,
          161,
          189,
          5,
          122,
          115,
          381,
          79,
          98,
          9,
          31,
          52,
          142,
          143,
          162,
          20,
          74,
          114,
          252,
          71,
          92,
          22,
          25,
          74,
          109,
          151,
          183,
          26,
          61,
          135,
          238,
          64,
          104,
          17,
          18,
          76,
          96,
          204,
          328,
          57,
          58,
          265,
          260,
          125,
          177,
          45,
          26,
          178,
          130,
          109,
          165,
          41,
          23,
          161,
          88,
          58,
          134,
          34,
          15,
          120,
          63,
          61,
          125,
          28,
          8,
          82,
          49,
          30,
          63,
          20,
          7,
          47,
          26,
          26,
          42,
          16,
          5,
          48,
          21,
          6,
          21,
          14,
          2,
          23,
          6,
          4,
          8,
          8,
          2,
          11,
          2,
          2,
          6,
          4,
          5,
          2,
          1,
          1,
          5,
          6,
          2,
          1,
          1,
          1,
          3896,
          2627,
          393,
          3182,
          2768,
          5596
         ]
        }
       ],
       "layout": {
        "legend": {
         "tracegroupgap": 0
        },
        "template": {
         "data": {
          "bar": [
           {
            "error_x": {
             "color": "#2a3f5f"
            },
            "error_y": {
             "color": "#2a3f5f"
            },
            "marker": {
             "line": {
              "color": "#E5ECF6",
              "width": 0.5
             },
             "pattern": {
              "fillmode": "overlay",
              "size": 10,
              "solidity": 0.2
             }
            },
            "type": "bar"
           }
          ],
          "barpolar": [
           {
            "marker": {
             "line": {
              "color": "#E5ECF6",
              "width": 0.5
             },
             "pattern": {
              "fillmode": "overlay",
              "size": 10,
              "solidity": 0.2
             }
            },
            "type": "barpolar"
           }
          ],
          "carpet": [
           {
            "aaxis": {
             "endlinecolor": "#2a3f5f",
             "gridcolor": "white",
             "linecolor": "white",
             "minorgridcolor": "white",
             "startlinecolor": "#2a3f5f"
            },
            "baxis": {
             "endlinecolor": "#2a3f5f",
             "gridcolor": "white",
             "linecolor": "white",
             "minorgridcolor": "white",
             "startlinecolor": "#2a3f5f"
            },
            "type": "carpet"
           }
          ],
          "choropleth": [
           {
            "colorbar": {
             "outlinewidth": 0,
             "ticks": ""
            },
            "type": "choropleth"
           }
          ],
          "contour": [
           {
            "colorbar": {
             "outlinewidth": 0,
             "ticks": ""
            },
            "colorscale": [
             [
              0,
              "#0d0887"
             ],
             [
              0.1111111111111111,
              "#46039f"
             ],
             [
              0.2222222222222222,
              "#7201a8"
             ],
             [
              0.3333333333333333,
              "#9c179e"
             ],
             [
              0.4444444444444444,
              "#bd3786"
             ],
             [
              0.5555555555555556,
              "#d8576b"
             ],
             [
              0.6666666666666666,
              "#ed7953"
             ],
             [
              0.7777777777777778,
              "#fb9f3a"
             ],
             [
              0.8888888888888888,
              "#fdca26"
             ],
             [
              1,
              "#f0f921"
             ]
            ],
            "type": "contour"
           }
          ],
          "contourcarpet": [
           {
            "colorbar": {
             "outlinewidth": 0,
             "ticks": ""
            },
            "type": "contourcarpet"
           }
          ],
          "heatmap": [
           {
            "colorbar": {
             "outlinewidth": 0,
             "ticks": ""
            },
            "colorscale": [
             [
              0,
              "#0d0887"
             ],
             [
              0.1111111111111111,
              "#46039f"
             ],
             [
              0.2222222222222222,
              "#7201a8"
             ],
             [
              0.3333333333333333,
              "#9c179e"
             ],
             [
              0.4444444444444444,
              "#bd3786"
             ],
             [
              0.5555555555555556,
              "#d8576b"
             ],
             [
              0.6666666666666666,
              "#ed7953"
             ],
             [
              0.7777777777777778,
              "#fb9f3a"
             ],
             [
              0.8888888888888888,
              "#fdca26"
             ],
             [
              1,
              "#f0f921"
             ]
            ],
            "type": "heatmap"
           }
          ],
          "heatmapgl": [
           {
            "colorbar": {
             "outlinewidth": 0,
             "ticks": ""
            },
            "colorscale": [
             [
              0,
              "#0d0887"
             ],
             [
              0.1111111111111111,
              "#46039f"
             ],
             [
              0.2222222222222222,
              "#7201a8"
             ],
             [
              0.3333333333333333,
              "#9c179e"
             ],
             [
              0.4444444444444444,
              "#bd3786"
             ],
             [
              0.5555555555555556,
              "#d8576b"
             ],
             [
              0.6666666666666666,
              "#ed7953"
             ],
             [
              0.7777777777777778,
              "#fb9f3a"
             ],
             [
              0.8888888888888888,
              "#fdca26"
             ],
             [
              1,
              "#f0f921"
             ]
            ],
            "type": "heatmapgl"
           }
          ],
          "histogram": [
           {
            "marker": {
             "pattern": {
              "fillmode": "overlay",
              "size": 10,
              "solidity": 0.2
             }
            },
            "type": "histogram"
           }
          ],
          "histogram2d": [
           {
            "colorbar": {
             "outlinewidth": 0,
             "ticks": ""
            },
            "colorscale": [
             [
              0,
              "#0d0887"
             ],
             [
              0.1111111111111111,
              "#46039f"
             ],
             [
              0.2222222222222222,
              "#7201a8"
             ],
             [
              0.3333333333333333,
              "#9c179e"
             ],
             [
              0.4444444444444444,
              "#bd3786"
             ],
             [
              0.5555555555555556,
              "#d8576b"
             ],
             [
              0.6666666666666666,
              "#ed7953"
             ],
             [
              0.7777777777777778,
              "#fb9f3a"
             ],
             [
              0.8888888888888888,
              "#fdca26"
             ],
             [
              1,
              "#f0f921"
             ]
            ],
            "type": "histogram2d"
           }
          ],
          "histogram2dcontour": [
           {
            "colorbar": {
             "outlinewidth": 0,
             "ticks": ""
            },
            "colorscale": [
             [
              0,
              "#0d0887"
             ],
             [
              0.1111111111111111,
              "#46039f"
             ],
             [
              0.2222222222222222,
              "#7201a8"
             ],
             [
              0.3333333333333333,
              "#9c179e"
             ],
             [
              0.4444444444444444,
              "#bd3786"
             ],
             [
              0.5555555555555556,
              "#d8576b"
             ],
             [
              0.6666666666666666,
              "#ed7953"
             ],
             [
              0.7777777777777778,
              "#fb9f3a"
             ],
             [
              0.8888888888888888,
              "#fdca26"
             ],
             [
              1,
              "#f0f921"
             ]
            ],
            "type": "histogram2dcontour"
           }
          ],
          "mesh3d": [
           {
            "colorbar": {
             "outlinewidth": 0,
             "ticks": ""
            },
            "type": "mesh3d"
           }
          ],
          "parcoords": [
           {
            "line": {
             "colorbar": {
              "outlinewidth": 0,
              "ticks": ""
             }
            },
            "type": "parcoords"
           }
          ],
          "pie": [
           {
            "automargin": true,
            "type": "pie"
           }
          ],
          "scatter": [
           {
            "fillpattern": {
             "fillmode": "overlay",
             "size": 10,
             "solidity": 0.2
            },
            "type": "scatter"
           }
          ],
          "scatter3d": [
           {
            "line": {
             "colorbar": {
              "outlinewidth": 0,
              "ticks": ""
             }
            },
            "marker": {
             "colorbar": {
              "outlinewidth": 0,
              "ticks": ""
             }
            },
            "type": "scatter3d"
           }
          ],
          "scattercarpet": [
           {
            "marker": {
             "colorbar": {
              "outlinewidth": 0,
              "ticks": ""
             }
            },
            "type": "scattercarpet"
           }
          ],
          "scattergeo": [
           {
            "marker": {
             "colorbar": {
              "outlinewidth": 0,
              "ticks": ""
             }
            },
            "type": "scattergeo"
           }
          ],
          "scattergl": [
           {
            "marker": {
             "colorbar": {
              "outlinewidth": 0,
              "ticks": ""
             }
            },
            "type": "scattergl"
           }
          ],
          "scattermapbox": [
           {
            "marker": {
             "colorbar": {
              "outlinewidth": 0,
              "ticks": ""
             }
            },
            "type": "scattermapbox"
           }
          ],
          "scatterpolar": [
           {
            "marker": {
             "colorbar": {
              "outlinewidth": 0,
              "ticks": ""
             }
            },
            "type": "scatterpolar"
           }
          ],
          "scatterpolargl": [
           {
            "marker": {
             "colorbar": {
              "outlinewidth": 0,
              "ticks": ""
             }
            },
            "type": "scatterpolargl"
           }
          ],
          "scatterternary": [
           {
            "marker": {
             "colorbar": {
              "outlinewidth": 0,
              "ticks": ""
             }
            },
            "type": "scatterternary"
           }
          ],
          "surface": [
           {
            "colorbar": {
             "outlinewidth": 0,
             "ticks": ""
            },
            "colorscale": [
             [
              0,
              "#0d0887"
             ],
             [
              0.1111111111111111,
              "#46039f"
             ],
             [
              0.2222222222222222,
              "#7201a8"
             ],
             [
              0.3333333333333333,
              "#9c179e"
             ],
             [
              0.4444444444444444,
              "#bd3786"
             ],
             [
              0.5555555555555556,
              "#d8576b"
             ],
             [
              0.6666666666666666,
              "#ed7953"
             ],
             [
              0.7777777777777778,
              "#fb9f3a"
             ],
             [
              0.8888888888888888,
              "#fdca26"
             ],
             [
              1,
              "#f0f921"
             ]
            ],
            "type": "surface"
           }
          ],
          "table": [
           {
            "cells": {
             "fill": {
              "color": "#EBF0F8"
             },
             "line": {
              "color": "white"
             }
            },
            "header": {
             "fill": {
              "color": "#C8D4E3"
             },
             "line": {
              "color": "white"
             }
            },
            "type": "table"
           }
          ]
         },
         "layout": {
          "annotationdefaults": {
           "arrowcolor": "#2a3f5f",
           "arrowhead": 0,
           "arrowwidth": 1
          },
          "autotypenumbers": "strict",
          "coloraxis": {
           "colorbar": {
            "outlinewidth": 0,
            "ticks": ""
           }
          },
          "colorscale": {
           "diverging": [
            [
             0,
             "#8e0152"
            ],
            [
             0.1,
             "#c51b7d"
            ],
            [
             0.2,
             "#de77ae"
            ],
            [
             0.3,
             "#f1b6da"
            ],
            [
             0.4,
             "#fde0ef"
            ],
            [
             0.5,
             "#f7f7f7"
            ],
            [
             0.6,
             "#e6f5d0"
            ],
            [
             0.7,
             "#b8e186"
            ],
            [
             0.8,
             "#7fbc41"
            ],
            [
             0.9,
             "#4d9221"
            ],
            [
             1,
             "#276419"
            ]
           ],
           "sequential": [
            [
             0,
             "#0d0887"
            ],
            [
             0.1111111111111111,
             "#46039f"
            ],
            [
             0.2222222222222222,
             "#7201a8"
            ],
            [
             0.3333333333333333,
             "#9c179e"
            ],
            [
             0.4444444444444444,
             "#bd3786"
            ],
            [
             0.5555555555555556,
             "#d8576b"
            ],
            [
             0.6666666666666666,
             "#ed7953"
            ],
            [
             0.7777777777777778,
             "#fb9f3a"
            ],
            [
             0.8888888888888888,
             "#fdca26"
            ],
            [
             1,
             "#f0f921"
            ]
           ],
           "sequentialminus": [
            [
             0,
             "#0d0887"
            ],
            [
             0.1111111111111111,
             "#46039f"
            ],
            [
             0.2222222222222222,
             "#7201a8"
            ],
            [
             0.3333333333333333,
             "#9c179e"
            ],
            [
             0.4444444444444444,
             "#bd3786"
            ],
            [
             0.5555555555555556,
             "#d8576b"
            ],
            [
             0.6666666666666666,
             "#ed7953"
            ],
            [
             0.7777777777777778,
             "#fb9f3a"
            ],
            [
             0.8888888888888888,
             "#fdca26"
            ],
            [
             1,
             "#f0f921"
            ]
           ]
          },
          "colorway": [
           "#636efa",
           "#EF553B",
           "#00cc96",
           "#ab63fa",
           "#FFA15A",
           "#19d3f3",
           "#FF6692",
           "#B6E880",
           "#FF97FF",
           "#FECB52"
          ],
          "font": {
           "color": "#2a3f5f"
          },
          "geo": {
           "bgcolor": "white",
           "lakecolor": "white",
           "landcolor": "#E5ECF6",
           "showlakes": true,
           "showland": true,
           "subunitcolor": "white"
          },
          "hoverlabel": {
           "align": "left"
          },
          "hovermode": "closest",
          "mapbox": {
           "style": "light"
          },
          "paper_bgcolor": "white",
          "plot_bgcolor": "#E5ECF6",
          "polar": {
           "angularaxis": {
            "gridcolor": "white",
            "linecolor": "white",
            "ticks": ""
           },
           "bgcolor": "#E5ECF6",
           "radialaxis": {
            "gridcolor": "white",
            "linecolor": "white",
            "ticks": ""
           }
          },
          "scene": {
           "xaxis": {
            "backgroundcolor": "#E5ECF6",
            "gridcolor": "white",
            "gridwidth": 2,
            "linecolor": "white",
            "showbackground": true,
            "ticks": "",
            "zerolinecolor": "white"
           },
           "yaxis": {
            "backgroundcolor": "#E5ECF6",
            "gridcolor": "white",
            "gridwidth": 2,
            "linecolor": "white",
            "showbackground": true,
            "ticks": "",
            "zerolinecolor": "white"
           },
           "zaxis": {
            "backgroundcolor": "#E5ECF6",
            "gridcolor": "white",
            "gridwidth": 2,
            "linecolor": "white",
            "showbackground": true,
            "ticks": "",
            "zerolinecolor": "white"
           }
          },
          "shapedefaults": {
           "line": {
            "color": "#2a3f5f"
           }
          },
          "ternary": {
           "aaxis": {
            "gridcolor": "white",
            "linecolor": "white",
            "ticks": ""
           },
           "baxis": {
            "gridcolor": "white",
            "linecolor": "white",
            "ticks": ""
           },
           "bgcolor": "#E5ECF6",
           "caxis": {
            "gridcolor": "white",
            "linecolor": "white",
            "ticks": ""
           }
          },
          "title": {
           "x": 0.05
          },
          "xaxis": {
           "automargin": true,
           "gridcolor": "white",
           "linecolor": "white",
           "ticks": "",
           "title": {
            "standoff": 15
           },
           "zerolinecolor": "white",
           "zerolinewidth": 2
          },
          "yaxis": {
           "automargin": true,
           "gridcolor": "white",
           "linecolor": "white",
           "ticks": "",
           "title": {
            "standoff": 15
           },
           "zerolinecolor": "white",
           "zerolinewidth": 2
          }
         }
        },
        "title": {
         "text": "Boulder Problems by Steepness and Grade"
        }
       }
      }
     },
     "metadata": {},
     "output_type": "display_data"
    }
   ],
   "source": [
    "import plotly.express as px\n",
    "\n",
    "# Create a count of problems by steepness and grade\n",
    "treemap_data = df.groupby(['steepness', 'grade']).size().reset_index(name='count')\n",
    "\n",
    "# Create the treemap with vibrant colors and count labels\n",
    "fig = px.treemap(treemap_data, \n",
    "                 path=['steepness', 'grade'],\n",
    "                 values='count',\n",
    "                 title='Boulder Problems by Steepness and Grade',\n",
    "                 color_continuous_scale='Viridis', # More vibrant colorscale\n",
    "                 custom_data=['count'])\n",
    "\n",
    "# Update hover template to show count and add some style\n",
    "fig.update_traces(\n",
    "    hovertemplate='<b>%{label}</b><br>Count: %{customdata[0]:,.0f}<extra></extra>',\n",
    "    textinfo='label+value',\n",
    "    marker=dict(\n",
    "        colors=['#FF6B6B', '#4ECDC4', '#45B7D1', '#96CEB4', '#FFEEAD', '#D4A5A5'],\n",
    "        line=dict(width=2)\n",
    "    )\n",
    ")\n",
    "\n",
    "fig.show()\n"
   ]
  },
  {
   "cell_type": "code",
   "execution_count": 79,
   "metadata": {},
   "outputs": [
    {
     "data": {
      "application/vnd.plotly.v1+json": {
       "config": {
        "plotlyServerURL": "https://plot.ly"
       },
       "data": [
        {
         "alignmentgroup": "True",
         "customdata": [
          [
           "",
           "other"
          ],
          [
           "",
           "slab"
          ],
          [
           "",
           "traverse"
          ],
          [
           "",
           "wall"
          ],
          [
           "1a",
           "other"
          ],
          [
           "1a",
           "slab"
          ],
          [
           "1b",
           "other"
          ],
          [
           "1b",
           "slab"
          ],
          [
           "1b",
           "traverse"
          ],
          [
           "1b",
           "wall"
          ],
          [
           "1c",
           "other"
          ],
          [
           "1c",
           "overhang"
          ],
          [
           "1c",
           "slab"
          ],
          [
           "1c",
           "traverse"
          ],
          [
           "1c",
           "wall"
          ],
          [
           "2a",
           "other"
          ],
          [
           "2a",
           "overhang"
          ],
          [
           "2a",
           "slab"
          ],
          [
           "2a",
           "traverse"
          ],
          [
           "2a",
           "wall"
          ],
          [
           "2b",
           "other"
          ],
          [
           "2b",
           "overhang"
          ],
          [
           "2b",
           "slab"
          ],
          [
           "2b",
           "traverse"
          ],
          [
           "2b",
           "wall"
          ],
          [
           "2c",
           "other"
          ],
          [
           "2c",
           "overhang"
          ],
          [
           "2c",
           "slab"
          ],
          [
           "2c",
           "traverse"
          ],
          [
           "2c",
           "wall"
          ],
          [
           "3a",
           "other"
          ],
          [
           "3a",
           "overhang"
          ],
          [
           "3a",
           "roof"
          ],
          [
           "3a",
           "slab"
          ],
          [
           "3a",
           "traverse"
          ],
          [
           "3a",
           "wall"
          ],
          [
           "3b",
           "other"
          ],
          [
           "3b",
           "overhang"
          ],
          [
           "3b",
           "slab"
          ],
          [
           "3b",
           "traverse"
          ],
          [
           "3b",
           "wall"
          ],
          [
           "3c",
           "other"
          ],
          [
           "3c",
           "overhang"
          ],
          [
           "3c",
           "slab"
          ],
          [
           "3c",
           "traverse"
          ],
          [
           "3c",
           "wall"
          ],
          [
           "4a",
           "other"
          ],
          [
           "4a",
           "overhang"
          ],
          [
           "4a",
           "slab"
          ],
          [
           "4a",
           "traverse"
          ],
          [
           "4a",
           "wall"
          ],
          [
           "4b",
           "other"
          ],
          [
           "4b",
           "overhang"
          ],
          [
           "4b",
           "slab"
          ],
          [
           "4b",
           "traverse"
          ],
          [
           "4b",
           "wall"
          ],
          [
           "4c",
           "other"
          ],
          [
           "4c",
           "overhang"
          ],
          [
           "4c",
           "roof"
          ],
          [
           "4c",
           "slab"
          ],
          [
           "4c",
           "traverse"
          ],
          [
           "4c",
           "wall"
          ],
          [
           "5a",
           "other"
          ],
          [
           "5a",
           "overhang"
          ],
          [
           "5a",
           "roof"
          ],
          [
           "5a",
           "slab"
          ],
          [
           "5a",
           "traverse"
          ],
          [
           "5a",
           "wall"
          ],
          [
           "5b",
           "other"
          ],
          [
           "5b",
           "overhang"
          ],
          [
           "5b",
           "roof"
          ],
          [
           "5b",
           "slab"
          ],
          [
           "5b",
           "traverse"
          ],
          [
           "5b",
           "wall"
          ],
          [
           "5c",
           "other"
          ],
          [
           "5c",
           "overhang"
          ],
          [
           "5c",
           "roof"
          ],
          [
           "5c",
           "slab"
          ],
          [
           "5c",
           "traverse"
          ],
          [
           "5c",
           "wall"
          ],
          [
           "6a",
           "other"
          ],
          [
           "6a",
           "overhang"
          ],
          [
           "6a",
           "roof"
          ],
          [
           "6a",
           "slab"
          ],
          [
           "6a",
           "traverse"
          ],
          [
           "6a",
           "wall"
          ],
          [
           "6a+",
           "other"
          ],
          [
           "6a+",
           "overhang"
          ],
          [
           "6a+",
           "roof"
          ],
          [
           "6a+",
           "slab"
          ],
          [
           "6a+",
           "traverse"
          ],
          [
           "6a+",
           "wall"
          ],
          [
           "6b",
           "other"
          ],
          [
           "6b",
           "overhang"
          ],
          [
           "6b",
           "roof"
          ],
          [
           "6b",
           "slab"
          ],
          [
           "6b",
           "traverse"
          ],
          [
           "6b",
           "wall"
          ],
          [
           "6b+",
           "other"
          ],
          [
           "6b+",
           "overhang"
          ],
          [
           "6b+",
           "roof"
          ],
          [
           "6b+",
           "slab"
          ],
          [
           "6b+",
           "traverse"
          ],
          [
           "6b+",
           "wall"
          ],
          [
           "6c",
           "other"
          ],
          [
           "6c",
           "overhang"
          ],
          [
           "6c",
           "roof"
          ],
          [
           "6c",
           "slab"
          ],
          [
           "6c",
           "traverse"
          ],
          [
           "6c",
           "wall"
          ],
          [
           "6c+",
           "other"
          ],
          [
           "6c+",
           "overhang"
          ],
          [
           "6c+",
           "roof"
          ],
          [
           "6c+",
           "slab"
          ],
          [
           "6c+",
           "traverse"
          ],
          [
           "6c+",
           "wall"
          ],
          [
           "7a",
           "other"
          ],
          [
           "7a",
           "overhang"
          ],
          [
           "7a",
           "roof"
          ],
          [
           "7a",
           "slab"
          ],
          [
           "7a",
           "traverse"
          ],
          [
           "7a",
           "wall"
          ],
          [
           "7a+",
           "other"
          ],
          [
           "7a+",
           "overhang"
          ],
          [
           "7a+",
           "roof"
          ],
          [
           "7a+",
           "slab"
          ],
          [
           "7a+",
           "traverse"
          ],
          [
           "7a+",
           "wall"
          ],
          [
           "7b",
           "other"
          ],
          [
           "7b",
           "overhang"
          ],
          [
           "7b",
           "roof"
          ],
          [
           "7b",
           "slab"
          ],
          [
           "7b",
           "traverse"
          ],
          [
           "7b",
           "wall"
          ],
          [
           "7b+",
           "other"
          ],
          [
           "7b+",
           "overhang"
          ],
          [
           "7b+",
           "roof"
          ],
          [
           "7b+",
           "slab"
          ],
          [
           "7b+",
           "traverse"
          ],
          [
           "7b+",
           "wall"
          ],
          [
           "7c",
           "other"
          ],
          [
           "7c",
           "overhang"
          ],
          [
           "7c",
           "roof"
          ],
          [
           "7c",
           "slab"
          ],
          [
           "7c",
           "traverse"
          ],
          [
           "7c",
           "wall"
          ],
          [
           "7c+",
           "other"
          ],
          [
           "7c+",
           "overhang"
          ],
          [
           "7c+",
           "roof"
          ],
          [
           "7c+",
           "slab"
          ],
          [
           "7c+",
           "traverse"
          ],
          [
           "7c+",
           "wall"
          ],
          [
           "8a",
           "other"
          ],
          [
           "8a",
           "overhang"
          ],
          [
           "8a",
           "roof"
          ],
          [
           "8a",
           "slab"
          ],
          [
           "8a",
           "traverse"
          ],
          [
           "8a",
           "wall"
          ],
          [
           "8a+",
           "other"
          ],
          [
           "8a+",
           "overhang"
          ],
          [
           "8a+",
           "roof"
          ],
          [
           "8a+",
           "slab"
          ],
          [
           "8a+",
           "traverse"
          ],
          [
           "8a+",
           "wall"
          ],
          [
           "8b",
           "other"
          ],
          [
           "8b",
           "overhang"
          ],
          [
           "8b",
           "roof"
          ],
          [
           "8b",
           "slab"
          ],
          [
           "8b",
           "traverse"
          ],
          [
           "8b",
           "wall"
          ],
          [
           "8b+",
           "other"
          ],
          [
           "8b+",
           "overhang"
          ],
          [
           "8b+",
           "roof"
          ],
          [
           "8b+",
           "traverse"
          ],
          [
           "8b+",
           "wall"
          ],
          [
           "8c",
           "other"
          ],
          [
           "8c",
           "overhang"
          ],
          [
           "8c",
           "roof"
          ],
          [
           "8c",
           "traverse"
          ],
          [
           "8c+",
           "roof"
          ],
          [
           "8c+",
           "traverse"
          ],
          [
           "8c+",
           "wall"
          ],
          [
           "9a",
           "traverse"
          ]
         ],
         "hovertemplate": "<b>%{x}</b><br>Steepness: %{customdata[1]}<br>Count: %{y}<extra></extra>",
         "legendgroup": "other",
         "marker": {
          "color": "#FF6B6B",
          "pattern": {
           "shape": ""
          }
         },
         "name": "other",
         "offsetgroup": "other",
         "orientation": "v",
         "showlegend": true,
         "textposition": "auto",
         "type": "bar",
         "x": [
          "",
          "1a",
          "1b",
          "1c",
          "2a",
          "2b",
          "2c",
          "3a",
          "3b",
          "3c",
          "4a",
          "4b",
          "4c",
          "5a",
          "5b",
          "5c",
          "6a",
          "6a+",
          "6b",
          "6b+",
          "6c",
          "6c+",
          "7a",
          "7a+",
          "7b",
          "7b+",
          "7c",
          "7c+",
          "8a",
          "8a+",
          "8b",
          "8b+",
          "8c"
         ],
         "xaxis": "x",
         "y": [
          1,
          31,
          120,
          265,
          117,
          300,
          234,
          230,
          194,
          182,
          195,
          156,
          136,
          121,
          144,
          175,
          161,
          79,
          143,
          71,
          151,
          64,
          204,
          125,
          109,
          58,
          61,
          30,
          26,
          6,
          4,
          2,
          1
         ],
         "yaxis": "y"
        },
        {
         "alignmentgroup": "True",
         "customdata": [
          [
           "",
           "other"
          ],
          [
           "",
           "slab"
          ],
          [
           "",
           "traverse"
          ],
          [
           "",
           "wall"
          ],
          [
           "1a",
           "other"
          ],
          [
           "1a",
           "slab"
          ],
          [
           "1b",
           "other"
          ],
          [
           "1b",
           "slab"
          ],
          [
           "1b",
           "traverse"
          ],
          [
           "1b",
           "wall"
          ],
          [
           "1c",
           "other"
          ],
          [
           "1c",
           "overhang"
          ],
          [
           "1c",
           "slab"
          ],
          [
           "1c",
           "traverse"
          ],
          [
           "1c",
           "wall"
          ],
          [
           "2a",
           "other"
          ],
          [
           "2a",
           "overhang"
          ],
          [
           "2a",
           "slab"
          ],
          [
           "2a",
           "traverse"
          ],
          [
           "2a",
           "wall"
          ],
          [
           "2b",
           "other"
          ],
          [
           "2b",
           "overhang"
          ],
          [
           "2b",
           "slab"
          ],
          [
           "2b",
           "traverse"
          ],
          [
           "2b",
           "wall"
          ],
          [
           "2c",
           "other"
          ],
          [
           "2c",
           "overhang"
          ],
          [
           "2c",
           "slab"
          ],
          [
           "2c",
           "traverse"
          ],
          [
           "2c",
           "wall"
          ],
          [
           "3a",
           "other"
          ],
          [
           "3a",
           "overhang"
          ],
          [
           "3a",
           "roof"
          ],
          [
           "3a",
           "slab"
          ],
          [
           "3a",
           "traverse"
          ],
          [
           "3a",
           "wall"
          ],
          [
           "3b",
           "other"
          ],
          [
           "3b",
           "overhang"
          ],
          [
           "3b",
           "slab"
          ],
          [
           "3b",
           "traverse"
          ],
          [
           "3b",
           "wall"
          ],
          [
           "3c",
           "other"
          ],
          [
           "3c",
           "overhang"
          ],
          [
           "3c",
           "slab"
          ],
          [
           "3c",
           "traverse"
          ],
          [
           "3c",
           "wall"
          ],
          [
           "4a",
           "other"
          ],
          [
           "4a",
           "overhang"
          ],
          [
           "4a",
           "slab"
          ],
          [
           "4a",
           "traverse"
          ],
          [
           "4a",
           "wall"
          ],
          [
           "4b",
           "other"
          ],
          [
           "4b",
           "overhang"
          ],
          [
           "4b",
           "slab"
          ],
          [
           "4b",
           "traverse"
          ],
          [
           "4b",
           "wall"
          ],
          [
           "4c",
           "other"
          ],
          [
           "4c",
           "overhang"
          ],
          [
           "4c",
           "roof"
          ],
          [
           "4c",
           "slab"
          ],
          [
           "4c",
           "traverse"
          ],
          [
           "4c",
           "wall"
          ],
          [
           "5a",
           "other"
          ],
          [
           "5a",
           "overhang"
          ],
          [
           "5a",
           "roof"
          ],
          [
           "5a",
           "slab"
          ],
          [
           "5a",
           "traverse"
          ],
          [
           "5a",
           "wall"
          ],
          [
           "5b",
           "other"
          ],
          [
           "5b",
           "overhang"
          ],
          [
           "5b",
           "roof"
          ],
          [
           "5b",
           "slab"
          ],
          [
           "5b",
           "traverse"
          ],
          [
           "5b",
           "wall"
          ],
          [
           "5c",
           "other"
          ],
          [
           "5c",
           "overhang"
          ],
          [
           "5c",
           "roof"
          ],
          [
           "5c",
           "slab"
          ],
          [
           "5c",
           "traverse"
          ],
          [
           "5c",
           "wall"
          ],
          [
           "6a",
           "other"
          ],
          [
           "6a",
           "overhang"
          ],
          [
           "6a",
           "roof"
          ],
          [
           "6a",
           "slab"
          ],
          [
           "6a",
           "traverse"
          ],
          [
           "6a",
           "wall"
          ],
          [
           "6a+",
           "other"
          ],
          [
           "6a+",
           "overhang"
          ],
          [
           "6a+",
           "roof"
          ],
          [
           "6a+",
           "slab"
          ],
          [
           "6a+",
           "traverse"
          ],
          [
           "6a+",
           "wall"
          ],
          [
           "6b",
           "other"
          ],
          [
           "6b",
           "overhang"
          ],
          [
           "6b",
           "roof"
          ],
          [
           "6b",
           "slab"
          ],
          [
           "6b",
           "traverse"
          ],
          [
           "6b",
           "wall"
          ],
          [
           "6b+",
           "other"
          ],
          [
           "6b+",
           "overhang"
          ],
          [
           "6b+",
           "roof"
          ],
          [
           "6b+",
           "slab"
          ],
          [
           "6b+",
           "traverse"
          ],
          [
           "6b+",
           "wall"
          ],
          [
           "6c",
           "other"
          ],
          [
           "6c",
           "overhang"
          ],
          [
           "6c",
           "roof"
          ],
          [
           "6c",
           "slab"
          ],
          [
           "6c",
           "traverse"
          ],
          [
           "6c",
           "wall"
          ],
          [
           "6c+",
           "other"
          ],
          [
           "6c+",
           "overhang"
          ],
          [
           "6c+",
           "roof"
          ],
          [
           "6c+",
           "slab"
          ],
          [
           "6c+",
           "traverse"
          ],
          [
           "6c+",
           "wall"
          ],
          [
           "7a",
           "other"
          ],
          [
           "7a",
           "overhang"
          ],
          [
           "7a",
           "roof"
          ],
          [
           "7a",
           "slab"
          ],
          [
           "7a",
           "traverse"
          ],
          [
           "7a",
           "wall"
          ],
          [
           "7a+",
           "other"
          ],
          [
           "7a+",
           "overhang"
          ],
          [
           "7a+",
           "roof"
          ],
          [
           "7a+",
           "slab"
          ],
          [
           "7a+",
           "traverse"
          ],
          [
           "7a+",
           "wall"
          ],
          [
           "7b",
           "other"
          ],
          [
           "7b",
           "overhang"
          ],
          [
           "7b",
           "roof"
          ],
          [
           "7b",
           "slab"
          ],
          [
           "7b",
           "traverse"
          ],
          [
           "7b",
           "wall"
          ],
          [
           "7b+",
           "other"
          ],
          [
           "7b+",
           "overhang"
          ],
          [
           "7b+",
           "roof"
          ],
          [
           "7b+",
           "slab"
          ],
          [
           "7b+",
           "traverse"
          ],
          [
           "7b+",
           "wall"
          ],
          [
           "7c",
           "other"
          ],
          [
           "7c",
           "overhang"
          ],
          [
           "7c",
           "roof"
          ],
          [
           "7c",
           "slab"
          ],
          [
           "7c",
           "traverse"
          ],
          [
           "7c",
           "wall"
          ],
          [
           "7c+",
           "other"
          ],
          [
           "7c+",
           "overhang"
          ],
          [
           "7c+",
           "roof"
          ],
          [
           "7c+",
           "slab"
          ],
          [
           "7c+",
           "traverse"
          ],
          [
           "7c+",
           "wall"
          ],
          [
           "8a",
           "other"
          ],
          [
           "8a",
           "overhang"
          ],
          [
           "8a",
           "roof"
          ],
          [
           "8a",
           "slab"
          ],
          [
           "8a",
           "traverse"
          ],
          [
           "8a",
           "wall"
          ],
          [
           "8a+",
           "other"
          ],
          [
           "8a+",
           "overhang"
          ],
          [
           "8a+",
           "roof"
          ],
          [
           "8a+",
           "slab"
          ],
          [
           "8a+",
           "traverse"
          ],
          [
           "8a+",
           "wall"
          ],
          [
           "8b",
           "other"
          ],
          [
           "8b",
           "overhang"
          ],
          [
           "8b",
           "roof"
          ],
          [
           "8b",
           "slab"
          ],
          [
           "8b",
           "traverse"
          ],
          [
           "8b",
           "wall"
          ],
          [
           "8b+",
           "other"
          ],
          [
           "8b+",
           "overhang"
          ],
          [
           "8b+",
           "roof"
          ],
          [
           "8b+",
           "traverse"
          ],
          [
           "8b+",
           "wall"
          ],
          [
           "8c",
           "other"
          ],
          [
           "8c",
           "overhang"
          ],
          [
           "8c",
           "roof"
          ],
          [
           "8c",
           "traverse"
          ],
          [
           "8c+",
           "roof"
          ],
          [
           "8c+",
           "traverse"
          ],
          [
           "8c+",
           "wall"
          ],
          [
           "9a",
           "traverse"
          ]
         ],
         "hovertemplate": "<b>%{x}</b><br>Steepness: %{customdata[1]}<br>Count: %{y}<extra></extra>",
         "legendgroup": "slab",
         "marker": {
          "color": "#4ECDC4",
          "pattern": {
           "shape": ""
          }
         },
         "name": "slab",
         "offsetgroup": "slab",
         "orientation": "v",
         "showlegend": true,
         "textposition": "auto",
         "type": "bar",
         "x": [
          "",
          "1a",
          "1b",
          "1c",
          "2a",
          "2b",
          "2c",
          "3a",
          "3b",
          "3c",
          "4a",
          "4b",
          "4c",
          "5a",
          "5b",
          "5c",
          "6a",
          "6a+",
          "6b",
          "6b+",
          "6c",
          "6c+",
          "7a",
          "7a+",
          "7b",
          "7b+",
          "7c",
          "7c+",
          "8a",
          "8a+",
          "8b"
         ],
         "xaxis": "x",
         "y": [
          1,
          1,
          123,
          34,
          141,
          354,
          300,
          235,
          209,
          241,
          217,
          183,
          200,
          160,
          172,
          134,
          122,
          31,
          74,
          25,
          61,
          18,
          58,
          26,
          23,
          15,
          8,
          7,
          5,
          2,
          2
         ],
         "yaxis": "y"
        },
        {
         "alignmentgroup": "True",
         "customdata": [
          [
           "",
           "other"
          ],
          [
           "",
           "slab"
          ],
          [
           "",
           "traverse"
          ],
          [
           "",
           "wall"
          ],
          [
           "1a",
           "other"
          ],
          [
           "1a",
           "slab"
          ],
          [
           "1b",
           "other"
          ],
          [
           "1b",
           "slab"
          ],
          [
           "1b",
           "traverse"
          ],
          [
           "1b",
           "wall"
          ],
          [
           "1c",
           "other"
          ],
          [
           "1c",
           "overhang"
          ],
          [
           "1c",
           "slab"
          ],
          [
           "1c",
           "traverse"
          ],
          [
           "1c",
           "wall"
          ],
          [
           "2a",
           "other"
          ],
          [
           "2a",
           "overhang"
          ],
          [
           "2a",
           "slab"
          ],
          [
           "2a",
           "traverse"
          ],
          [
           "2a",
           "wall"
          ],
          [
           "2b",
           "other"
          ],
          [
           "2b",
           "overhang"
          ],
          [
           "2b",
           "slab"
          ],
          [
           "2b",
           "traverse"
          ],
          [
           "2b",
           "wall"
          ],
          [
           "2c",
           "other"
          ],
          [
           "2c",
           "overhang"
          ],
          [
           "2c",
           "slab"
          ],
          [
           "2c",
           "traverse"
          ],
          [
           "2c",
           "wall"
          ],
          [
           "3a",
           "other"
          ],
          [
           "3a",
           "overhang"
          ],
          [
           "3a",
           "roof"
          ],
          [
           "3a",
           "slab"
          ],
          [
           "3a",
           "traverse"
          ],
          [
           "3a",
           "wall"
          ],
          [
           "3b",
           "other"
          ],
          [
           "3b",
           "overhang"
          ],
          [
           "3b",
           "slab"
          ],
          [
           "3b",
           "traverse"
          ],
          [
           "3b",
           "wall"
          ],
          [
           "3c",
           "other"
          ],
          [
           "3c",
           "overhang"
          ],
          [
           "3c",
           "slab"
          ],
          [
           "3c",
           "traverse"
          ],
          [
           "3c",
           "wall"
          ],
          [
           "4a",
           "other"
          ],
          [
           "4a",
           "overhang"
          ],
          [
           "4a",
           "slab"
          ],
          [
           "4a",
           "traverse"
          ],
          [
           "4a",
           "wall"
          ],
          [
           "4b",
           "other"
          ],
          [
           "4b",
           "overhang"
          ],
          [
           "4b",
           "slab"
          ],
          [
           "4b",
           "traverse"
          ],
          [
           "4b",
           "wall"
          ],
          [
           "4c",
           "other"
          ],
          [
           "4c",
           "overhang"
          ],
          [
           "4c",
           "roof"
          ],
          [
           "4c",
           "slab"
          ],
          [
           "4c",
           "traverse"
          ],
          [
           "4c",
           "wall"
          ],
          [
           "5a",
           "other"
          ],
          [
           "5a",
           "overhang"
          ],
          [
           "5a",
           "roof"
          ],
          [
           "5a",
           "slab"
          ],
          [
           "5a",
           "traverse"
          ],
          [
           "5a",
           "wall"
          ],
          [
           "5b",
           "other"
          ],
          [
           "5b",
           "overhang"
          ],
          [
           "5b",
           "roof"
          ],
          [
           "5b",
           "slab"
          ],
          [
           "5b",
           "traverse"
          ],
          [
           "5b",
           "wall"
          ],
          [
           "5c",
           "other"
          ],
          [
           "5c",
           "overhang"
          ],
          [
           "5c",
           "roof"
          ],
          [
           "5c",
           "slab"
          ],
          [
           "5c",
           "traverse"
          ],
          [
           "5c",
           "wall"
          ],
          [
           "6a",
           "other"
          ],
          [
           "6a",
           "overhang"
          ],
          [
           "6a",
           "roof"
          ],
          [
           "6a",
           "slab"
          ],
          [
           "6a",
           "traverse"
          ],
          [
           "6a",
           "wall"
          ],
          [
           "6a+",
           "other"
          ],
          [
           "6a+",
           "overhang"
          ],
          [
           "6a+",
           "roof"
          ],
          [
           "6a+",
           "slab"
          ],
          [
           "6a+",
           "traverse"
          ],
          [
           "6a+",
           "wall"
          ],
          [
           "6b",
           "other"
          ],
          [
           "6b",
           "overhang"
          ],
          [
           "6b",
           "roof"
          ],
          [
           "6b",
           "slab"
          ],
          [
           "6b",
           "traverse"
          ],
          [
           "6b",
           "wall"
          ],
          [
           "6b+",
           "other"
          ],
          [
           "6b+",
           "overhang"
          ],
          [
           "6b+",
           "roof"
          ],
          [
           "6b+",
           "slab"
          ],
          [
           "6b+",
           "traverse"
          ],
          [
           "6b+",
           "wall"
          ],
          [
           "6c",
           "other"
          ],
          [
           "6c",
           "overhang"
          ],
          [
           "6c",
           "roof"
          ],
          [
           "6c",
           "slab"
          ],
          [
           "6c",
           "traverse"
          ],
          [
           "6c",
           "wall"
          ],
          [
           "6c+",
           "other"
          ],
          [
           "6c+",
           "overhang"
          ],
          [
           "6c+",
           "roof"
          ],
          [
           "6c+",
           "slab"
          ],
          [
           "6c+",
           "traverse"
          ],
          [
           "6c+",
           "wall"
          ],
          [
           "7a",
           "other"
          ],
          [
           "7a",
           "overhang"
          ],
          [
           "7a",
           "roof"
          ],
          [
           "7a",
           "slab"
          ],
          [
           "7a",
           "traverse"
          ],
          [
           "7a",
           "wall"
          ],
          [
           "7a+",
           "other"
          ],
          [
           "7a+",
           "overhang"
          ],
          [
           "7a+",
           "roof"
          ],
          [
           "7a+",
           "slab"
          ],
          [
           "7a+",
           "traverse"
          ],
          [
           "7a+",
           "wall"
          ],
          [
           "7b",
           "other"
          ],
          [
           "7b",
           "overhang"
          ],
          [
           "7b",
           "roof"
          ],
          [
           "7b",
           "slab"
          ],
          [
           "7b",
           "traverse"
          ],
          [
           "7b",
           "wall"
          ],
          [
           "7b+",
           "other"
          ],
          [
           "7b+",
           "overhang"
          ],
          [
           "7b+",
           "roof"
          ],
          [
           "7b+",
           "slab"
          ],
          [
           "7b+",
           "traverse"
          ],
          [
           "7b+",
           "wall"
          ],
          [
           "7c",
           "other"
          ],
          [
           "7c",
           "overhang"
          ],
          [
           "7c",
           "roof"
          ],
          [
           "7c",
           "slab"
          ],
          [
           "7c",
           "traverse"
          ],
          [
           "7c",
           "wall"
          ],
          [
           "7c+",
           "other"
          ],
          [
           "7c+",
           "overhang"
          ],
          [
           "7c+",
           "roof"
          ],
          [
           "7c+",
           "slab"
          ],
          [
           "7c+",
           "traverse"
          ],
          [
           "7c+",
           "wall"
          ],
          [
           "8a",
           "other"
          ],
          [
           "8a",
           "overhang"
          ],
          [
           "8a",
           "roof"
          ],
          [
           "8a",
           "slab"
          ],
          [
           "8a",
           "traverse"
          ],
          [
           "8a",
           "wall"
          ],
          [
           "8a+",
           "other"
          ],
          [
           "8a+",
           "overhang"
          ],
          [
           "8a+",
           "roof"
          ],
          [
           "8a+",
           "slab"
          ],
          [
           "8a+",
           "traverse"
          ],
          [
           "8a+",
           "wall"
          ],
          [
           "8b",
           "other"
          ],
          [
           "8b",
           "overhang"
          ],
          [
           "8b",
           "roof"
          ],
          [
           "8b",
           "slab"
          ],
          [
           "8b",
           "traverse"
          ],
          [
           "8b",
           "wall"
          ],
          [
           "8b+",
           "other"
          ],
          [
           "8b+",
           "overhang"
          ],
          [
           "8b+",
           "roof"
          ],
          [
           "8b+",
           "traverse"
          ],
          [
           "8b+",
           "wall"
          ],
          [
           "8c",
           "other"
          ],
          [
           "8c",
           "overhang"
          ],
          [
           "8c",
           "roof"
          ],
          [
           "8c",
           "traverse"
          ],
          [
           "8c+",
           "roof"
          ],
          [
           "8c+",
           "traverse"
          ],
          [
           "8c+",
           "wall"
          ],
          [
           "9a",
           "traverse"
          ]
         ],
         "hovertemplate": "<b>%{x}</b><br>Steepness: %{customdata[1]}<br>Count: %{y}<extra></extra>",
         "legendgroup": "traverse",
         "marker": {
          "color": "#45B7D1",
          "pattern": {
           "shape": ""
          }
         },
         "name": "traverse",
         "offsetgroup": "traverse",
         "orientation": "v",
         "showlegend": true,
         "textposition": "auto",
         "type": "bar",
         "x": [
          "",
          "1b",
          "1c",
          "2a",
          "2b",
          "2c",
          "3a",
          "3b",
          "3c",
          "4a",
          "4b",
          "4c",
          "5a",
          "5b",
          "5c",
          "6a",
          "6a+",
          "6b",
          "6b+",
          "6c",
          "6c+",
          "7a",
          "7a+",
          "7b",
          "7b+",
          "7c",
          "7c+",
          "8a",
          "8a+",
          "8b",
          "8b+",
          "8c",
          "8c+",
          "9a"
         ],
         "xaxis": "x",
         "y": [
          1,
          15,
          9,
          36,
          132,
          125,
          123,
          134,
          133,
          111,
          99,
          85,
          80,
          77,
          94,
          115,
          52,
          114,
          74,
          135,
          76,
          265,
          178,
          161,
          120,
          82,
          47,
          48,
          23,
          11,
          5,
          6,
          1,
          1
         ],
         "yaxis": "y"
        },
        {
         "alignmentgroup": "True",
         "customdata": [
          [
           "",
           "other"
          ],
          [
           "",
           "slab"
          ],
          [
           "",
           "traverse"
          ],
          [
           "",
           "wall"
          ],
          [
           "1a",
           "other"
          ],
          [
           "1a",
           "slab"
          ],
          [
           "1b",
           "other"
          ],
          [
           "1b",
           "slab"
          ],
          [
           "1b",
           "traverse"
          ],
          [
           "1b",
           "wall"
          ],
          [
           "1c",
           "other"
          ],
          [
           "1c",
           "overhang"
          ],
          [
           "1c",
           "slab"
          ],
          [
           "1c",
           "traverse"
          ],
          [
           "1c",
           "wall"
          ],
          [
           "2a",
           "other"
          ],
          [
           "2a",
           "overhang"
          ],
          [
           "2a",
           "slab"
          ],
          [
           "2a",
           "traverse"
          ],
          [
           "2a",
           "wall"
          ],
          [
           "2b",
           "other"
          ],
          [
           "2b",
           "overhang"
          ],
          [
           "2b",
           "slab"
          ],
          [
           "2b",
           "traverse"
          ],
          [
           "2b",
           "wall"
          ],
          [
           "2c",
           "other"
          ],
          [
           "2c",
           "overhang"
          ],
          [
           "2c",
           "slab"
          ],
          [
           "2c",
           "traverse"
          ],
          [
           "2c",
           "wall"
          ],
          [
           "3a",
           "other"
          ],
          [
           "3a",
           "overhang"
          ],
          [
           "3a",
           "roof"
          ],
          [
           "3a",
           "slab"
          ],
          [
           "3a",
           "traverse"
          ],
          [
           "3a",
           "wall"
          ],
          [
           "3b",
           "other"
          ],
          [
           "3b",
           "overhang"
          ],
          [
           "3b",
           "slab"
          ],
          [
           "3b",
           "traverse"
          ],
          [
           "3b",
           "wall"
          ],
          [
           "3c",
           "other"
          ],
          [
           "3c",
           "overhang"
          ],
          [
           "3c",
           "slab"
          ],
          [
           "3c",
           "traverse"
          ],
          [
           "3c",
           "wall"
          ],
          [
           "4a",
           "other"
          ],
          [
           "4a",
           "overhang"
          ],
          [
           "4a",
           "slab"
          ],
          [
           "4a",
           "traverse"
          ],
          [
           "4a",
           "wall"
          ],
          [
           "4b",
           "other"
          ],
          [
           "4b",
           "overhang"
          ],
          [
           "4b",
           "slab"
          ],
          [
           "4b",
           "traverse"
          ],
          [
           "4b",
           "wall"
          ],
          [
           "4c",
           "other"
          ],
          [
           "4c",
           "overhang"
          ],
          [
           "4c",
           "roof"
          ],
          [
           "4c",
           "slab"
          ],
          [
           "4c",
           "traverse"
          ],
          [
           "4c",
           "wall"
          ],
          [
           "5a",
           "other"
          ],
          [
           "5a",
           "overhang"
          ],
          [
           "5a",
           "roof"
          ],
          [
           "5a",
           "slab"
          ],
          [
           "5a",
           "traverse"
          ],
          [
           "5a",
           "wall"
          ],
          [
           "5b",
           "other"
          ],
          [
           "5b",
           "overhang"
          ],
          [
           "5b",
           "roof"
          ],
          [
           "5b",
           "slab"
          ],
          [
           "5b",
           "traverse"
          ],
          [
           "5b",
           "wall"
          ],
          [
           "5c",
           "other"
          ],
          [
           "5c",
           "overhang"
          ],
          [
           "5c",
           "roof"
          ],
          [
           "5c",
           "slab"
          ],
          [
           "5c",
           "traverse"
          ],
          [
           "5c",
           "wall"
          ],
          [
           "6a",
           "other"
          ],
          [
           "6a",
           "overhang"
          ],
          [
           "6a",
           "roof"
          ],
          [
           "6a",
           "slab"
          ],
          [
           "6a",
           "traverse"
          ],
          [
           "6a",
           "wall"
          ],
          [
           "6a+",
           "other"
          ],
          [
           "6a+",
           "overhang"
          ],
          [
           "6a+",
           "roof"
          ],
          [
           "6a+",
           "slab"
          ],
          [
           "6a+",
           "traverse"
          ],
          [
           "6a+",
           "wall"
          ],
          [
           "6b",
           "other"
          ],
          [
           "6b",
           "overhang"
          ],
          [
           "6b",
           "roof"
          ],
          [
           "6b",
           "slab"
          ],
          [
           "6b",
           "traverse"
          ],
          [
           "6b",
           "wall"
          ],
          [
           "6b+",
           "other"
          ],
          [
           "6b+",
           "overhang"
          ],
          [
           "6b+",
           "roof"
          ],
          [
           "6b+",
           "slab"
          ],
          [
           "6b+",
           "traverse"
          ],
          [
           "6b+",
           "wall"
          ],
          [
           "6c",
           "other"
          ],
          [
           "6c",
           "overhang"
          ],
          [
           "6c",
           "roof"
          ],
          [
           "6c",
           "slab"
          ],
          [
           "6c",
           "traverse"
          ],
          [
           "6c",
           "wall"
          ],
          [
           "6c+",
           "other"
          ],
          [
           "6c+",
           "overhang"
          ],
          [
           "6c+",
           "roof"
          ],
          [
           "6c+",
           "slab"
          ],
          [
           "6c+",
           "traverse"
          ],
          [
           "6c+",
           "wall"
          ],
          [
           "7a",
           "other"
          ],
          [
           "7a",
           "overhang"
          ],
          [
           "7a",
           "roof"
          ],
          [
           "7a",
           "slab"
          ],
          [
           "7a",
           "traverse"
          ],
          [
           "7a",
           "wall"
          ],
          [
           "7a+",
           "other"
          ],
          [
           "7a+",
           "overhang"
          ],
          [
           "7a+",
           "roof"
          ],
          [
           "7a+",
           "slab"
          ],
          [
           "7a+",
           "traverse"
          ],
          [
           "7a+",
           "wall"
          ],
          [
           "7b",
           "other"
          ],
          [
           "7b",
           "overhang"
          ],
          [
           "7b",
           "roof"
          ],
          [
           "7b",
           "slab"
          ],
          [
           "7b",
           "traverse"
          ],
          [
           "7b",
           "wall"
          ],
          [
           "7b+",
           "other"
          ],
          [
           "7b+",
           "overhang"
          ],
          [
           "7b+",
           "roof"
          ],
          [
           "7b+",
           "slab"
          ],
          [
           "7b+",
           "traverse"
          ],
          [
           "7b+",
           "wall"
          ],
          [
           "7c",
           "other"
          ],
          [
           "7c",
           "overhang"
          ],
          [
           "7c",
           "roof"
          ],
          [
           "7c",
           "slab"
          ],
          [
           "7c",
           "traverse"
          ],
          [
           "7c",
           "wall"
          ],
          [
           "7c+",
           "other"
          ],
          [
           "7c+",
           "overhang"
          ],
          [
           "7c+",
           "roof"
          ],
          [
           "7c+",
           "slab"
          ],
          [
           "7c+",
           "traverse"
          ],
          [
           "7c+",
           "wall"
          ],
          [
           "8a",
           "other"
          ],
          [
           "8a",
           "overhang"
          ],
          [
           "8a",
           "roof"
          ],
          [
           "8a",
           "slab"
          ],
          [
           "8a",
           "traverse"
          ],
          [
           "8a",
           "wall"
          ],
          [
           "8a+",
           "other"
          ],
          [
           "8a+",
           "overhang"
          ],
          [
           "8a+",
           "roof"
          ],
          [
           "8a+",
           "slab"
          ],
          [
           "8a+",
           "traverse"
          ],
          [
           "8a+",
           "wall"
          ],
          [
           "8b",
           "other"
          ],
          [
           "8b",
           "overhang"
          ],
          [
           "8b",
           "roof"
          ],
          [
           "8b",
           "slab"
          ],
          [
           "8b",
           "traverse"
          ],
          [
           "8b",
           "wall"
          ],
          [
           "8b+",
           "other"
          ],
          [
           "8b+",
           "overhang"
          ],
          [
           "8b+",
           "roof"
          ],
          [
           "8b+",
           "traverse"
          ],
          [
           "8b+",
           "wall"
          ],
          [
           "8c",
           "other"
          ],
          [
           "8c",
           "overhang"
          ],
          [
           "8c",
           "roof"
          ],
          [
           "8c",
           "traverse"
          ],
          [
           "8c+",
           "roof"
          ],
          [
           "8c+",
           "traverse"
          ],
          [
           "8c+",
           "wall"
          ],
          [
           "9a",
           "traverse"
          ]
         ],
         "hovertemplate": "<b>%{x}</b><br>Steepness: %{customdata[1]}<br>Count: %{y}<extra></extra>",
         "legendgroup": "wall",
         "marker": {
          "color": "#96CEB4",
          "pattern": {
           "shape": ""
          }
         },
         "name": "wall",
         "offsetgroup": "wall",
         "orientation": "v",
         "showlegend": true,
         "textposition": "auto",
         "type": "bar",
         "x": [
          "",
          "1b",
          "1c",
          "2a",
          "2b",
          "2c",
          "3a",
          "3b",
          "3c",
          "4a",
          "4b",
          "4c",
          "5a",
          "5b",
          "5c",
          "6a",
          "6a+",
          "6b",
          "6b+",
          "6c",
          "6c+",
          "7a",
          "7a+",
          "7b",
          "7b+",
          "7c",
          "7c+",
          "8a",
          "8a+",
          "8b",
          "8b+",
          "8c+"
         ],
         "xaxis": "x",
         "y": [
          1,
          46,
          12,
          96,
          243,
          246,
          260,
          268,
          325,
          355,
          365,
          375,
          308,
          419,
          411,
          381,
          142,
          252,
          109,
          238,
          96,
          260,
          130,
          88,
          63,
          49,
          26,
          21,
          6,
          2,
          2,
          1
         ],
         "yaxis": "y"
        },
        {
         "alignmentgroup": "True",
         "customdata": [
          [
           "",
           "other"
          ],
          [
           "",
           "slab"
          ],
          [
           "",
           "traverse"
          ],
          [
           "",
           "wall"
          ],
          [
           "1a",
           "other"
          ],
          [
           "1a",
           "slab"
          ],
          [
           "1b",
           "other"
          ],
          [
           "1b",
           "slab"
          ],
          [
           "1b",
           "traverse"
          ],
          [
           "1b",
           "wall"
          ],
          [
           "1c",
           "other"
          ],
          [
           "1c",
           "overhang"
          ],
          [
           "1c",
           "slab"
          ],
          [
           "1c",
           "traverse"
          ],
          [
           "1c",
           "wall"
          ],
          [
           "2a",
           "other"
          ],
          [
           "2a",
           "overhang"
          ],
          [
           "2a",
           "slab"
          ],
          [
           "2a",
           "traverse"
          ],
          [
           "2a",
           "wall"
          ],
          [
           "2b",
           "other"
          ],
          [
           "2b",
           "overhang"
          ],
          [
           "2b",
           "slab"
          ],
          [
           "2b",
           "traverse"
          ],
          [
           "2b",
           "wall"
          ],
          [
           "2c",
           "other"
          ],
          [
           "2c",
           "overhang"
          ],
          [
           "2c",
           "slab"
          ],
          [
           "2c",
           "traverse"
          ],
          [
           "2c",
           "wall"
          ],
          [
           "3a",
           "other"
          ],
          [
           "3a",
           "overhang"
          ],
          [
           "3a",
           "roof"
          ],
          [
           "3a",
           "slab"
          ],
          [
           "3a",
           "traverse"
          ],
          [
           "3a",
           "wall"
          ],
          [
           "3b",
           "other"
          ],
          [
           "3b",
           "overhang"
          ],
          [
           "3b",
           "slab"
          ],
          [
           "3b",
           "traverse"
          ],
          [
           "3b",
           "wall"
          ],
          [
           "3c",
           "other"
          ],
          [
           "3c",
           "overhang"
          ],
          [
           "3c",
           "slab"
          ],
          [
           "3c",
           "traverse"
          ],
          [
           "3c",
           "wall"
          ],
          [
           "4a",
           "other"
          ],
          [
           "4a",
           "overhang"
          ],
          [
           "4a",
           "slab"
          ],
          [
           "4a",
           "traverse"
          ],
          [
           "4a",
           "wall"
          ],
          [
           "4b",
           "other"
          ],
          [
           "4b",
           "overhang"
          ],
          [
           "4b",
           "slab"
          ],
          [
           "4b",
           "traverse"
          ],
          [
           "4b",
           "wall"
          ],
          [
           "4c",
           "other"
          ],
          [
           "4c",
           "overhang"
          ],
          [
           "4c",
           "roof"
          ],
          [
           "4c",
           "slab"
          ],
          [
           "4c",
           "traverse"
          ],
          [
           "4c",
           "wall"
          ],
          [
           "5a",
           "other"
          ],
          [
           "5a",
           "overhang"
          ],
          [
           "5a",
           "roof"
          ],
          [
           "5a",
           "slab"
          ],
          [
           "5a",
           "traverse"
          ],
          [
           "5a",
           "wall"
          ],
          [
           "5b",
           "other"
          ],
          [
           "5b",
           "overhang"
          ],
          [
           "5b",
           "roof"
          ],
          [
           "5b",
           "slab"
          ],
          [
           "5b",
           "traverse"
          ],
          [
           "5b",
           "wall"
          ],
          [
           "5c",
           "other"
          ],
          [
           "5c",
           "overhang"
          ],
          [
           "5c",
           "roof"
          ],
          [
           "5c",
           "slab"
          ],
          [
           "5c",
           "traverse"
          ],
          [
           "5c",
           "wall"
          ],
          [
           "6a",
           "other"
          ],
          [
           "6a",
           "overhang"
          ],
          [
           "6a",
           "roof"
          ],
          [
           "6a",
           "slab"
          ],
          [
           "6a",
           "traverse"
          ],
          [
           "6a",
           "wall"
          ],
          [
           "6a+",
           "other"
          ],
          [
           "6a+",
           "overhang"
          ],
          [
           "6a+",
           "roof"
          ],
          [
           "6a+",
           "slab"
          ],
          [
           "6a+",
           "traverse"
          ],
          [
           "6a+",
           "wall"
          ],
          [
           "6b",
           "other"
          ],
          [
           "6b",
           "overhang"
          ],
          [
           "6b",
           "roof"
          ],
          [
           "6b",
           "slab"
          ],
          [
           "6b",
           "traverse"
          ],
          [
           "6b",
           "wall"
          ],
          [
           "6b+",
           "other"
          ],
          [
           "6b+",
           "overhang"
          ],
          [
           "6b+",
           "roof"
          ],
          [
           "6b+",
           "slab"
          ],
          [
           "6b+",
           "traverse"
          ],
          [
           "6b+",
           "wall"
          ],
          [
           "6c",
           "other"
          ],
          [
           "6c",
           "overhang"
          ],
          [
           "6c",
           "roof"
          ],
          [
           "6c",
           "slab"
          ],
          [
           "6c",
           "traverse"
          ],
          [
           "6c",
           "wall"
          ],
          [
           "6c+",
           "other"
          ],
          [
           "6c+",
           "overhang"
          ],
          [
           "6c+",
           "roof"
          ],
          [
           "6c+",
           "slab"
          ],
          [
           "6c+",
           "traverse"
          ],
          [
           "6c+",
           "wall"
          ],
          [
           "7a",
           "other"
          ],
          [
           "7a",
           "overhang"
          ],
          [
           "7a",
           "roof"
          ],
          [
           "7a",
           "slab"
          ],
          [
           "7a",
           "traverse"
          ],
          [
           "7a",
           "wall"
          ],
          [
           "7a+",
           "other"
          ],
          [
           "7a+",
           "overhang"
          ],
          [
           "7a+",
           "roof"
          ],
          [
           "7a+",
           "slab"
          ],
          [
           "7a+",
           "traverse"
          ],
          [
           "7a+",
           "wall"
          ],
          [
           "7b",
           "other"
          ],
          [
           "7b",
           "overhang"
          ],
          [
           "7b",
           "roof"
          ],
          [
           "7b",
           "slab"
          ],
          [
           "7b",
           "traverse"
          ],
          [
           "7b",
           "wall"
          ],
          [
           "7b+",
           "other"
          ],
          [
           "7b+",
           "overhang"
          ],
          [
           "7b+",
           "roof"
          ],
          [
           "7b+",
           "slab"
          ],
          [
           "7b+",
           "traverse"
          ],
          [
           "7b+",
           "wall"
          ],
          [
           "7c",
           "other"
          ],
          [
           "7c",
           "overhang"
          ],
          [
           "7c",
           "roof"
          ],
          [
           "7c",
           "slab"
          ],
          [
           "7c",
           "traverse"
          ],
          [
           "7c",
           "wall"
          ],
          [
           "7c+",
           "other"
          ],
          [
           "7c+",
           "overhang"
          ],
          [
           "7c+",
           "roof"
          ],
          [
           "7c+",
           "slab"
          ],
          [
           "7c+",
           "traverse"
          ],
          [
           "7c+",
           "wall"
          ],
          [
           "8a",
           "other"
          ],
          [
           "8a",
           "overhang"
          ],
          [
           "8a",
           "roof"
          ],
          [
           "8a",
           "slab"
          ],
          [
           "8a",
           "traverse"
          ],
          [
           "8a",
           "wall"
          ],
          [
           "8a+",
           "other"
          ],
          [
           "8a+",
           "overhang"
          ],
          [
           "8a+",
           "roof"
          ],
          [
           "8a+",
           "slab"
          ],
          [
           "8a+",
           "traverse"
          ],
          [
           "8a+",
           "wall"
          ],
          [
           "8b",
           "other"
          ],
          [
           "8b",
           "overhang"
          ],
          [
           "8b",
           "roof"
          ],
          [
           "8b",
           "slab"
          ],
          [
           "8b",
           "traverse"
          ],
          [
           "8b",
           "wall"
          ],
          [
           "8b+",
           "other"
          ],
          [
           "8b+",
           "overhang"
          ],
          [
           "8b+",
           "roof"
          ],
          [
           "8b+",
           "traverse"
          ],
          [
           "8b+",
           "wall"
          ],
          [
           "8c",
           "other"
          ],
          [
           "8c",
           "overhang"
          ],
          [
           "8c",
           "roof"
          ],
          [
           "8c",
           "traverse"
          ],
          [
           "8c+",
           "roof"
          ],
          [
           "8c+",
           "traverse"
          ],
          [
           "8c+",
           "wall"
          ],
          [
           "9a",
           "traverse"
          ]
         ],
         "hovertemplate": "<b>%{x}</b><br>Steepness: %{customdata[1]}<br>Count: %{y}<extra></extra>",
         "legendgroup": "overhang",
         "marker": {
          "color": "#FFEEAD",
          "pattern": {
           "shape": ""
          }
         },
         "name": "overhang",
         "offsetgroup": "overhang",
         "orientation": "v",
         "showlegend": true,
         "textposition": "auto",
         "type": "bar",
         "x": [
          "1c",
          "2a",
          "2b",
          "2c",
          "3a",
          "3b",
          "3c",
          "4a",
          "4b",
          "4c",
          "5a",
          "5b",
          "5c",
          "6a",
          "6a+",
          "6b",
          "6b+",
          "6c",
          "6c+",
          "7a",
          "7a+",
          "7b",
          "7b+",
          "7c",
          "7c+",
          "8a",
          "8a+",
          "8b",
          "8b+",
          "8c"
         ],
         "xaxis": "x",
         "y": [
          2,
          3,
          10,
          21,
          20,
          28,
          35,
          58,
          78,
          90,
          87,
          130,
          167,
          189,
          98,
          162,
          92,
          183,
          104,
          328,
          177,
          165,
          134,
          125,
          63,
          42,
          21,
          8,
          6,
          1
         ],
         "yaxis": "y"
        },
        {
         "alignmentgroup": "True",
         "customdata": [
          [
           "",
           "other"
          ],
          [
           "",
           "slab"
          ],
          [
           "",
           "traverse"
          ],
          [
           "",
           "wall"
          ],
          [
           "1a",
           "other"
          ],
          [
           "1a",
           "slab"
          ],
          [
           "1b",
           "other"
          ],
          [
           "1b",
           "slab"
          ],
          [
           "1b",
           "traverse"
          ],
          [
           "1b",
           "wall"
          ],
          [
           "1c",
           "other"
          ],
          [
           "1c",
           "overhang"
          ],
          [
           "1c",
           "slab"
          ],
          [
           "1c",
           "traverse"
          ],
          [
           "1c",
           "wall"
          ],
          [
           "2a",
           "other"
          ],
          [
           "2a",
           "overhang"
          ],
          [
           "2a",
           "slab"
          ],
          [
           "2a",
           "traverse"
          ],
          [
           "2a",
           "wall"
          ],
          [
           "2b",
           "other"
          ],
          [
           "2b",
           "overhang"
          ],
          [
           "2b",
           "slab"
          ],
          [
           "2b",
           "traverse"
          ],
          [
           "2b",
           "wall"
          ],
          [
           "2c",
           "other"
          ],
          [
           "2c",
           "overhang"
          ],
          [
           "2c",
           "slab"
          ],
          [
           "2c",
           "traverse"
          ],
          [
           "2c",
           "wall"
          ],
          [
           "3a",
           "other"
          ],
          [
           "3a",
           "overhang"
          ],
          [
           "3a",
           "roof"
          ],
          [
           "3a",
           "slab"
          ],
          [
           "3a",
           "traverse"
          ],
          [
           "3a",
           "wall"
          ],
          [
           "3b",
           "other"
          ],
          [
           "3b",
           "overhang"
          ],
          [
           "3b",
           "slab"
          ],
          [
           "3b",
           "traverse"
          ],
          [
           "3b",
           "wall"
          ],
          [
           "3c",
           "other"
          ],
          [
           "3c",
           "overhang"
          ],
          [
           "3c",
           "slab"
          ],
          [
           "3c",
           "traverse"
          ],
          [
           "3c",
           "wall"
          ],
          [
           "4a",
           "other"
          ],
          [
           "4a",
           "overhang"
          ],
          [
           "4a",
           "slab"
          ],
          [
           "4a",
           "traverse"
          ],
          [
           "4a",
           "wall"
          ],
          [
           "4b",
           "other"
          ],
          [
           "4b",
           "overhang"
          ],
          [
           "4b",
           "slab"
          ],
          [
           "4b",
           "traverse"
          ],
          [
           "4b",
           "wall"
          ],
          [
           "4c",
           "other"
          ],
          [
           "4c",
           "overhang"
          ],
          [
           "4c",
           "roof"
          ],
          [
           "4c",
           "slab"
          ],
          [
           "4c",
           "traverse"
          ],
          [
           "4c",
           "wall"
          ],
          [
           "5a",
           "other"
          ],
          [
           "5a",
           "overhang"
          ],
          [
           "5a",
           "roof"
          ],
          [
           "5a",
           "slab"
          ],
          [
           "5a",
           "traverse"
          ],
          [
           "5a",
           "wall"
          ],
          [
           "5b",
           "other"
          ],
          [
           "5b",
           "overhang"
          ],
          [
           "5b",
           "roof"
          ],
          [
           "5b",
           "slab"
          ],
          [
           "5b",
           "traverse"
          ],
          [
           "5b",
           "wall"
          ],
          [
           "5c",
           "other"
          ],
          [
           "5c",
           "overhang"
          ],
          [
           "5c",
           "roof"
          ],
          [
           "5c",
           "slab"
          ],
          [
           "5c",
           "traverse"
          ],
          [
           "5c",
           "wall"
          ],
          [
           "6a",
           "other"
          ],
          [
           "6a",
           "overhang"
          ],
          [
           "6a",
           "roof"
          ],
          [
           "6a",
           "slab"
          ],
          [
           "6a",
           "traverse"
          ],
          [
           "6a",
           "wall"
          ],
          [
           "6a+",
           "other"
          ],
          [
           "6a+",
           "overhang"
          ],
          [
           "6a+",
           "roof"
          ],
          [
           "6a+",
           "slab"
          ],
          [
           "6a+",
           "traverse"
          ],
          [
           "6a+",
           "wall"
          ],
          [
           "6b",
           "other"
          ],
          [
           "6b",
           "overhang"
          ],
          [
           "6b",
           "roof"
          ],
          [
           "6b",
           "slab"
          ],
          [
           "6b",
           "traverse"
          ],
          [
           "6b",
           "wall"
          ],
          [
           "6b+",
           "other"
          ],
          [
           "6b+",
           "overhang"
          ],
          [
           "6b+",
           "roof"
          ],
          [
           "6b+",
           "slab"
          ],
          [
           "6b+",
           "traverse"
          ],
          [
           "6b+",
           "wall"
          ],
          [
           "6c",
           "other"
          ],
          [
           "6c",
           "overhang"
          ],
          [
           "6c",
           "roof"
          ],
          [
           "6c",
           "slab"
          ],
          [
           "6c",
           "traverse"
          ],
          [
           "6c",
           "wall"
          ],
          [
           "6c+",
           "other"
          ],
          [
           "6c+",
           "overhang"
          ],
          [
           "6c+",
           "roof"
          ],
          [
           "6c+",
           "slab"
          ],
          [
           "6c+",
           "traverse"
          ],
          [
           "6c+",
           "wall"
          ],
          [
           "7a",
           "other"
          ],
          [
           "7a",
           "overhang"
          ],
          [
           "7a",
           "roof"
          ],
          [
           "7a",
           "slab"
          ],
          [
           "7a",
           "traverse"
          ],
          [
           "7a",
           "wall"
          ],
          [
           "7a+",
           "other"
          ],
          [
           "7a+",
           "overhang"
          ],
          [
           "7a+",
           "roof"
          ],
          [
           "7a+",
           "slab"
          ],
          [
           "7a+",
           "traverse"
          ],
          [
           "7a+",
           "wall"
          ],
          [
           "7b",
           "other"
          ],
          [
           "7b",
           "overhang"
          ],
          [
           "7b",
           "roof"
          ],
          [
           "7b",
           "slab"
          ],
          [
           "7b",
           "traverse"
          ],
          [
           "7b",
           "wall"
          ],
          [
           "7b+",
           "other"
          ],
          [
           "7b+",
           "overhang"
          ],
          [
           "7b+",
           "roof"
          ],
          [
           "7b+",
           "slab"
          ],
          [
           "7b+",
           "traverse"
          ],
          [
           "7b+",
           "wall"
          ],
          [
           "7c",
           "other"
          ],
          [
           "7c",
           "overhang"
          ],
          [
           "7c",
           "roof"
          ],
          [
           "7c",
           "slab"
          ],
          [
           "7c",
           "traverse"
          ],
          [
           "7c",
           "wall"
          ],
          [
           "7c+",
           "other"
          ],
          [
           "7c+",
           "overhang"
          ],
          [
           "7c+",
           "roof"
          ],
          [
           "7c+",
           "slab"
          ],
          [
           "7c+",
           "traverse"
          ],
          [
           "7c+",
           "wall"
          ],
          [
           "8a",
           "other"
          ],
          [
           "8a",
           "overhang"
          ],
          [
           "8a",
           "roof"
          ],
          [
           "8a",
           "slab"
          ],
          [
           "8a",
           "traverse"
          ],
          [
           "8a",
           "wall"
          ],
          [
           "8a+",
           "other"
          ],
          [
           "8a+",
           "overhang"
          ],
          [
           "8a+",
           "roof"
          ],
          [
           "8a+",
           "slab"
          ],
          [
           "8a+",
           "traverse"
          ],
          [
           "8a+",
           "wall"
          ],
          [
           "8b",
           "other"
          ],
          [
           "8b",
           "overhang"
          ],
          [
           "8b",
           "roof"
          ],
          [
           "8b",
           "slab"
          ],
          [
           "8b",
           "traverse"
          ],
          [
           "8b",
           "wall"
          ],
          [
           "8b+",
           "other"
          ],
          [
           "8b+",
           "overhang"
          ],
          [
           "8b+",
           "roof"
          ],
          [
           "8b+",
           "traverse"
          ],
          [
           "8b+",
           "wall"
          ],
          [
           "8c",
           "other"
          ],
          [
           "8c",
           "overhang"
          ],
          [
           "8c",
           "roof"
          ],
          [
           "8c",
           "traverse"
          ],
          [
           "8c+",
           "roof"
          ],
          [
           "8c+",
           "traverse"
          ],
          [
           "8c+",
           "wall"
          ],
          [
           "9a",
           "traverse"
          ]
         ],
         "hovertemplate": "<b>%{x}</b><br>Steepness: %{customdata[1]}<br>Count: %{y}<extra></extra>",
         "legendgroup": "roof",
         "marker": {
          "color": "#D4A5A5",
          "pattern": {
           "shape": ""
          }
         },
         "name": "roof",
         "offsetgroup": "roof",
         "orientation": "v",
         "showlegend": true,
         "textposition": "auto",
         "type": "bar",
         "x": [
          "3a",
          "4c",
          "5a",
          "5b",
          "5c",
          "6a",
          "6a+",
          "6b",
          "6b+",
          "6c",
          "6c+",
          "7a",
          "7a+",
          "7b",
          "7b+",
          "7c",
          "7c+",
          "8a",
          "8a+",
          "8b",
          "8b+",
          "8c",
          "8c+"
         ],
         "xaxis": "x",
         "y": [
          1,
          1,
          6,
          6,
          6,
          5,
          9,
          20,
          22,
          26,
          17,
          57,
          45,
          41,
          34,
          28,
          20,
          16,
          14,
          8,
          4,
          5,
          2
         ],
         "yaxis": "y"
        }
       ],
       "layout": {
        "barmode": "relative",
        "legend": {
         "title": {
          "text": "Steepness"
         },
         "tracegroupgap": 0
        },
        "template": {
         "data": {
          "bar": [
           {
            "error_x": {
             "color": "#2a3f5f"
            },
            "error_y": {
             "color": "#2a3f5f"
            },
            "marker": {
             "line": {
              "color": "#E5ECF6",
              "width": 0.5
             },
             "pattern": {
              "fillmode": "overlay",
              "size": 10,
              "solidity": 0.2
             }
            },
            "type": "bar"
           }
          ],
          "barpolar": [
           {
            "marker": {
             "line": {
              "color": "#E5ECF6",
              "width": 0.5
             },
             "pattern": {
              "fillmode": "overlay",
              "size": 10,
              "solidity": 0.2
             }
            },
            "type": "barpolar"
           }
          ],
          "carpet": [
           {
            "aaxis": {
             "endlinecolor": "#2a3f5f",
             "gridcolor": "white",
             "linecolor": "white",
             "minorgridcolor": "white",
             "startlinecolor": "#2a3f5f"
            },
            "baxis": {
             "endlinecolor": "#2a3f5f",
             "gridcolor": "white",
             "linecolor": "white",
             "minorgridcolor": "white",
             "startlinecolor": "#2a3f5f"
            },
            "type": "carpet"
           }
          ],
          "choropleth": [
           {
            "colorbar": {
             "outlinewidth": 0,
             "ticks": ""
            },
            "type": "choropleth"
           }
          ],
          "contour": [
           {
            "colorbar": {
             "outlinewidth": 0,
             "ticks": ""
            },
            "colorscale": [
             [
              0,
              "#0d0887"
             ],
             [
              0.1111111111111111,
              "#46039f"
             ],
             [
              0.2222222222222222,
              "#7201a8"
             ],
             [
              0.3333333333333333,
              "#9c179e"
             ],
             [
              0.4444444444444444,
              "#bd3786"
             ],
             [
              0.5555555555555556,
              "#d8576b"
             ],
             [
              0.6666666666666666,
              "#ed7953"
             ],
             [
              0.7777777777777778,
              "#fb9f3a"
             ],
             [
              0.8888888888888888,
              "#fdca26"
             ],
             [
              1,
              "#f0f921"
             ]
            ],
            "type": "contour"
           }
          ],
          "contourcarpet": [
           {
            "colorbar": {
             "outlinewidth": 0,
             "ticks": ""
            },
            "type": "contourcarpet"
           }
          ],
          "heatmap": [
           {
            "colorbar": {
             "outlinewidth": 0,
             "ticks": ""
            },
            "colorscale": [
             [
              0,
              "#0d0887"
             ],
             [
              0.1111111111111111,
              "#46039f"
             ],
             [
              0.2222222222222222,
              "#7201a8"
             ],
             [
              0.3333333333333333,
              "#9c179e"
             ],
             [
              0.4444444444444444,
              "#bd3786"
             ],
             [
              0.5555555555555556,
              "#d8576b"
             ],
             [
              0.6666666666666666,
              "#ed7953"
             ],
             [
              0.7777777777777778,
              "#fb9f3a"
             ],
             [
              0.8888888888888888,
              "#fdca26"
             ],
             [
              1,
              "#f0f921"
             ]
            ],
            "type": "heatmap"
           }
          ],
          "heatmapgl": [
           {
            "colorbar": {
             "outlinewidth": 0,
             "ticks": ""
            },
            "colorscale": [
             [
              0,
              "#0d0887"
             ],
             [
              0.1111111111111111,
              "#46039f"
             ],
             [
              0.2222222222222222,
              "#7201a8"
             ],
             [
              0.3333333333333333,
              "#9c179e"
             ],
             [
              0.4444444444444444,
              "#bd3786"
             ],
             [
              0.5555555555555556,
              "#d8576b"
             ],
             [
              0.6666666666666666,
              "#ed7953"
             ],
             [
              0.7777777777777778,
              "#fb9f3a"
             ],
             [
              0.8888888888888888,
              "#fdca26"
             ],
             [
              1,
              "#f0f921"
             ]
            ],
            "type": "heatmapgl"
           }
          ],
          "histogram": [
           {
            "marker": {
             "pattern": {
              "fillmode": "overlay",
              "size": 10,
              "solidity": 0.2
             }
            },
            "type": "histogram"
           }
          ],
          "histogram2d": [
           {
            "colorbar": {
             "outlinewidth": 0,
             "ticks": ""
            },
            "colorscale": [
             [
              0,
              "#0d0887"
             ],
             [
              0.1111111111111111,
              "#46039f"
             ],
             [
              0.2222222222222222,
              "#7201a8"
             ],
             [
              0.3333333333333333,
              "#9c179e"
             ],
             [
              0.4444444444444444,
              "#bd3786"
             ],
             [
              0.5555555555555556,
              "#d8576b"
             ],
             [
              0.6666666666666666,
              "#ed7953"
             ],
             [
              0.7777777777777778,
              "#fb9f3a"
             ],
             [
              0.8888888888888888,
              "#fdca26"
             ],
             [
              1,
              "#f0f921"
             ]
            ],
            "type": "histogram2d"
           }
          ],
          "histogram2dcontour": [
           {
            "colorbar": {
             "outlinewidth": 0,
             "ticks": ""
            },
            "colorscale": [
             [
              0,
              "#0d0887"
             ],
             [
              0.1111111111111111,
              "#46039f"
             ],
             [
              0.2222222222222222,
              "#7201a8"
             ],
             [
              0.3333333333333333,
              "#9c179e"
             ],
             [
              0.4444444444444444,
              "#bd3786"
             ],
             [
              0.5555555555555556,
              "#d8576b"
             ],
             [
              0.6666666666666666,
              "#ed7953"
             ],
             [
              0.7777777777777778,
              "#fb9f3a"
             ],
             [
              0.8888888888888888,
              "#fdca26"
             ],
             [
              1,
              "#f0f921"
             ]
            ],
            "type": "histogram2dcontour"
           }
          ],
          "mesh3d": [
           {
            "colorbar": {
             "outlinewidth": 0,
             "ticks": ""
            },
            "type": "mesh3d"
           }
          ],
          "parcoords": [
           {
            "line": {
             "colorbar": {
              "outlinewidth": 0,
              "ticks": ""
             }
            },
            "type": "parcoords"
           }
          ],
          "pie": [
           {
            "automargin": true,
            "type": "pie"
           }
          ],
          "scatter": [
           {
            "fillpattern": {
             "fillmode": "overlay",
             "size": 10,
             "solidity": 0.2
            },
            "type": "scatter"
           }
          ],
          "scatter3d": [
           {
            "line": {
             "colorbar": {
              "outlinewidth": 0,
              "ticks": ""
             }
            },
            "marker": {
             "colorbar": {
              "outlinewidth": 0,
              "ticks": ""
             }
            },
            "type": "scatter3d"
           }
          ],
          "scattercarpet": [
           {
            "marker": {
             "colorbar": {
              "outlinewidth": 0,
              "ticks": ""
             }
            },
            "type": "scattercarpet"
           }
          ],
          "scattergeo": [
           {
            "marker": {
             "colorbar": {
              "outlinewidth": 0,
              "ticks": ""
             }
            },
            "type": "scattergeo"
           }
          ],
          "scattergl": [
           {
            "marker": {
             "colorbar": {
              "outlinewidth": 0,
              "ticks": ""
             }
            },
            "type": "scattergl"
           }
          ],
          "scattermapbox": [
           {
            "marker": {
             "colorbar": {
              "outlinewidth": 0,
              "ticks": ""
             }
            },
            "type": "scattermapbox"
           }
          ],
          "scatterpolar": [
           {
            "marker": {
             "colorbar": {
              "outlinewidth": 0,
              "ticks": ""
             }
            },
            "type": "scatterpolar"
           }
          ],
          "scatterpolargl": [
           {
            "marker": {
             "colorbar": {
              "outlinewidth": 0,
              "ticks": ""
             }
            },
            "type": "scatterpolargl"
           }
          ],
          "scatterternary": [
           {
            "marker": {
             "colorbar": {
              "outlinewidth": 0,
              "ticks": ""
             }
            },
            "type": "scatterternary"
           }
          ],
          "surface": [
           {
            "colorbar": {
             "outlinewidth": 0,
             "ticks": ""
            },
            "colorscale": [
             [
              0,
              "#0d0887"
             ],
             [
              0.1111111111111111,
              "#46039f"
             ],
             [
              0.2222222222222222,
              "#7201a8"
             ],
             [
              0.3333333333333333,
              "#9c179e"
             ],
             [
              0.4444444444444444,
              "#bd3786"
             ],
             [
              0.5555555555555556,
              "#d8576b"
             ],
             [
              0.6666666666666666,
              "#ed7953"
             ],
             [
              0.7777777777777778,
              "#fb9f3a"
             ],
             [
              0.8888888888888888,
              "#fdca26"
             ],
             [
              1,
              "#f0f921"
             ]
            ],
            "type": "surface"
           }
          ],
          "table": [
           {
            "cells": {
             "fill": {
              "color": "#EBF0F8"
             },
             "line": {
              "color": "white"
             }
            },
            "header": {
             "fill": {
              "color": "#C8D4E3"
             },
             "line": {
              "color": "white"
             }
            },
            "type": "table"
           }
          ]
         },
         "layout": {
          "annotationdefaults": {
           "arrowcolor": "#2a3f5f",
           "arrowhead": 0,
           "arrowwidth": 1
          },
          "autotypenumbers": "strict",
          "coloraxis": {
           "colorbar": {
            "outlinewidth": 0,
            "ticks": ""
           }
          },
          "colorscale": {
           "diverging": [
            [
             0,
             "#8e0152"
            ],
            [
             0.1,
             "#c51b7d"
            ],
            [
             0.2,
             "#de77ae"
            ],
            [
             0.3,
             "#f1b6da"
            ],
            [
             0.4,
             "#fde0ef"
            ],
            [
             0.5,
             "#f7f7f7"
            ],
            [
             0.6,
             "#e6f5d0"
            ],
            [
             0.7,
             "#b8e186"
            ],
            [
             0.8,
             "#7fbc41"
            ],
            [
             0.9,
             "#4d9221"
            ],
            [
             1,
             "#276419"
            ]
           ],
           "sequential": [
            [
             0,
             "#0d0887"
            ],
            [
             0.1111111111111111,
             "#46039f"
            ],
            [
             0.2222222222222222,
             "#7201a8"
            ],
            [
             0.3333333333333333,
             "#9c179e"
            ],
            [
             0.4444444444444444,
             "#bd3786"
            ],
            [
             0.5555555555555556,
             "#d8576b"
            ],
            [
             0.6666666666666666,
             "#ed7953"
            ],
            [
             0.7777777777777778,
             "#fb9f3a"
            ],
            [
             0.8888888888888888,
             "#fdca26"
            ],
            [
             1,
             "#f0f921"
            ]
           ],
           "sequentialminus": [
            [
             0,
             "#0d0887"
            ],
            [
             0.1111111111111111,
             "#46039f"
            ],
            [
             0.2222222222222222,
             "#7201a8"
            ],
            [
             0.3333333333333333,
             "#9c179e"
            ],
            [
             0.4444444444444444,
             "#bd3786"
            ],
            [
             0.5555555555555556,
             "#d8576b"
            ],
            [
             0.6666666666666666,
             "#ed7953"
            ],
            [
             0.7777777777777778,
             "#fb9f3a"
            ],
            [
             0.8888888888888888,
             "#fdca26"
            ],
            [
             1,
             "#f0f921"
            ]
           ]
          },
          "colorway": [
           "#636efa",
           "#EF553B",
           "#00cc96",
           "#ab63fa",
           "#FFA15A",
           "#19d3f3",
           "#FF6692",
           "#B6E880",
           "#FF97FF",
           "#FECB52"
          ],
          "font": {
           "color": "#2a3f5f"
          },
          "geo": {
           "bgcolor": "white",
           "lakecolor": "white",
           "landcolor": "#E5ECF6",
           "showlakes": true,
           "showland": true,
           "subunitcolor": "white"
          },
          "hoverlabel": {
           "align": "left"
          },
          "hovermode": "closest",
          "mapbox": {
           "style": "light"
          },
          "paper_bgcolor": "white",
          "plot_bgcolor": "#E5ECF6",
          "polar": {
           "angularaxis": {
            "gridcolor": "white",
            "linecolor": "white",
            "ticks": ""
           },
           "bgcolor": "#E5ECF6",
           "radialaxis": {
            "gridcolor": "white",
            "linecolor": "white",
            "ticks": ""
           }
          },
          "scene": {
           "xaxis": {
            "backgroundcolor": "#E5ECF6",
            "gridcolor": "white",
            "gridwidth": 2,
            "linecolor": "white",
            "showbackground": true,
            "ticks": "",
            "zerolinecolor": "white"
           },
           "yaxis": {
            "backgroundcolor": "#E5ECF6",
            "gridcolor": "white",
            "gridwidth": 2,
            "linecolor": "white",
            "showbackground": true,
            "ticks": "",
            "zerolinecolor": "white"
           },
           "zaxis": {
            "backgroundcolor": "#E5ECF6",
            "gridcolor": "white",
            "gridwidth": 2,
            "linecolor": "white",
            "showbackground": true,
            "ticks": "",
            "zerolinecolor": "white"
           }
          },
          "shapedefaults": {
           "line": {
            "color": "#2a3f5f"
           }
          },
          "ternary": {
           "aaxis": {
            "gridcolor": "white",
            "linecolor": "white",
            "ticks": ""
           },
           "baxis": {
            "gridcolor": "white",
            "linecolor": "white",
            "ticks": ""
           },
           "bgcolor": "#E5ECF6",
           "caxis": {
            "gridcolor": "white",
            "linecolor": "white",
            "ticks": ""
           }
          },
          "title": {
           "x": 0.05
          },
          "xaxis": {
           "automargin": true,
           "gridcolor": "white",
           "linecolor": "white",
           "ticks": "",
           "title": {
            "standoff": 15
           },
           "zerolinecolor": "white",
           "zerolinewidth": 2
          },
          "yaxis": {
           "automargin": true,
           "gridcolor": "white",
           "linecolor": "white",
           "ticks": "",
           "title": {
            "standoff": 15
           },
           "zerolinecolor": "white",
           "zerolinewidth": 2
          }
         }
        },
        "title": {
         "text": "Boulder Problems by Grade and Steepness"
        },
        "xaxis": {
         "anchor": "y",
         "categoryorder": "category ascending",
         "domain": [
          0,
          1
         ],
         "title": {
          "text": "Grade"
         }
        },
        "yaxis": {
         "anchor": "x",
         "domain": [
          0,
          1
         ],
         "title": {
          "text": "Count"
         }
        }
       }
      }
     },
     "metadata": {},
     "output_type": "display_data"
    }
   ],
   "source": [
    "# Create grouped bar chart of problems by grade and steepness\n",
    "grade_counts = df.groupby(['grade', 'steepness']).size().reset_index(name='count')\n",
    "\n",
    "fig = px.bar(grade_counts, \n",
    "             x='grade',\n",
    "             y='count',\n",
    "             color='steepness',\n",
    "             title='Boulder Problems by Grade and Steepness',\n",
    "             labels={'count': 'Count', 'grade': 'Grade', 'steepness': 'Steepness'},\n",
    "             color_discrete_sequence=['#FF6B6B', '#4ECDC4', '#45B7D1', '#96CEB4', '#FFEEAD', '#D4A5A5'])\n",
    "\n",
    "fig.update_xaxes(categoryorder='category ascending')\n",
    "\n",
    "# Add click event to show individual problems\n",
    "fig.update_traces(\n",
    "    customdata=grade_counts[['grade', 'steepness']],\n",
    "    hovertemplate='<b>%{x}</b><br>Steepness: %{customdata[1]}<br>Count: %{y}<extra></extra>'\n",
    ")\n",
    "\n",
    "def show_problems(trace, points, selector):\n",
    "    if points.point_inds:\n",
    "        grade = points.customdata[0][0]\n",
    "        steepness = points.customdata[0][1]\n",
    "        problems = df[(df['grade'] == grade) & (df['steepness'] == steepness)]\n",
    "        print(f\"\\nProblems with Grade {grade} and Steepness {steepness}:\")\n",
    "        print(problems[['name', 'grade', 'steepness', 'popularity']].to_string())\n",
    "\n",
    "fig.data[0].on_click(show_problems)\n",
    "\n",
    "fig.show()\n"
   ]
  },
  {
   "cell_type": "code",
   "execution_count": 97,
   "metadata": {},
   "outputs": [
    {
     "data": {
      "text/plain": [
       "['91.1',\n",
       " '95.2',\n",
       " 'Apremont',\n",
       " 'Apremont Bizons',\n",
       " 'Apremont Butte aux Dames',\n",
       " 'Apremont Désert',\n",
       " 'Apremont Envers',\n",
       " 'Apremont Est',\n",
       " 'Apremont Ouest',\n",
       " 'Apremont Portes du Désert',\n",
       " 'Apremont Solitude',\n",
       " 'Apremont Sully',\n",
       " 'Beauvais Hameau',\n",
       " 'Beauvais Loutteville',\n",
       " 'Beauvais Nainville',\n",
       " 'Beauvais Roches Noires',\n",
       " 'Beauvais Télégraphe',\n",
       " 'Bois Rond',\n",
       " 'Buthiers Canard',\n",
       " 'Buthiers Piscine',\n",
       " 'Buthiers Tennis',\n",
       " 'Canche aux Merciers',\n",
       " 'Corne-Biche',\n",
       " 'Cul de Chien',\n",
       " 'Cuvier',\n",
       " 'Cuvier Bellevue',\n",
       " 'Cuvier Est',\n",
       " 'Cuvier Merveille',\n",
       " 'Cuvier Nord',\n",
       " 'Cuvier Ouest',\n",
       " 'Cuvier Petit Rempart',\n",
       " 'Cuvier Reconnaissance',\n",
       " 'Cuvier Rempart',\n",
       " 'Dame Jouanne',\n",
       " 'Darvault',\n",
       " 'Diplodocus',\n",
       " 'Drei Zinnen',\n",
       " 'Franchard Cuisinière',\n",
       " 'Franchard Cuisinière Crêtes Sud',\n",
       " 'Franchard Hautes Plaines',\n",
       " 'Franchard Isatis',\n",
       " 'Franchard Meyer',\n",
       " 'Franchard Raymond',\n",
       " 'Franchard Sablons',\n",
       " 'Franchard Sablons Carriers',\n",
       " 'Gorge aux Châts',\n",
       " 'Grande Montagne',\n",
       " 'Gros Sablons',\n",
       " 'Gros Sablons Nord',\n",
       " 'Haute Pierre',\n",
       " 'J.A. Martin',\n",
       " 'Jean des Vignes',\n",
       " 'Justice de Chambergeot',\n",
       " 'La Ségognole',\n",
       " 'La Troche',\n",
       " 'Le Calvaire',\n",
       " 'Maunoury',\n",
       " 'Mont Aigu',\n",
       " 'Mont Ussy',\n",
       " 'Mont Ussy Est',\n",
       " \"Mont d'Olivet\",\n",
       " 'Petit Bois',\n",
       " 'Pignon Poteau',\n",
       " 'Puiselet Mont Sarrasin',\n",
       " 'Restant du Long Rocher',\n",
       " 'Restant du Long Rocher Sud',\n",
       " 'Roche aux Oiseaux',\n",
       " 'Roche aux Sabots',\n",
       " \"Roche d'Hercule\",\n",
       " 'Rocher Canon',\n",
       " 'Rocher Canon Ouest',\n",
       " 'Rocher Fin',\n",
       " 'Rocher Gréau',\n",
       " 'Rocher Guichot',\n",
       " 'Rocher Saint-Germain Est',\n",
       " \"Rocher d'Avon\",\n",
       " \"Rocher d'Avon Est\",\n",
       " 'Rocher de Bouligny',\n",
       " 'Rocher de la Cathédrale',\n",
       " 'Rocher de la Reine',\n",
       " 'Rocher des Demoiselles',\n",
       " 'Rocher des Potets',\n",
       " 'Rocher des Souris',\n",
       " 'Rocher du Général',\n",
       " 'Rocher du Potala',\n",
       " 'Rocher du Télégraphe',\n",
       " \"Toit d'Orsay\",\n",
       " 'Éléphant']"
      ]
     },
     "execution_count": 97,
     "metadata": {},
     "output_type": "execute_result"
    }
   ],
   "source": [
    "sorted(areas.area_name.unique())"
   ]
  },
  {
   "cell_type": "code",
   "execution_count": 105,
   "metadata": {},
   "outputs": [
    {
     "data": {
      "text/html": [
       "<div>\n",
       "<style scoped>\n",
       "    .dataframe tbody tr th:only-of-type {\n",
       "        vertical-align: middle;\n",
       "    }\n",
       "\n",
       "    .dataframe tbody tr th {\n",
       "        vertical-align: top;\n",
       "    }\n",
       "\n",
       "    .dataframe thead th {\n",
       "        text-align: right;\n",
       "    }\n",
       "</style>\n",
       "<table border=\"1\" class=\"dataframe\">\n",
       "  <thead>\n",
       "    <tr style=\"text-align: right;\">\n",
       "      <th></th>\n",
       "      <th>area_id</th>\n",
       "      <th>area_name</th>\n",
       "      <th>name_searchable</th>\n",
       "      <th>priority</th>\n",
       "      <th>description_fr</th>\n",
       "      <th>description_en</th>\n",
       "      <th>warning_fr</th>\n",
       "      <th>warning_en</th>\n",
       "      <th>tags</th>\n",
       "      <th>south_west_lat</th>\n",
       "      <th>...</th>\n",
       "      <th>level2_count</th>\n",
       "      <th>level3_count</th>\n",
       "      <th>level4_count</th>\n",
       "      <th>level5_count</th>\n",
       "      <th>level6_count</th>\n",
       "      <th>level7_count</th>\n",
       "      <th>level8_count</th>\n",
       "      <th>problems_count</th>\n",
       "      <th>cluster_id</th>\n",
       "      <th>download_size</th>\n",
       "    </tr>\n",
       "  </thead>\n",
       "  <tbody>\n",
       "    <tr>\n",
       "      <th>0</th>\n",
       "      <td>1</td>\n",
       "      <td>Rocher Canon</td>\n",
       "      <td>rochercanon</td>\n",
       "      <td>1</td>\n",
       "      <td>Rocher Canon est un des secteurs les plus faci...</td>\n",
       "      <td>Rocher Canon is one of the easiest sectors to ...</td>\n",
       "      <td>None</td>\n",
       "      <td>None</td>\n",
       "      <td>popular,beginner_friendly,family_friendly</td>\n",
       "      <td>48.460701</td>\n",
       "      <td>...</td>\n",
       "      <td>78</td>\n",
       "      <td>71</td>\n",
       "      <td>74</td>\n",
       "      <td>65</td>\n",
       "      <td>84</td>\n",
       "      <td>97</td>\n",
       "      <td>15</td>\n",
       "      <td>528</td>\n",
       "      <td>11</td>\n",
       "      <td>44.85</td>\n",
       "    </tr>\n",
       "    <tr>\n",
       "      <th>1</th>\n",
       "      <td>2</td>\n",
       "      <td>Cul de Chien</td>\n",
       "      <td>culdechien</td>\n",
       "      <td>1</td>\n",
       "      <td>Cul de Chien est connu pour ses magnifiques ét...</td>\n",
       "      <td>Cul de Chien is known for its beautiful stretc...</td>\n",
       "      <td>None</td>\n",
       "      <td>None</td>\n",
       "      <td>popular,beginner_friendly,dry_fast,family_frie...</td>\n",
       "      <td>48.374897</td>\n",
       "      <td>...</td>\n",
       "      <td>40</td>\n",
       "      <td>40</td>\n",
       "      <td>74</td>\n",
       "      <td>36</td>\n",
       "      <td>32</td>\n",
       "      <td>16</td>\n",
       "      <td>5</td>\n",
       "      <td>243</td>\n",
       "      <td>1</td>\n",
       "      <td>22.35</td>\n",
       "    </tr>\n",
       "    <tr>\n",
       "      <th>2</th>\n",
       "      <td>4</td>\n",
       "      <td>Cuvier</td>\n",
       "      <td>cuvier</td>\n",
       "      <td>1</td>\n",
       "      <td>Bas Cuvier est un secteur mythique, parmi les ...</td>\n",
       "      <td>Bas Cuvier is one of the most famous areas in ...</td>\n",
       "      <td>None</td>\n",
       "      <td>None</td>\n",
       "      <td>popular</td>\n",
       "      <td>48.446402</td>\n",
       "      <td>...</td>\n",
       "      <td>28</td>\n",
       "      <td>19</td>\n",
       "      <td>39</td>\n",
       "      <td>102</td>\n",
       "      <td>131</td>\n",
       "      <td>136</td>\n",
       "      <td>10</td>\n",
       "      <td>467</td>\n",
       "      <td>4</td>\n",
       "      <td>29.40</td>\n",
       "    </tr>\n",
       "    <tr>\n",
       "      <th>3</th>\n",
       "      <td>5</td>\n",
       "      <td>Franchard Isatis</td>\n",
       "      <td>franchardisatis</td>\n",
       "      <td>1</td>\n",
       "      <td>Franchard Isatis est un secteur très populaire...</td>\n",
       "      <td>Franchard Isatis is a very popular area, and v...</td>\n",
       "      <td>None</td>\n",
       "      <td>None</td>\n",
       "      <td>popular,beginner_friendly,family_friendly</td>\n",
       "      <td>48.408219</td>\n",
       "      <td>...</td>\n",
       "      <td>52</td>\n",
       "      <td>60</td>\n",
       "      <td>98</td>\n",
       "      <td>96</td>\n",
       "      <td>140</td>\n",
       "      <td>139</td>\n",
       "      <td>10</td>\n",
       "      <td>595</td>\n",
       "      <td>2</td>\n",
       "      <td>40.80</td>\n",
       "    </tr>\n",
       "    <tr>\n",
       "      <th>4</th>\n",
       "      <td>6</td>\n",
       "      <td>Cuvier Est</td>\n",
       "      <td>cuvierest</td>\n",
       "      <td>2</td>\n",
       "      <td>Cuvier Est est un petit secteur situé proche d...</td>\n",
       "      <td>Cuvier Est is a small area, 5-10 min away from...</td>\n",
       "      <td>None</td>\n",
       "      <td>None</td>\n",
       "      <td>None</td>\n",
       "      <td>48.445739</td>\n",
       "      <td>...</td>\n",
       "      <td>0</td>\n",
       "      <td>6</td>\n",
       "      <td>26</td>\n",
       "      <td>46</td>\n",
       "      <td>58</td>\n",
       "      <td>53</td>\n",
       "      <td>2</td>\n",
       "      <td>191</td>\n",
       "      <td>4</td>\n",
       "      <td>11.10</td>\n",
       "    </tr>\n",
       "    <tr>\n",
       "      <th>5</th>\n",
       "      <td>7</td>\n",
       "      <td>Apremont</td>\n",
       "      <td>apremont</td>\n",
       "      <td>1</td>\n",
       "      <td>Si vous cherchez un secteur adapté aux débutan...</td>\n",
       "      <td>If you are looking for an area suited for begi...</td>\n",
       "      <td>None</td>\n",
       "      <td>None</td>\n",
       "      <td>dry_fast</td>\n",
       "      <td>48.435696</td>\n",
       "      <td>...</td>\n",
       "      <td>1</td>\n",
       "      <td>21</td>\n",
       "      <td>41</td>\n",
       "      <td>17</td>\n",
       "      <td>16</td>\n",
       "      <td>40</td>\n",
       "      <td>1</td>\n",
       "      <td>137</td>\n",
       "      <td>3</td>\n",
       "      <td>11.70</td>\n",
       "    </tr>\n",
       "    <tr>\n",
       "      <th>6</th>\n",
       "      <td>8</td>\n",
       "      <td>Rocher Fin</td>\n",
       "      <td>rocherfin</td>\n",
       "      <td>1</td>\n",
       "      <td>Rocher Fin est un secteur magnifique, un peu m...</td>\n",
       "      <td>Rocher Fin is a beautiful area, a little less ...</td>\n",
       "      <td>None</td>\n",
       "      <td>None</td>\n",
       "      <td>beginner_friendly,family_friendly</td>\n",
       "      <td>48.375742</td>\n",
       "      <td>...</td>\n",
       "      <td>24</td>\n",
       "      <td>38</td>\n",
       "      <td>51</td>\n",
       "      <td>45</td>\n",
       "      <td>51</td>\n",
       "      <td>39</td>\n",
       "      <td>1</td>\n",
       "      <td>249</td>\n",
       "      <td>1</td>\n",
       "      <td>18.30</td>\n",
       "    </tr>\n",
       "    <tr>\n",
       "      <th>7</th>\n",
       "      <td>9</td>\n",
       "      <td>Éléphant</td>\n",
       "      <td>elephant</td>\n",
       "      <td>1</td>\n",
       "      <td>Éléphant est un secteur absolument magnifique,...</td>\n",
       "      <td>Éléphant is an absolutely beautiful area, perf...</td>\n",
       "      <td>None</td>\n",
       "      <td>None</td>\n",
       "      <td>popular,family_friendly</td>\n",
       "      <td>48.292882</td>\n",
       "      <td>...</td>\n",
       "      <td>38</td>\n",
       "      <td>32</td>\n",
       "      <td>46</td>\n",
       "      <td>37</td>\n",
       "      <td>47</td>\n",
       "      <td>43</td>\n",
       "      <td>5</td>\n",
       "      <td>287</td>\n",
       "      <td>5</td>\n",
       "      <td>20.25</td>\n",
       "    </tr>\n",
       "    <tr>\n",
       "      <th>8</th>\n",
       "      <td>10</td>\n",
       "      <td>95.2</td>\n",
       "      <td>952</td>\n",
       "      <td>1</td>\n",
       "      <td>95.2 est l'un des massifs de Fontainebleau qui...</td>\n",
       "      <td>95.2 is one of the Fontainebleau massifs that ...</td>\n",
       "      <td>None</td>\n",
       "      <td>None</td>\n",
       "      <td>popular,beginner_friendly,dry_fast,family_frie...</td>\n",
       "      <td>48.384645</td>\n",
       "      <td>...</td>\n",
       "      <td>9</td>\n",
       "      <td>69</td>\n",
       "      <td>67</td>\n",
       "      <td>65</td>\n",
       "      <td>45</td>\n",
       "      <td>61</td>\n",
       "      <td>3</td>\n",
       "      <td>319</td>\n",
       "      <td>1</td>\n",
       "      <td>26.70</td>\n",
       "    </tr>\n",
       "    <tr>\n",
       "      <th>9</th>\n",
       "      <td>11</td>\n",
       "      <td>Franchard Cuisinière</td>\n",
       "      <td>franchardcuisiniere</td>\n",
       "      <td>1</td>\n",
       "      <td>Franchard Cuisinière est un secteur populaire,...</td>\n",
       "      <td>Franchard Cuisinière is a popular area, offeri...</td>\n",
       "      <td>None</td>\n",
       "      <td>None</td>\n",
       "      <td>popular,beginner_friendly,family_friendly</td>\n",
       "      <td>48.409614</td>\n",
       "      <td>...</td>\n",
       "      <td>18</td>\n",
       "      <td>56</td>\n",
       "      <td>56</td>\n",
       "      <td>95</td>\n",
       "      <td>94</td>\n",
       "      <td>96</td>\n",
       "      <td>10</td>\n",
       "      <td>425</td>\n",
       "      <td>2</td>\n",
       "      <td>29.55</td>\n",
       "    </tr>\n",
       "    <tr>\n",
       "      <th>10</th>\n",
       "      <td>12</td>\n",
       "      <td>Roche aux Sabots</td>\n",
       "      <td>rocheauxsabots</td>\n",
       "      <td>1</td>\n",
       "      <td>La Roche aux Sabots est un secteur très popula...</td>\n",
       "      <td>La Roche aux Sabots is a popular area, and thu...</td>\n",
       "      <td>None</td>\n",
       "      <td>None</td>\n",
       "      <td>popular,beginner_friendly,family_friendly</td>\n",
       "      <td>48.373992</td>\n",
       "      <td>...</td>\n",
       "      <td>40</td>\n",
       "      <td>36</td>\n",
       "      <td>47</td>\n",
       "      <td>29</td>\n",
       "      <td>56</td>\n",
       "      <td>66</td>\n",
       "      <td>2</td>\n",
       "      <td>282</td>\n",
       "      <td>1</td>\n",
       "      <td>21.30</td>\n",
       "    </tr>\n",
       "    <tr>\n",
       "      <th>11</th>\n",
       "      <td>13</td>\n",
       "      <td>Canche aux Merciers</td>\n",
       "      <td>cancheauxmerciers</td>\n",
       "      <td>1</td>\n",
       "      <td>La Canche aux Merciers est un secteur parfait ...</td>\n",
       "      <td>La Canche aux Merciers is a perfect area for b...</td>\n",
       "      <td>None</td>\n",
       "      <td>None</td>\n",
       "      <td>beginner_friendly,family_friendly</td>\n",
       "      <td>48.391560</td>\n",
       "      <td>...</td>\n",
       "      <td>58</td>\n",
       "      <td>64</td>\n",
       "      <td>41</td>\n",
       "      <td>48</td>\n",
       "      <td>75</td>\n",
       "      <td>51</td>\n",
       "      <td>5</td>\n",
       "      <td>382</td>\n",
       "      <td>1</td>\n",
       "      <td>30.45</td>\n",
       "    </tr>\n",
       "    <tr>\n",
       "      <th>12</th>\n",
       "      <td>14</td>\n",
       "      <td>Rocher du Potala</td>\n",
       "      <td>rocherdupotala</td>\n",
       "      <td>1</td>\n",
       "      <td>Le Rocher du Potala est un secteur idéal pour ...</td>\n",
       "      <td>Rocher du Potala is an ideal area for a family...</td>\n",
       "      <td>None</td>\n",
       "      <td>None</td>\n",
       "      <td>beginner_friendly,family_friendly</td>\n",
       "      <td>48.366862</td>\n",
       "      <td>...</td>\n",
       "      <td>36</td>\n",
       "      <td>59</td>\n",
       "      <td>58</td>\n",
       "      <td>72</td>\n",
       "      <td>80</td>\n",
       "      <td>35</td>\n",
       "      <td>6</td>\n",
       "      <td>346</td>\n",
       "      <td>1</td>\n",
       "      <td>24.90</td>\n",
       "    </tr>\n",
       "    <tr>\n",
       "      <th>13</th>\n",
       "      <td>15</td>\n",
       "      <td>Gorge aux Châts</td>\n",
       "      <td>gorgeauxchats</td>\n",
       "      <td>1</td>\n",
       "      <td>À savoir : le parking le long de la route des ...</td>\n",
       "      <td>Please note: the parking along \"Route des Gran...</td>\n",
       "      <td>None</td>\n",
       "      <td>None</td>\n",
       "      <td>beginner_friendly,dry_fast</td>\n",
       "      <td>48.397974</td>\n",
       "      <td>...</td>\n",
       "      <td>11</td>\n",
       "      <td>31</td>\n",
       "      <td>32</td>\n",
       "      <td>30</td>\n",
       "      <td>70</td>\n",
       "      <td>44</td>\n",
       "      <td>5</td>\n",
       "      <td>223</td>\n",
       "      <td>1</td>\n",
       "      <td>12.30</td>\n",
       "    </tr>\n",
       "    <tr>\n",
       "      <th>14</th>\n",
       "      <td>16</td>\n",
       "      <td>91.1</td>\n",
       "      <td>911</td>\n",
       "      <td>1</td>\n",
       "      <td>91.1 est un secteur populaire situé à côté de ...</td>\n",
       "      <td>91.1 is a popular area right next to Cul de Ch...</td>\n",
       "      <td>None</td>\n",
       "      <td>None</td>\n",
       "      <td>beginner_friendly,dry_fast,family_friendly</td>\n",
       "      <td>48.375926</td>\n",
       "      <td>...</td>\n",
       "      <td>61</td>\n",
       "      <td>87</td>\n",
       "      <td>88</td>\n",
       "      <td>50</td>\n",
       "      <td>47</td>\n",
       "      <td>38</td>\n",
       "      <td>0</td>\n",
       "      <td>373</td>\n",
       "      <td>1</td>\n",
       "      <td>31.95</td>\n",
       "    </tr>\n",
       "    <tr>\n",
       "      <th>15</th>\n",
       "      <td>17</td>\n",
       "      <td>Rocher Guichot</td>\n",
       "      <td>rocherguichot</td>\n",
       "      <td>1</td>\n",
       "      <td>Rocher Guichot est un petit secteur agréable p...</td>\n",
       "      <td>Rocher Guichot is a small area, although quite...</td>\n",
       "      <td>None</td>\n",
       "      <td>None</td>\n",
       "      <td>beginner_friendly,family_friendly</td>\n",
       "      <td>48.363753</td>\n",
       "      <td>...</td>\n",
       "      <td>15</td>\n",
       "      <td>15</td>\n",
       "      <td>15</td>\n",
       "      <td>20</td>\n",
       "      <td>32</td>\n",
       "      <td>21</td>\n",
       "      <td>3</td>\n",
       "      <td>121</td>\n",
       "      <td>1</td>\n",
       "      <td>8.25</td>\n",
       "    </tr>\n",
       "    <tr>\n",
       "      <th>16</th>\n",
       "      <td>18</td>\n",
       "      <td>Diplodocus</td>\n",
       "      <td>diplodocus</td>\n",
       "      <td>1</td>\n",
       "      <td>Diplodocus est un petit secteur qui convient t...</td>\n",
       "      <td>Diplodocus is a small area that is quite suite...</td>\n",
       "      <td>None</td>\n",
       "      <td>None</td>\n",
       "      <td>beginner_friendly,family_friendly</td>\n",
       "      <td>48.370977</td>\n",
       "      <td>...</td>\n",
       "      <td>53</td>\n",
       "      <td>49</td>\n",
       "      <td>29</td>\n",
       "      <td>5</td>\n",
       "      <td>9</td>\n",
       "      <td>8</td>\n",
       "      <td>0</td>\n",
       "      <td>155</td>\n",
       "      <td>1</td>\n",
       "      <td>13.95</td>\n",
       "    </tr>\n",
       "    <tr>\n",
       "      <th>17</th>\n",
       "      <td>19</td>\n",
       "      <td>Rocher des Potets</td>\n",
       "      <td>rocherdespotets</td>\n",
       "      <td>2</td>\n",
       "      <td>Rocher des Potets est un tout petit secteur id...</td>\n",
       "      <td>Rocher des Potets is a tiny area that is quite...</td>\n",
       "      <td>None</td>\n",
       "      <td>None</td>\n",
       "      <td>beginner_friendly,family_friendly</td>\n",
       "      <td>48.381672</td>\n",
       "      <td>...</td>\n",
       "      <td>58</td>\n",
       "      <td>24</td>\n",
       "      <td>11</td>\n",
       "      <td>4</td>\n",
       "      <td>8</td>\n",
       "      <td>6</td>\n",
       "      <td>0</td>\n",
       "      <td>112</td>\n",
       "      <td>1</td>\n",
       "      <td>14.25</td>\n",
       "    </tr>\n",
       "    <tr>\n",
       "      <th>18</th>\n",
       "      <td>20</td>\n",
       "      <td>Apremont Ouest</td>\n",
       "      <td>apremontouest</td>\n",
       "      <td>2</td>\n",
       "      <td>None</td>\n",
       "      <td>None</td>\n",
       "      <td>None</td>\n",
       "      <td>None</td>\n",
       "      <td>None</td>\n",
       "      <td>48.436300</td>\n",
       "      <td>...</td>\n",
       "      <td>10</td>\n",
       "      <td>25</td>\n",
       "      <td>19</td>\n",
       "      <td>45</td>\n",
       "      <td>43</td>\n",
       "      <td>70</td>\n",
       "      <td>3</td>\n",
       "      <td>215</td>\n",
       "      <td>3</td>\n",
       "      <td>18.75</td>\n",
       "    </tr>\n",
       "    <tr>\n",
       "      <th>19</th>\n",
       "      <td>21</td>\n",
       "      <td>Bois Rond</td>\n",
       "      <td>boisrond</td>\n",
       "      <td>1</td>\n",
       "      <td>None</td>\n",
       "      <td>None</td>\n",
       "      <td>None</td>\n",
       "      <td>None</td>\n",
       "      <td>beginner_friendly</td>\n",
       "      <td>48.389905</td>\n",
       "      <td>...</td>\n",
       "      <td>56</td>\n",
       "      <td>46</td>\n",
       "      <td>26</td>\n",
       "      <td>38</td>\n",
       "      <td>72</td>\n",
       "      <td>35</td>\n",
       "      <td>2</td>\n",
       "      <td>275</td>\n",
       "      <td>1</td>\n",
       "      <td>22.35</td>\n",
       "    </tr>\n",
       "    <tr>\n",
       "      <th>20</th>\n",
       "      <td>22</td>\n",
       "      <td>Rocher des Souris</td>\n",
       "      <td>rocherdessouris</td>\n",
       "      <td>3</td>\n",
       "      <td>None</td>\n",
       "      <td>None</td>\n",
       "      <td>None</td>\n",
       "      <td>None</td>\n",
       "      <td>None</td>\n",
       "      <td>48.385001</td>\n",
       "      <td>...</td>\n",
       "      <td>1</td>\n",
       "      <td>5</td>\n",
       "      <td>4</td>\n",
       "      <td>9</td>\n",
       "      <td>27</td>\n",
       "      <td>40</td>\n",
       "      <td>0</td>\n",
       "      <td>86</td>\n",
       "      <td>1</td>\n",
       "      <td>4.20</td>\n",
       "    </tr>\n",
       "    <tr>\n",
       "      <th>21</th>\n",
       "      <td>23</td>\n",
       "      <td>Buthiers Piscine</td>\n",
       "      <td>buthierspiscine</td>\n",
       "      <td>1</td>\n",
       "      <td>Buthiers Piscine est un secteur situé juste à ...</td>\n",
       "      <td>Buthiers Piscine is located right next to an o...</td>\n",
       "      <td>None</td>\n",
       "      <td>None</td>\n",
       "      <td>beginner_friendly,family_friendly</td>\n",
       "      <td>48.291829</td>\n",
       "      <td>...</td>\n",
       "      <td>48</td>\n",
       "      <td>26</td>\n",
       "      <td>43</td>\n",
       "      <td>53</td>\n",
       "      <td>68</td>\n",
       "      <td>48</td>\n",
       "      <td>9</td>\n",
       "      <td>361</td>\n",
       "      <td>6</td>\n",
       "      <td>30.15</td>\n",
       "    </tr>\n",
       "    <tr>\n",
       "      <th>22</th>\n",
       "      <td>24</td>\n",
       "      <td>Rocher Saint-Germain Est</td>\n",
       "      <td>rochersaintgermainest</td>\n",
       "      <td>1</td>\n",
       "      <td>None</td>\n",
       "      <td>None</td>\n",
       "      <td>None</td>\n",
       "      <td>None</td>\n",
       "      <td>beginner_friendly,family_friendly</td>\n",
       "      <td>48.438819</td>\n",
       "      <td>...</td>\n",
       "      <td>43</td>\n",
       "      <td>37</td>\n",
       "      <td>25</td>\n",
       "      <td>31</td>\n",
       "      <td>42</td>\n",
       "      <td>26</td>\n",
       "      <td>5</td>\n",
       "      <td>261</td>\n",
       "      <td>12</td>\n",
       "      <td>17.85</td>\n",
       "    </tr>\n",
       "    <tr>\n",
       "      <th>23</th>\n",
       "      <td>25</td>\n",
       "      <td>Roche aux Oiseaux</td>\n",
       "      <td>rocheauxoiseaux</td>\n",
       "      <td>2</td>\n",
       "      <td>La Roche aux Oiseaux est un petit secteur calm...</td>\n",
       "      <td>La Roche aux Oiseaux is a small and quite nice...</td>\n",
       "      <td>None</td>\n",
       "      <td>None</td>\n",
       "      <td>None</td>\n",
       "      <td>48.377678</td>\n",
       "      <td>...</td>\n",
       "      <td>4</td>\n",
       "      <td>23</td>\n",
       "      <td>26</td>\n",
       "      <td>33</td>\n",
       "      <td>47</td>\n",
       "      <td>36</td>\n",
       "      <td>2</td>\n",
       "      <td>171</td>\n",
       "      <td>1</td>\n",
       "      <td>10.95</td>\n",
       "    </tr>\n",
       "    <tr>\n",
       "      <th>24</th>\n",
       "      <td>26</td>\n",
       "      <td>Drei Zinnen</td>\n",
       "      <td>dreizinnen</td>\n",
       "      <td>1</td>\n",
       "      <td>À savoir : on entend le bruit des voitures à c...</td>\n",
       "      <td>Note: the cars from the nearby highway make qu...</td>\n",
       "      <td>None</td>\n",
       "      <td>None</td>\n",
       "      <td>beginner_friendly,dry_fast</td>\n",
       "      <td>48.392291</td>\n",
       "      <td>...</td>\n",
       "      <td>25</td>\n",
       "      <td>39</td>\n",
       "      <td>37</td>\n",
       "      <td>22</td>\n",
       "      <td>63</td>\n",
       "      <td>55</td>\n",
       "      <td>4</td>\n",
       "      <td>245</td>\n",
       "      <td>1</td>\n",
       "      <td>16.80</td>\n",
       "    </tr>\n",
       "    <tr>\n",
       "      <th>25</th>\n",
       "      <td>27</td>\n",
       "      <td>Jean des Vignes</td>\n",
       "      <td>jeandesvignes</td>\n",
       "      <td>2</td>\n",
       "      <td>None</td>\n",
       "      <td>None</td>\n",
       "      <td>None</td>\n",
       "      <td>None</td>\n",
       "      <td>beginner_friendly,family_friendly</td>\n",
       "      <td>48.382397</td>\n",
       "      <td>...</td>\n",
       "      <td>1</td>\n",
       "      <td>14</td>\n",
       "      <td>41</td>\n",
       "      <td>24</td>\n",
       "      <td>23</td>\n",
       "      <td>16</td>\n",
       "      <td>1</td>\n",
       "      <td>120</td>\n",
       "      <td>1</td>\n",
       "      <td>10.35</td>\n",
       "    </tr>\n",
       "    <tr>\n",
       "      <th>26</th>\n",
       "      <td>28</td>\n",
       "      <td>La Ségognole</td>\n",
       "      <td>lasegognole</td>\n",
       "      <td>1</td>\n",
       "      <td>La Ségognole est un petit secteur assez dense,...</td>\n",
       "      <td>La Ségognole is a small but dense area, and is...</td>\n",
       "      <td>None</td>\n",
       "      <td>None</td>\n",
       "      <td>beginner_friendly,family_friendly</td>\n",
       "      <td>48.379642</td>\n",
       "      <td>...</td>\n",
       "      <td>44</td>\n",
       "      <td>52</td>\n",
       "      <td>14</td>\n",
       "      <td>28</td>\n",
       "      <td>13</td>\n",
       "      <td>2</td>\n",
       "      <td>0</td>\n",
       "      <td>154</td>\n",
       "      <td>1</td>\n",
       "      <td>14.55</td>\n",
       "    </tr>\n",
       "    <tr>\n",
       "      <th>27</th>\n",
       "      <td>29</td>\n",
       "      <td>Beauvais Nainville</td>\n",
       "      <td>beauvaisnainville</td>\n",
       "      <td>1</td>\n",
       "      <td>None</td>\n",
       "      <td>None</td>\n",
       "      <td>None</td>\n",
       "      <td>None</td>\n",
       "      <td>beginner_friendly,dry_fast,family_friendly</td>\n",
       "      <td>48.501270</td>\n",
       "      <td>...</td>\n",
       "      <td>142</td>\n",
       "      <td>71</td>\n",
       "      <td>40</td>\n",
       "      <td>40</td>\n",
       "      <td>95</td>\n",
       "      <td>48</td>\n",
       "      <td>0</td>\n",
       "      <td>536</td>\n",
       "      <td>7</td>\n",
       "      <td>44.55</td>\n",
       "    </tr>\n",
       "    <tr>\n",
       "      <th>28</th>\n",
       "      <td>30</td>\n",
       "      <td>J.A. Martin</td>\n",
       "      <td>jamartin</td>\n",
       "      <td>1</td>\n",
       "      <td>À savoir : certaines peintures sont effacées, ...</td>\n",
       "      <td>Please note: some of the paint markings are fa...</td>\n",
       "      <td>None</td>\n",
       "      <td>None</td>\n",
       "      <td>beginner_friendly,family_friendly</td>\n",
       "      <td>48.360089</td>\n",
       "      <td>...</td>\n",
       "      <td>51</td>\n",
       "      <td>94</td>\n",
       "      <td>80</td>\n",
       "      <td>65</td>\n",
       "      <td>86</td>\n",
       "      <td>62</td>\n",
       "      <td>5</td>\n",
       "      <td>444</td>\n",
       "      <td>1</td>\n",
       "      <td>42.75</td>\n",
       "    </tr>\n",
       "    <tr>\n",
       "      <th>29</th>\n",
       "      <td>31</td>\n",
       "      <td>Franchard Cuisinière Crêtes Sud</td>\n",
       "      <td>franchardcuisinierecretessud</td>\n",
       "      <td>2</td>\n",
       "      <td>Franchard Cuisinière Crêtes Sud est un petit s...</td>\n",
       "      <td>Franchard Cuisinière Crêtes Sud is a small are...</td>\n",
       "      <td>None</td>\n",
       "      <td>None</td>\n",
       "      <td>None</td>\n",
       "      <td>48.407420</td>\n",
       "      <td>...</td>\n",
       "      <td>0</td>\n",
       "      <td>0</td>\n",
       "      <td>1</td>\n",
       "      <td>4</td>\n",
       "      <td>37</td>\n",
       "      <td>44</td>\n",
       "      <td>8</td>\n",
       "      <td>95</td>\n",
       "      <td>2</td>\n",
       "      <td>6.90</td>\n",
       "    </tr>\n",
       "    <tr>\n",
       "      <th>30</th>\n",
       "      <td>32</td>\n",
       "      <td>Petit Bois</td>\n",
       "      <td>petitbois</td>\n",
       "      <td>1</td>\n",
       "      <td>None</td>\n",
       "      <td>None</td>\n",
       "      <td>None</td>\n",
       "      <td>None</td>\n",
       "      <td>None</td>\n",
       "      <td>48.262495</td>\n",
       "      <td>...</td>\n",
       "      <td>89</td>\n",
       "      <td>42</td>\n",
       "      <td>72</td>\n",
       "      <td>39</td>\n",
       "      <td>48</td>\n",
       "      <td>24</td>\n",
       "      <td>5</td>\n",
       "      <td>336</td>\n",
       "      <td>8</td>\n",
       "      <td>32.55</td>\n",
       "    </tr>\n",
       "    <tr>\n",
       "      <th>31</th>\n",
       "      <td>33</td>\n",
       "      <td>Rocher des Demoiselles</td>\n",
       "      <td>rocherdesdemoiselles</td>\n",
       "      <td>2</td>\n",
       "      <td>L'accès n'est pas facile, comptez une quinzain...</td>\n",
       "      <td>The walk from the parking takes more than 15 m...</td>\n",
       "      <td>None</td>\n",
       "      <td>None</td>\n",
       "      <td>dry_fast</td>\n",
       "      <td>48.378774</td>\n",
       "      <td>...</td>\n",
       "      <td>4</td>\n",
       "      <td>21</td>\n",
       "      <td>18</td>\n",
       "      <td>31</td>\n",
       "      <td>90</td>\n",
       "      <td>73</td>\n",
       "      <td>6</td>\n",
       "      <td>243</td>\n",
       "      <td>18</td>\n",
       "      <td>15.75</td>\n",
       "    </tr>\n",
       "    <tr>\n",
       "      <th>32</th>\n",
       "      <td>34</td>\n",
       "      <td>Franchard Sablons</td>\n",
       "      <td>franchardsablons</td>\n",
       "      <td>2</td>\n",
       "      <td>Franchard Sablons est un petit secteur calme, ...</td>\n",
       "      <td>Franchard Sablons is a small and quiet area, l...</td>\n",
       "      <td>None</td>\n",
       "      <td>None</td>\n",
       "      <td>beginner_friendly,family_friendly</td>\n",
       "      <td>48.407250</td>\n",
       "      <td>...</td>\n",
       "      <td>43</td>\n",
       "      <td>26</td>\n",
       "      <td>47</td>\n",
       "      <td>27</td>\n",
       "      <td>25</td>\n",
       "      <td>41</td>\n",
       "      <td>3</td>\n",
       "      <td>212</td>\n",
       "      <td>2</td>\n",
       "      <td>18.60</td>\n",
       "    </tr>\n",
       "    <tr>\n",
       "      <th>33</th>\n",
       "      <td>35</td>\n",
       "      <td>Rocher de la Cathédrale</td>\n",
       "      <td>rocherdelacathedrale</td>\n",
       "      <td>3</td>\n",
       "      <td>None</td>\n",
       "      <td>None</td>\n",
       "      <td>None</td>\n",
       "      <td>None</td>\n",
       "      <td>None</td>\n",
       "      <td>48.363673</td>\n",
       "      <td>...</td>\n",
       "      <td>11</td>\n",
       "      <td>19</td>\n",
       "      <td>12</td>\n",
       "      <td>3</td>\n",
       "      <td>16</td>\n",
       "      <td>11</td>\n",
       "      <td>0</td>\n",
       "      <td>72</td>\n",
       "      <td>1</td>\n",
       "      <td>7.05</td>\n",
       "    </tr>\n",
       "    <tr>\n",
       "      <th>34</th>\n",
       "      <td>36</td>\n",
       "      <td>Franchard Hautes Plaines</td>\n",
       "      <td>franchardhautesplaines</td>\n",
       "      <td>2</td>\n",
       "      <td>Franchard Hautes Plaines est petit secteur cal...</td>\n",
       "      <td>Franchard Hautes Plaines is a small and quiet ...</td>\n",
       "      <td>None</td>\n",
       "      <td>None</td>\n",
       "      <td>beginner_friendly</td>\n",
       "      <td>48.407238</td>\n",
       "      <td>...</td>\n",
       "      <td>53</td>\n",
       "      <td>38</td>\n",
       "      <td>14</td>\n",
       "      <td>9</td>\n",
       "      <td>28</td>\n",
       "      <td>44</td>\n",
       "      <td>2</td>\n",
       "      <td>191</td>\n",
       "      <td>2</td>\n",
       "      <td>19.05</td>\n",
       "    </tr>\n",
       "    <tr>\n",
       "      <th>35</th>\n",
       "      <td>37</td>\n",
       "      <td>Franchard Meyer</td>\n",
       "      <td>franchardmeyer</td>\n",
       "      <td>3</td>\n",
       "      <td>Le secteur est calme, mais certaines voies son...</td>\n",
       "      <td>The area is very quiet, but many problems aren...</td>\n",
       "      <td>None</td>\n",
       "      <td>None</td>\n",
       "      <td>None</td>\n",
       "      <td>48.407120</td>\n",
       "      <td>...</td>\n",
       "      <td>0</td>\n",
       "      <td>4</td>\n",
       "      <td>17</td>\n",
       "      <td>6</td>\n",
       "      <td>21</td>\n",
       "      <td>32</td>\n",
       "      <td>7</td>\n",
       "      <td>87</td>\n",
       "      <td>2</td>\n",
       "      <td>7.80</td>\n",
       "    </tr>\n",
       "    <tr>\n",
       "      <th>36</th>\n",
       "      <td>38</td>\n",
       "      <td>Franchard Sablons Carriers</td>\n",
       "      <td>franchardsablonscarriers</td>\n",
       "      <td>3</td>\n",
       "      <td>None</td>\n",
       "      <td>None</td>\n",
       "      <td>None</td>\n",
       "      <td>None</td>\n",
       "      <td>None</td>\n",
       "      <td>48.408210</td>\n",
       "      <td>...</td>\n",
       "      <td>0</td>\n",
       "      <td>0</td>\n",
       "      <td>3</td>\n",
       "      <td>5</td>\n",
       "      <td>10</td>\n",
       "      <td>17</td>\n",
       "      <td>6</td>\n",
       "      <td>41</td>\n",
       "      <td>2</td>\n",
       "      <td>2.40</td>\n",
       "    </tr>\n",
       "    <tr>\n",
       "      <th>37</th>\n",
       "      <td>39</td>\n",
       "      <td>Franchard Raymond</td>\n",
       "      <td>franchardraymond</td>\n",
       "      <td>3</td>\n",
       "      <td>Le secteur est calme, mais certaines voies son...</td>\n",
       "      <td>The area is very quiet, but many problems aren...</td>\n",
       "      <td>None</td>\n",
       "      <td>None</td>\n",
       "      <td>None</td>\n",
       "      <td>48.405149</td>\n",
       "      <td>...</td>\n",
       "      <td>0</td>\n",
       "      <td>0</td>\n",
       "      <td>2</td>\n",
       "      <td>32</td>\n",
       "      <td>24</td>\n",
       "      <td>31</td>\n",
       "      <td>1</td>\n",
       "      <td>90</td>\n",
       "      <td>2</td>\n",
       "      <td>7.50</td>\n",
       "    </tr>\n",
       "    <tr>\n",
       "      <th>38</th>\n",
       "      <td>40</td>\n",
       "      <td>Cuvier Merveille</td>\n",
       "      <td>cuviermerveille</td>\n",
       "      <td>2</td>\n",
       "      <td>Cuvier Merveille est un micro-secteur, essenti...</td>\n",
       "      <td>Cuvier Merveille is a tiny area, mainly consis...</td>\n",
       "      <td>None</td>\n",
       "      <td>None</td>\n",
       "      <td>None</td>\n",
       "      <td>48.444090</td>\n",
       "      <td>...</td>\n",
       "      <td>1</td>\n",
       "      <td>1</td>\n",
       "      <td>0</td>\n",
       "      <td>9</td>\n",
       "      <td>14</td>\n",
       "      <td>14</td>\n",
       "      <td>2</td>\n",
       "      <td>41</td>\n",
       "      <td>4</td>\n",
       "      <td>1.95</td>\n",
       "    </tr>\n",
       "    <tr>\n",
       "      <th>39</th>\n",
       "      <td>41</td>\n",
       "      <td>Maunoury</td>\n",
       "      <td>maunoury</td>\n",
       "      <td>2</td>\n",
       "      <td>Le secteur est moins connu (et donc plus calme...</td>\n",
       "      <td>The area is less known (and thus quieter) than...</td>\n",
       "      <td>None</td>\n",
       "      <td>None</td>\n",
       "      <td>None</td>\n",
       "      <td>48.301883</td>\n",
       "      <td>...</td>\n",
       "      <td>31</td>\n",
       "      <td>61</td>\n",
       "      <td>33</td>\n",
       "      <td>30</td>\n",
       "      <td>44</td>\n",
       "      <td>74</td>\n",
       "      <td>3</td>\n",
       "      <td>277</td>\n",
       "      <td>5</td>\n",
       "      <td>29.55</td>\n",
       "    </tr>\n",
       "    <tr>\n",
       "      <th>40</th>\n",
       "      <td>42</td>\n",
       "      <td>Dame Jouanne</td>\n",
       "      <td>damejouanne</td>\n",
       "      <td>2</td>\n",
       "      <td>Dame Jouanne est un des tous premiers secteurs...</td>\n",
       "      <td>Dame Jouanne is a historic area in Font. It is...</td>\n",
       "      <td>None</td>\n",
       "      <td>None</td>\n",
       "      <td>None</td>\n",
       "      <td>48.302254</td>\n",
       "      <td>...</td>\n",
       "      <td>86</td>\n",
       "      <td>105</td>\n",
       "      <td>111</td>\n",
       "      <td>70</td>\n",
       "      <td>51</td>\n",
       "      <td>73</td>\n",
       "      <td>5</td>\n",
       "      <td>512</td>\n",
       "      <td>5</td>\n",
       "      <td>44.40</td>\n",
       "    </tr>\n",
       "    <tr>\n",
       "      <th>41</th>\n",
       "      <td>43</td>\n",
       "      <td>Cuvier Ouest</td>\n",
       "      <td>cuvierouest</td>\n",
       "      <td>3</td>\n",
       "      <td>Cuvier Ouest est un petit secteur situé à côté...</td>\n",
       "      <td>Cuvier Ouest is a small area located right nex...</td>\n",
       "      <td>Réserve biologique : évitez de pénétrer dans l...</td>\n",
       "      <td>Biological reserve: avoid leaving the paths an...</td>\n",
       "      <td>None</td>\n",
       "      <td>48.446810</td>\n",
       "      <td>...</td>\n",
       "      <td>0</td>\n",
       "      <td>1</td>\n",
       "      <td>26</td>\n",
       "      <td>22</td>\n",
       "      <td>31</td>\n",
       "      <td>37</td>\n",
       "      <td>2</td>\n",
       "      <td>119</td>\n",
       "      <td>4</td>\n",
       "      <td>9.90</td>\n",
       "    </tr>\n",
       "    <tr>\n",
       "      <th>42</th>\n",
       "      <td>44</td>\n",
       "      <td>Cuvier Nord</td>\n",
       "      <td>cuviernord</td>\n",
       "      <td>3</td>\n",
       "      <td>Cuvier Nord est un petit secteur situé à côté ...</td>\n",
       "      <td>Cuvier Nord is a small area located right next...</td>\n",
       "      <td>None</td>\n",
       "      <td>None</td>\n",
       "      <td>None</td>\n",
       "      <td>48.446912</td>\n",
       "      <td>...</td>\n",
       "      <td>3</td>\n",
       "      <td>15</td>\n",
       "      <td>14</td>\n",
       "      <td>23</td>\n",
       "      <td>33</td>\n",
       "      <td>67</td>\n",
       "      <td>3</td>\n",
       "      <td>158</td>\n",
       "      <td>4</td>\n",
       "      <td>13.20</td>\n",
       "    </tr>\n",
       "    <tr>\n",
       "      <th>43</th>\n",
       "      <td>45</td>\n",
       "      <td>Cuvier Bellevue</td>\n",
       "      <td>cuvierbellevue</td>\n",
       "      <td>3</td>\n",
       "      <td>Secteur plutôt sauvage proche de Cuvier, connu...</td>\n",
       "      <td>A rather wild area close to Cuvier, known for ...</td>\n",
       "      <td>None</td>\n",
       "      <td>None</td>\n",
       "      <td>None</td>\n",
       "      <td>48.446530</td>\n",
       "      <td>...</td>\n",
       "      <td>20</td>\n",
       "      <td>33</td>\n",
       "      <td>12</td>\n",
       "      <td>19</td>\n",
       "      <td>58</td>\n",
       "      <td>65</td>\n",
       "      <td>2</td>\n",
       "      <td>212</td>\n",
       "      <td>4</td>\n",
       "      <td>16.95</td>\n",
       "    </tr>\n",
       "    <tr>\n",
       "      <th>44</th>\n",
       "      <td>46</td>\n",
       "      <td>Apremont Bizons</td>\n",
       "      <td>apremontbizons</td>\n",
       "      <td>2</td>\n",
       "      <td>Le secteur est dense et dégagé, il est beaucou...</td>\n",
       "      <td>The area is dense and it's way easier to get a...</td>\n",
       "      <td>None</td>\n",
       "      <td>None</td>\n",
       "      <td>beginner_friendly,family_friendly</td>\n",
       "      <td>48.433760</td>\n",
       "      <td>...</td>\n",
       "      <td>58</td>\n",
       "      <td>62</td>\n",
       "      <td>60</td>\n",
       "      <td>78</td>\n",
       "      <td>95</td>\n",
       "      <td>61</td>\n",
       "      <td>2</td>\n",
       "      <td>417</td>\n",
       "      <td>3</td>\n",
       "      <td>35.85</td>\n",
       "    </tr>\n",
       "    <tr>\n",
       "      <th>45</th>\n",
       "      <td>47</td>\n",
       "      <td>Rocher Canon Ouest</td>\n",
       "      <td>rochercanonouest</td>\n",
       "      <td>3</td>\n",
       "      <td>Rocher Canon Ouest est un tout petit secteur p...</td>\n",
       "      <td>Rocher Canon Ouest is a tiny area located righ...</td>\n",
       "      <td>None</td>\n",
       "      <td>None</td>\n",
       "      <td>None</td>\n",
       "      <td>48.461050</td>\n",
       "      <td>...</td>\n",
       "      <td>0</td>\n",
       "      <td>0</td>\n",
       "      <td>6</td>\n",
       "      <td>16</td>\n",
       "      <td>29</td>\n",
       "      <td>37</td>\n",
       "      <td>3</td>\n",
       "      <td>91</td>\n",
       "      <td>11</td>\n",
       "      <td>6.00</td>\n",
       "    </tr>\n",
       "    <tr>\n",
       "      <th>46</th>\n",
       "      <td>48</td>\n",
       "      <td>Apremont Butte aux Dames</td>\n",
       "      <td>apremontbutteauxdames</td>\n",
       "      <td>2</td>\n",
       "      <td>Le secteur est dense et dégagé, il est beaucou...</td>\n",
       "      <td>The area is dense and it's way easier to get a...</td>\n",
       "      <td>None</td>\n",
       "      <td>None</td>\n",
       "      <td>beginner_friendly,family_friendly</td>\n",
       "      <td>48.437825</td>\n",
       "      <td>...</td>\n",
       "      <td>49</td>\n",
       "      <td>36</td>\n",
       "      <td>54</td>\n",
       "      <td>56</td>\n",
       "      <td>68</td>\n",
       "      <td>41</td>\n",
       "      <td>1</td>\n",
       "      <td>305</td>\n",
       "      <td>3</td>\n",
       "      <td>26.85</td>\n",
       "    </tr>\n",
       "    <tr>\n",
       "      <th>47</th>\n",
       "      <td>49</td>\n",
       "      <td>Apremont Solitude</td>\n",
       "      <td>apremontsolitude</td>\n",
       "      <td>3</td>\n",
       "      <td>Apremont Solitude est un petit secteur situé à...</td>\n",
       "      <td>Apremont Solitude is a small area located East...</td>\n",
       "      <td>None</td>\n",
       "      <td>None</td>\n",
       "      <td>None</td>\n",
       "      <td>48.435406</td>\n",
       "      <td>...</td>\n",
       "      <td>0</td>\n",
       "      <td>7</td>\n",
       "      <td>36</td>\n",
       "      <td>15</td>\n",
       "      <td>25</td>\n",
       "      <td>25</td>\n",
       "      <td>1</td>\n",
       "      <td>109</td>\n",
       "      <td>3</td>\n",
       "      <td>9.15</td>\n",
       "    </tr>\n",
       "    <tr>\n",
       "      <th>48</th>\n",
       "      <td>50</td>\n",
       "      <td>Rocher d'Avon</td>\n",
       "      <td>rocherdavon</td>\n",
       "      <td>1</td>\n",
       "      <td>À savoir : le parking historique le long de la...</td>\n",
       "      <td>Please note: the historic parking lot along th...</td>\n",
       "      <td>None</td>\n",
       "      <td>None</td>\n",
       "      <td>beginner_friendly</td>\n",
       "      <td>48.392594</td>\n",
       "      <td>...</td>\n",
       "      <td>7</td>\n",
       "      <td>32</td>\n",
       "      <td>24</td>\n",
       "      <td>31</td>\n",
       "      <td>38</td>\n",
       "      <td>46</td>\n",
       "      <td>3</td>\n",
       "      <td>181</td>\n",
       "      <td>16</td>\n",
       "      <td>14.70</td>\n",
       "    </tr>\n",
       "    <tr>\n",
       "      <th>49</th>\n",
       "      <td>51</td>\n",
       "      <td>Restant du Long Rocher</td>\n",
       "      <td>restantdulongrocher</td>\n",
       "      <td>1</td>\n",
       "      <td>None</td>\n",
       "      <td>None</td>\n",
       "      <td>None</td>\n",
       "      <td>None</td>\n",
       "      <td>None</td>\n",
       "      <td>48.353466</td>\n",
       "      <td>...</td>\n",
       "      <td>0</td>\n",
       "      <td>0</td>\n",
       "      <td>52</td>\n",
       "      <td>23</td>\n",
       "      <td>34</td>\n",
       "      <td>25</td>\n",
       "      <td>0</td>\n",
       "      <td>134</td>\n",
       "      <td>9</td>\n",
       "      <td>15.15</td>\n",
       "    </tr>\n",
       "    <tr>\n",
       "      <th>50</th>\n",
       "      <td>52</td>\n",
       "      <td>Rocher de Bouligny</td>\n",
       "      <td>rocherdebouligny</td>\n",
       "      <td>2</td>\n",
       "      <td>None</td>\n",
       "      <td>None</td>\n",
       "      <td>None</td>\n",
       "      <td>None</td>\n",
       "      <td>None</td>\n",
       "      <td>48.384282</td>\n",
       "      <td>...</td>\n",
       "      <td>8</td>\n",
       "      <td>12</td>\n",
       "      <td>21</td>\n",
       "      <td>33</td>\n",
       "      <td>46</td>\n",
       "      <td>24</td>\n",
       "      <td>8</td>\n",
       "      <td>153</td>\n",
       "      <td>17</td>\n",
       "      <td>9.30</td>\n",
       "    </tr>\n",
       "    <tr>\n",
       "      <th>51</th>\n",
       "      <td>53</td>\n",
       "      <td>Mont Ussy</td>\n",
       "      <td>montussy</td>\n",
       "      <td>2</td>\n",
       "      <td>None</td>\n",
       "      <td>None</td>\n",
       "      <td>None</td>\n",
       "      <td>None</td>\n",
       "      <td>family_friendly</td>\n",
       "      <td>48.420623</td>\n",
       "      <td>...</td>\n",
       "      <td>26</td>\n",
       "      <td>26</td>\n",
       "      <td>34</td>\n",
       "      <td>22</td>\n",
       "      <td>28</td>\n",
       "      <td>29</td>\n",
       "      <td>1</td>\n",
       "      <td>167</td>\n",
       "      <td>13</td>\n",
       "      <td>15.90</td>\n",
       "    </tr>\n",
       "    <tr>\n",
       "      <th>52</th>\n",
       "      <td>54</td>\n",
       "      <td>Rocher du Général</td>\n",
       "      <td>rocherdugeneral</td>\n",
       "      <td>2</td>\n",
       "      <td>Rocher du Général est un petit secteur calme a...</td>\n",
       "      <td>Rocher du Général is a lovely and quiet area, ...</td>\n",
       "      <td>None</td>\n",
       "      <td>None</td>\n",
       "      <td>beginner_friendly,family_friendly</td>\n",
       "      <td>48.371493</td>\n",
       "      <td>...</td>\n",
       "      <td>29</td>\n",
       "      <td>13</td>\n",
       "      <td>32</td>\n",
       "      <td>20</td>\n",
       "      <td>15</td>\n",
       "      <td>10</td>\n",
       "      <td>0</td>\n",
       "      <td>119</td>\n",
       "      <td>1</td>\n",
       "      <td>13.95</td>\n",
       "    </tr>\n",
       "    <tr>\n",
       "      <th>53</th>\n",
       "      <td>55</td>\n",
       "      <td>Justice de Chambergeot</td>\n",
       "      <td>justicedechambergeot</td>\n",
       "      <td>2</td>\n",
       "      <td>None</td>\n",
       "      <td>None</td>\n",
       "      <td>None</td>\n",
       "      <td>None</td>\n",
       "      <td>family_friendly</td>\n",
       "      <td>48.393286</td>\n",
       "      <td>...</td>\n",
       "      <td>43</td>\n",
       "      <td>22</td>\n",
       "      <td>9</td>\n",
       "      <td>3</td>\n",
       "      <td>15</td>\n",
       "      <td>18</td>\n",
       "      <td>0</td>\n",
       "      <td>116</td>\n",
       "      <td>1</td>\n",
       "      <td>13.05</td>\n",
       "    </tr>\n",
       "    <tr>\n",
       "      <th>54</th>\n",
       "      <td>56</td>\n",
       "      <td>Grande Montagne</td>\n",
       "      <td>grandemontagne</td>\n",
       "      <td>3</td>\n",
       "      <td>Grande Montagne est un petit secteur longeant ...</td>\n",
       "      <td>Grande Montagne is a small area alongside the ...</td>\n",
       "      <td>None</td>\n",
       "      <td>None</td>\n",
       "      <td>None</td>\n",
       "      <td>48.368996</td>\n",
       "      <td>...</td>\n",
       "      <td>8</td>\n",
       "      <td>40</td>\n",
       "      <td>23</td>\n",
       "      <td>7</td>\n",
       "      <td>17</td>\n",
       "      <td>20</td>\n",
       "      <td>1</td>\n",
       "      <td>116</td>\n",
       "      <td>1</td>\n",
       "      <td>13.50</td>\n",
       "    </tr>\n",
       "    <tr>\n",
       "      <th>55</th>\n",
       "      <td>57</td>\n",
       "      <td>Rocher du Télégraphe</td>\n",
       "      <td>rocherdutelegraphe</td>\n",
       "      <td>3</td>\n",
       "      <td>Bon à savoir : plusieurs circuits enfants sont...</td>\n",
       "      <td>Note: there are several circuits for kids righ...</td>\n",
       "      <td>None</td>\n",
       "      <td>None</td>\n",
       "      <td>None</td>\n",
       "      <td>48.394450</td>\n",
       "      <td>...</td>\n",
       "      <td>0</td>\n",
       "      <td>5</td>\n",
       "      <td>25</td>\n",
       "      <td>14</td>\n",
       "      <td>46</td>\n",
       "      <td>52</td>\n",
       "      <td>1</td>\n",
       "      <td>143</td>\n",
       "      <td>1</td>\n",
       "      <td>11.40</td>\n",
       "    </tr>\n",
       "    <tr>\n",
       "      <th>56</th>\n",
       "      <td>58</td>\n",
       "      <td>Pignon Poteau</td>\n",
       "      <td>pignonpoteau</td>\n",
       "      <td>3</td>\n",
       "      <td>Pignon Poteau est un petit secteur longeant le...</td>\n",
       "      <td>Pignon Poteau is a small area alongside the \"2...</td>\n",
       "      <td>None</td>\n",
       "      <td>None</td>\n",
       "      <td>None</td>\n",
       "      <td>48.389003</td>\n",
       "      <td>...</td>\n",
       "      <td>49</td>\n",
       "      <td>28</td>\n",
       "      <td>2</td>\n",
       "      <td>0</td>\n",
       "      <td>0</td>\n",
       "      <td>0</td>\n",
       "      <td>0</td>\n",
       "      <td>83</td>\n",
       "      <td>1</td>\n",
       "      <td>9.00</td>\n",
       "    </tr>\n",
       "    <tr>\n",
       "      <th>57</th>\n",
       "      <td>59</td>\n",
       "      <td>Gros Sablons</td>\n",
       "      <td>grossablons</td>\n",
       "      <td>2</td>\n",
       "      <td>Gros Sablons s'étend sur une grande distance, ...</td>\n",
       "      <td>Gros Sablons stretches over a long distance, w...</td>\n",
       "      <td>None</td>\n",
       "      <td>None</td>\n",
       "      <td>dry_fast</td>\n",
       "      <td>48.383055</td>\n",
       "      <td>...</td>\n",
       "      <td>16</td>\n",
       "      <td>51</td>\n",
       "      <td>39</td>\n",
       "      <td>38</td>\n",
       "      <td>24</td>\n",
       "      <td>25</td>\n",
       "      <td>5</td>\n",
       "      <td>198</td>\n",
       "      <td>1</td>\n",
       "      <td>22.20</td>\n",
       "    </tr>\n",
       "    <tr>\n",
       "      <th>58</th>\n",
       "      <td>60</td>\n",
       "      <td>Corne-Biche</td>\n",
       "      <td>cornebiche</td>\n",
       "      <td>3</td>\n",
       "      <td>Corne-Biche est un secteur assez peu fréquenté...</td>\n",
       "      <td>Corne-Biche is a lesser-known area, and it can...</td>\n",
       "      <td>None</td>\n",
       "      <td>None</td>\n",
       "      <td>None</td>\n",
       "      <td>48.397384</td>\n",
       "      <td>...</td>\n",
       "      <td>56</td>\n",
       "      <td>55</td>\n",
       "      <td>29</td>\n",
       "      <td>19</td>\n",
       "      <td>16</td>\n",
       "      <td>26</td>\n",
       "      <td>3</td>\n",
       "      <td>210</td>\n",
       "      <td>14</td>\n",
       "      <td>21.30</td>\n",
       "    </tr>\n",
       "    <tr>\n",
       "      <th>59</th>\n",
       "      <td>61</td>\n",
       "      <td>Rocher de la Reine</td>\n",
       "      <td>rocherdelareine</td>\n",
       "      <td>2</td>\n",
       "      <td>Rocher de la Reine est un joli secteur, idéal ...</td>\n",
       "      <td>Rocher de la Reine is a lovely area, quite sui...</td>\n",
       "      <td>None</td>\n",
       "      <td>None</td>\n",
       "      <td>dry_fast,family_friendly</td>\n",
       "      <td>48.391639</td>\n",
       "      <td>...</td>\n",
       "      <td>45</td>\n",
       "      <td>22</td>\n",
       "      <td>43</td>\n",
       "      <td>16</td>\n",
       "      <td>68</td>\n",
       "      <td>49</td>\n",
       "      <td>3</td>\n",
       "      <td>247</td>\n",
       "      <td>1</td>\n",
       "      <td>24.15</td>\n",
       "    </tr>\n",
       "    <tr>\n",
       "      <th>60</th>\n",
       "      <td>62</td>\n",
       "      <td>Apremont Envers</td>\n",
       "      <td>apremontenvers</td>\n",
       "      <td>2</td>\n",
       "      <td>Apremont Envers est un secteur calme situé à c...</td>\n",
       "      <td>Apremont Envers is a quiet area located next t...</td>\n",
       "      <td>None</td>\n",
       "      <td>None</td>\n",
       "      <td>family_friendly</td>\n",
       "      <td>48.436688</td>\n",
       "      <td>...</td>\n",
       "      <td>41</td>\n",
       "      <td>36</td>\n",
       "      <td>27</td>\n",
       "      <td>51</td>\n",
       "      <td>54</td>\n",
       "      <td>68</td>\n",
       "      <td>9</td>\n",
       "      <td>288</td>\n",
       "      <td>3</td>\n",
       "      <td>30.45</td>\n",
       "    </tr>\n",
       "    <tr>\n",
       "      <th>61</th>\n",
       "      <td>63</td>\n",
       "      <td>Apremont Désert</td>\n",
       "      <td>apremontdesert</td>\n",
       "      <td>3</td>\n",
       "      <td>Grand secteur à l’est d’Apremont avec 4 beaux ...</td>\n",
       "      <td>Large area to the east of Apremont with 4 beau...</td>\n",
       "      <td>None</td>\n",
       "      <td>None</td>\n",
       "      <td>None</td>\n",
       "      <td>48.435330</td>\n",
       "      <td>...</td>\n",
       "      <td>39</td>\n",
       "      <td>65</td>\n",
       "      <td>36</td>\n",
       "      <td>10</td>\n",
       "      <td>64</td>\n",
       "      <td>81</td>\n",
       "      <td>3</td>\n",
       "      <td>298</td>\n",
       "      <td>3</td>\n",
       "      <td>26.85</td>\n",
       "    </tr>\n",
       "    <tr>\n",
       "      <th>62</th>\n",
       "      <td>64</td>\n",
       "      <td>Cuvier Rempart</td>\n",
       "      <td>cuvierrempart</td>\n",
       "      <td>2</td>\n",
       "      <td>Cuvier Rempart est un secteur historique propo...</td>\n",
       "      <td>Cuvier Rempart is a historical area offering m...</td>\n",
       "      <td>Please note: the yellow circuit isn't suited f...</td>\n",
       "      <td>None</td>\n",
       "      <td>None</td>\n",
       "      <td>48.444674</td>\n",
       "      <td>...</td>\n",
       "      <td>6</td>\n",
       "      <td>20</td>\n",
       "      <td>38</td>\n",
       "      <td>121</td>\n",
       "      <td>172</td>\n",
       "      <td>142</td>\n",
       "      <td>34</td>\n",
       "      <td>533</td>\n",
       "      <td>4</td>\n",
       "      <td>39.00</td>\n",
       "    </tr>\n",
       "    <tr>\n",
       "      <th>63</th>\n",
       "      <td>66</td>\n",
       "      <td>Cuvier Petit Rempart</td>\n",
       "      <td>cuvierpetitrempart</td>\n",
       "      <td>3</td>\n",
       "      <td>None</td>\n",
       "      <td>None</td>\n",
       "      <td>None</td>\n",
       "      <td>None</td>\n",
       "      <td>None</td>\n",
       "      <td>48.444817</td>\n",
       "      <td>...</td>\n",
       "      <td>0</td>\n",
       "      <td>1</td>\n",
       "      <td>6</td>\n",
       "      <td>19</td>\n",
       "      <td>36</td>\n",
       "      <td>35</td>\n",
       "      <td>2</td>\n",
       "      <td>99</td>\n",
       "      <td>4</td>\n",
       "      <td>5.55</td>\n",
       "    </tr>\n",
       "    <tr>\n",
       "      <th>64</th>\n",
       "      <td>67</td>\n",
       "      <td>Cuvier Reconnaissance</td>\n",
       "      <td>cuvierreconnaissance</td>\n",
       "      <td>3</td>\n",
       "      <td>À savoir : il est difficile de se déplacer et ...</td>\n",
       "      <td>Please note: It is difficult to move around an...</td>\n",
       "      <td>None</td>\n",
       "      <td>None</td>\n",
       "      <td>None</td>\n",
       "      <td>48.445906</td>\n",
       "      <td>...</td>\n",
       "      <td>1</td>\n",
       "      <td>4</td>\n",
       "      <td>7</td>\n",
       "      <td>33</td>\n",
       "      <td>43</td>\n",
       "      <td>37</td>\n",
       "      <td>7</td>\n",
       "      <td>132</td>\n",
       "      <td>4</td>\n",
       "      <td>9.15</td>\n",
       "    </tr>\n",
       "    <tr>\n",
       "      <th>65</th>\n",
       "      <td>69</td>\n",
       "      <td>Apremont Est</td>\n",
       "      <td>apremontest</td>\n",
       "      <td>2</td>\n",
       "      <td>À savoir : il est assez difficile de se déplac...</td>\n",
       "      <td>Please note: it can be quite tricky to find yo...</td>\n",
       "      <td>None</td>\n",
       "      <td>None</td>\n",
       "      <td>None</td>\n",
       "      <td>48.434960</td>\n",
       "      <td>...</td>\n",
       "      <td>47</td>\n",
       "      <td>57</td>\n",
       "      <td>42</td>\n",
       "      <td>79</td>\n",
       "      <td>45</td>\n",
       "      <td>57</td>\n",
       "      <td>3</td>\n",
       "      <td>331</td>\n",
       "      <td>3</td>\n",
       "      <td>34.35</td>\n",
       "    </tr>\n",
       "    <tr>\n",
       "      <th>66</th>\n",
       "      <td>70</td>\n",
       "      <td>Rocher d'Avon Est</td>\n",
       "      <td>rocherdavonest</td>\n",
       "      <td>2</td>\n",
       "      <td>À savoir : le parking historique le long de la...</td>\n",
       "      <td>Please note: the historic parking lot along th...</td>\n",
       "      <td>None</td>\n",
       "      <td>None</td>\n",
       "      <td>None</td>\n",
       "      <td>48.392276</td>\n",
       "      <td>...</td>\n",
       "      <td>0</td>\n",
       "      <td>2</td>\n",
       "      <td>5</td>\n",
       "      <td>13</td>\n",
       "      <td>11</td>\n",
       "      <td>5</td>\n",
       "      <td>0</td>\n",
       "      <td>36</td>\n",
       "      <td>16</td>\n",
       "      <td>2.40</td>\n",
       "    </tr>\n",
       "    <tr>\n",
       "      <th>67</th>\n",
       "      <td>71</td>\n",
       "      <td>Gros Sablons Nord</td>\n",
       "      <td>grossablonsnord</td>\n",
       "      <td>3</td>\n",
       "      <td>Gros Sablons Nord est situé juste à côté de Gr...</td>\n",
       "      <td>Gros Sablons Nord is located right next to Gro...</td>\n",
       "      <td>None</td>\n",
       "      <td>None</td>\n",
       "      <td>None</td>\n",
       "      <td>48.387061</td>\n",
       "      <td>...</td>\n",
       "      <td>15</td>\n",
       "      <td>19</td>\n",
       "      <td>43</td>\n",
       "      <td>18</td>\n",
       "      <td>13</td>\n",
       "      <td>11</td>\n",
       "      <td>0</td>\n",
       "      <td>119</td>\n",
       "      <td>1</td>\n",
       "      <td>13.65</td>\n",
       "    </tr>\n",
       "    <tr>\n",
       "      <th>68</th>\n",
       "      <td>72</td>\n",
       "      <td>Le Calvaire</td>\n",
       "      <td>lecalvaire</td>\n",
       "      <td>3</td>\n",
       "      <td>None</td>\n",
       "      <td>None</td>\n",
       "      <td>None</td>\n",
       "      <td>None</td>\n",
       "      <td>None</td>\n",
       "      <td>48.420223</td>\n",
       "      <td>...</td>\n",
       "      <td>56</td>\n",
       "      <td>35</td>\n",
       "      <td>25</td>\n",
       "      <td>27</td>\n",
       "      <td>41</td>\n",
       "      <td>40</td>\n",
       "      <td>4</td>\n",
       "      <td>248</td>\n",
       "      <td>13</td>\n",
       "      <td>20.70</td>\n",
       "    </tr>\n",
       "    <tr>\n",
       "      <th>69</th>\n",
       "      <td>73</td>\n",
       "      <td>Mont Aigu</td>\n",
       "      <td>montaigu</td>\n",
       "      <td>3</td>\n",
       "      <td>None</td>\n",
       "      <td>None</td>\n",
       "      <td>None</td>\n",
       "      <td>None</td>\n",
       "      <td>None</td>\n",
       "      <td>48.400670</td>\n",
       "      <td>...</td>\n",
       "      <td>37</td>\n",
       "      <td>57</td>\n",
       "      <td>56</td>\n",
       "      <td>22</td>\n",
       "      <td>53</td>\n",
       "      <td>37</td>\n",
       "      <td>0</td>\n",
       "      <td>262</td>\n",
       "      <td>15</td>\n",
       "      <td>26.85</td>\n",
       "    </tr>\n",
       "    <tr>\n",
       "      <th>70</th>\n",
       "      <td>75</td>\n",
       "      <td>Rocher Gréau</td>\n",
       "      <td>rochergreau</td>\n",
       "      <td>3</td>\n",
       "      <td>None</td>\n",
       "      <td>None</td>\n",
       "      <td>None</td>\n",
       "      <td>None</td>\n",
       "      <td>None</td>\n",
       "      <td>48.261685</td>\n",
       "      <td>...</td>\n",
       "      <td>0</td>\n",
       "      <td>0</td>\n",
       "      <td>2</td>\n",
       "      <td>8</td>\n",
       "      <td>36</td>\n",
       "      <td>41</td>\n",
       "      <td>14</td>\n",
       "      <td>101</td>\n",
       "      <td>8</td>\n",
       "      <td>7.65</td>\n",
       "    </tr>\n",
       "    <tr>\n",
       "      <th>71</th>\n",
       "      <td>76</td>\n",
       "      <td>Roche d'Hercule</td>\n",
       "      <td>rochedhercule</td>\n",
       "      <td>3</td>\n",
       "      <td>Secteur proche de Fontainebleau juste à côté d...</td>\n",
       "      <td>Area close to Fontainebleau right next to Mont...</td>\n",
       "      <td>None</td>\n",
       "      <td>None</td>\n",
       "      <td>None</td>\n",
       "      <td>48.420984</td>\n",
       "      <td>...</td>\n",
       "      <td>0</td>\n",
       "      <td>1</td>\n",
       "      <td>1</td>\n",
       "      <td>13</td>\n",
       "      <td>46</td>\n",
       "      <td>48</td>\n",
       "      <td>1</td>\n",
       "      <td>110</td>\n",
       "      <td>13</td>\n",
       "      <td>6.90</td>\n",
       "    </tr>\n",
       "    <tr>\n",
       "      <th>72</th>\n",
       "      <td>77</td>\n",
       "      <td>Buthiers Tennis</td>\n",
       "      <td>buthierstennis</td>\n",
       "      <td>3</td>\n",
       "      <td>None</td>\n",
       "      <td>None</td>\n",
       "      <td>None</td>\n",
       "      <td>None</td>\n",
       "      <td>None</td>\n",
       "      <td>48.294532</td>\n",
       "      <td>...</td>\n",
       "      <td>0</td>\n",
       "      <td>0</td>\n",
       "      <td>4</td>\n",
       "      <td>25</td>\n",
       "      <td>29</td>\n",
       "      <td>28</td>\n",
       "      <td>4</td>\n",
       "      <td>90</td>\n",
       "      <td>6</td>\n",
       "      <td>9.60</td>\n",
       "    </tr>\n",
       "    <tr>\n",
       "      <th>73</th>\n",
       "      <td>78</td>\n",
       "      <td>Buthiers Canard</td>\n",
       "      <td>buthierscanard</td>\n",
       "      <td>3</td>\n",
       "      <td>None</td>\n",
       "      <td>None</td>\n",
       "      <td>None</td>\n",
       "      <td>None</td>\n",
       "      <td>None</td>\n",
       "      <td>48.294504</td>\n",
       "      <td>...</td>\n",
       "      <td>11</td>\n",
       "      <td>24</td>\n",
       "      <td>30</td>\n",
       "      <td>18</td>\n",
       "      <td>28</td>\n",
       "      <td>33</td>\n",
       "      <td>2</td>\n",
       "      <td>146</td>\n",
       "      <td>6</td>\n",
       "      <td>15.00</td>\n",
       "    </tr>\n",
       "    <tr>\n",
       "      <th>74</th>\n",
       "      <td>80</td>\n",
       "      <td>Beauvais Télégraphe</td>\n",
       "      <td>beauvaistelegraphe</td>\n",
       "      <td>3</td>\n",
       "      <td>Beauvais Télégraphe est un secteur qui mérite ...</td>\n",
       "      <td>Beauvais Télégraphe is an area worth visiting ...</td>\n",
       "      <td>None</td>\n",
       "      <td>None</td>\n",
       "      <td>None</td>\n",
       "      <td>48.500171</td>\n",
       "      <td>...</td>\n",
       "      <td>34</td>\n",
       "      <td>5</td>\n",
       "      <td>34</td>\n",
       "      <td>15</td>\n",
       "      <td>7</td>\n",
       "      <td>6</td>\n",
       "      <td>0</td>\n",
       "      <td>142</td>\n",
       "      <td>7</td>\n",
       "      <td>10.80</td>\n",
       "    </tr>\n",
       "    <tr>\n",
       "      <th>75</th>\n",
       "      <td>81</td>\n",
       "      <td>Beauvais Loutteville</td>\n",
       "      <td>beauvaisloutteville</td>\n",
       "      <td>2</td>\n",
       "      <td>Beauvais Louteville est un secteur tout proche...</td>\n",
       "      <td>Beauvais Louteville is an area very close to t...</td>\n",
       "      <td>None</td>\n",
       "      <td>None</td>\n",
       "      <td>family_friendly</td>\n",
       "      <td>48.502471</td>\n",
       "      <td>...</td>\n",
       "      <td>45</td>\n",
       "      <td>33</td>\n",
       "      <td>26</td>\n",
       "      <td>7</td>\n",
       "      <td>10</td>\n",
       "      <td>1</td>\n",
       "      <td>0</td>\n",
       "      <td>199</td>\n",
       "      <td>7</td>\n",
       "      <td>10.80</td>\n",
       "    </tr>\n",
       "    <tr>\n",
       "      <th>76</th>\n",
       "      <td>82</td>\n",
       "      <td>Beauvais Roches Noires</td>\n",
       "      <td>beauvaisrochesnoires</td>\n",
       "      <td>3</td>\n",
       "      <td>Beauvais Roches Noires et un secteur plus éloi...</td>\n",
       "      <td>Beauvais Roches Noires is a more remote area f...</td>\n",
       "      <td>None</td>\n",
       "      <td>None</td>\n",
       "      <td>None</td>\n",
       "      <td>48.503325</td>\n",
       "      <td>...</td>\n",
       "      <td>8</td>\n",
       "      <td>15</td>\n",
       "      <td>36</td>\n",
       "      <td>33</td>\n",
       "      <td>9</td>\n",
       "      <td>1</td>\n",
       "      <td>0</td>\n",
       "      <td>102</td>\n",
       "      <td>7</td>\n",
       "      <td>7.20</td>\n",
       "    </tr>\n",
       "    <tr>\n",
       "      <th>77</th>\n",
       "      <td>83</td>\n",
       "      <td>Beauvais Hameau</td>\n",
       "      <td>beauvaishameau</td>\n",
       "      <td>2</td>\n",
       "      <td>Beauvais Hameau est un grand secteurs très int...</td>\n",
       "      <td>Beauvais Hameau is a large area that is very i...</td>\n",
       "      <td>None</td>\n",
       "      <td>None</td>\n",
       "      <td>None</td>\n",
       "      <td>48.499602</td>\n",
       "      <td>...</td>\n",
       "      <td>55</td>\n",
       "      <td>58</td>\n",
       "      <td>40</td>\n",
       "      <td>81</td>\n",
       "      <td>68</td>\n",
       "      <td>19</td>\n",
       "      <td>0</td>\n",
       "      <td>353</td>\n",
       "      <td>7</td>\n",
       "      <td>37.95</td>\n",
       "    </tr>\n",
       "    <tr>\n",
       "      <th>78</th>\n",
       "      <td>84</td>\n",
       "      <td>Puiselet Mont Sarrasin</td>\n",
       "      <td>puiseletmontsarrasin</td>\n",
       "      <td>3</td>\n",
       "      <td>Situé proche de Nemours, Puiselet Mont Sarrasi...</td>\n",
       "      <td>Located near Nemours, Puiselet Mont Sarrasin i...</td>\n",
       "      <td>None</td>\n",
       "      <td>None</td>\n",
       "      <td>None</td>\n",
       "      <td>48.268132</td>\n",
       "      <td>...</td>\n",
       "      <td>40</td>\n",
       "      <td>67</td>\n",
       "      <td>28</td>\n",
       "      <td>48</td>\n",
       "      <td>37</td>\n",
       "      <td>32</td>\n",
       "      <td>0</td>\n",
       "      <td>260</td>\n",
       "      <td>8</td>\n",
       "      <td>26.85</td>\n",
       "    </tr>\n",
       "    <tr>\n",
       "      <th>79</th>\n",
       "      <td>86</td>\n",
       "      <td>Restant du Long Rocher Sud</td>\n",
       "      <td>restantdulongrochersud</td>\n",
       "      <td>2</td>\n",
       "      <td>None</td>\n",
       "      <td>None</td>\n",
       "      <td>None</td>\n",
       "      <td>None</td>\n",
       "      <td>beginner_friendly,family_friendly</td>\n",
       "      <td>48.353115</td>\n",
       "      <td>...</td>\n",
       "      <td>32</td>\n",
       "      <td>29</td>\n",
       "      <td>13</td>\n",
       "      <td>8</td>\n",
       "      <td>26</td>\n",
       "      <td>11</td>\n",
       "      <td>1</td>\n",
       "      <td>121</td>\n",
       "      <td>9</td>\n",
       "      <td>10.05</td>\n",
       "    </tr>\n",
       "    <tr>\n",
       "      <th>80</th>\n",
       "      <td>91</td>\n",
       "      <td>Haute Pierre</td>\n",
       "      <td>hautepierre</td>\n",
       "      <td>3</td>\n",
       "      <td>La Haute Pierre est un joli secteur proche de ...</td>\n",
       "      <td>La Haute Pierre is a lovely area near Milly wi...</td>\n",
       "      <td>Réserve de chasse : ne pas y grimper pendant l...</td>\n",
       "      <td>Hunting area: no climbing during hunting seaso...</td>\n",
       "      <td>None</td>\n",
       "      <td>48.405343</td>\n",
       "      <td>...</td>\n",
       "      <td>16</td>\n",
       "      <td>24</td>\n",
       "      <td>17</td>\n",
       "      <td>13</td>\n",
       "      <td>36</td>\n",
       "      <td>11</td>\n",
       "      <td>0</td>\n",
       "      <td>156</td>\n",
       "      <td>19</td>\n",
       "      <td>16.35</td>\n",
       "    </tr>\n",
       "    <tr>\n",
       "      <th>81</th>\n",
       "      <td>92</td>\n",
       "      <td>Mont d'Olivet</td>\n",
       "      <td>montdolivet</td>\n",
       "      <td>3</td>\n",
       "      <td>Le Mont d'Olivet est un petit secteur sur une ...</td>\n",
       "      <td>Mont d'Olivet is a small area on a hill near N...</td>\n",
       "      <td>None</td>\n",
       "      <td>None</td>\n",
       "      <td>None</td>\n",
       "      <td>48.258787</td>\n",
       "      <td>...</td>\n",
       "      <td>3</td>\n",
       "      <td>35</td>\n",
       "      <td>24</td>\n",
       "      <td>14</td>\n",
       "      <td>10</td>\n",
       "      <td>6</td>\n",
       "      <td>0</td>\n",
       "      <td>96</td>\n",
       "      <td>8</td>\n",
       "      <td>7.65</td>\n",
       "    </tr>\n",
       "    <tr>\n",
       "      <th>82</th>\n",
       "      <td>94</td>\n",
       "      <td>La Troche</td>\n",
       "      <td>latroche</td>\n",
       "      <td>3</td>\n",
       "      <td>La Troche est un petit secteur accessible en R...</td>\n",
       "      <td>La Troche is a small area accessible by RER an...</td>\n",
       "      <td>None</td>\n",
       "      <td>None</td>\n",
       "      <td>None</td>\n",
       "      <td>48.711115</td>\n",
       "      <td>...</td>\n",
       "      <td>20</td>\n",
       "      <td>15</td>\n",
       "      <td>21</td>\n",
       "      <td>19</td>\n",
       "      <td>39</td>\n",
       "      <td>35</td>\n",
       "      <td>1</td>\n",
       "      <td>167</td>\n",
       "      <td>10</td>\n",
       "      <td>5.55</td>\n",
       "    </tr>\n",
       "    <tr>\n",
       "      <th>83</th>\n",
       "      <td>95</td>\n",
       "      <td>Toit d'Orsay</td>\n",
       "      <td>toitdorsay</td>\n",
       "      <td>3</td>\n",
       "      <td>Le Toit d'Orsay est un petit secteur proche de...</td>\n",
       "      <td>Toit d'Orsay is a small area near the road and...</td>\n",
       "      <td>None</td>\n",
       "      <td>None</td>\n",
       "      <td>None</td>\n",
       "      <td>48.712776</td>\n",
       "      <td>...</td>\n",
       "      <td>0</td>\n",
       "      <td>0</td>\n",
       "      <td>1</td>\n",
       "      <td>2</td>\n",
       "      <td>5</td>\n",
       "      <td>11</td>\n",
       "      <td>7</td>\n",
       "      <td>26</td>\n",
       "      <td>10</td>\n",
       "      <td>1.20</td>\n",
       "    </tr>\n",
       "    <tr>\n",
       "      <th>84</th>\n",
       "      <td>96</td>\n",
       "      <td>Mont Ussy Est</td>\n",
       "      <td>montussyest</td>\n",
       "      <td>3</td>\n",
       "      <td>Situé tout proche du parking du Mont Ussy, ce ...</td>\n",
       "      <td>Located very close to the Mont Ussy parking lo...</td>\n",
       "      <td>None</td>\n",
       "      <td>None</td>\n",
       "      <td>None</td>\n",
       "      <td>48.421312</td>\n",
       "      <td>...</td>\n",
       "      <td>45</td>\n",
       "      <td>8</td>\n",
       "      <td>2</td>\n",
       "      <td>0</td>\n",
       "      <td>2</td>\n",
       "      <td>4</td>\n",
       "      <td>1</td>\n",
       "      <td>62</td>\n",
       "      <td>13</td>\n",
       "      <td>8.40</td>\n",
       "    </tr>\n",
       "    <tr>\n",
       "      <th>85</th>\n",
       "      <td>99</td>\n",
       "      <td>Apremont Sully</td>\n",
       "      <td>apremontsully</td>\n",
       "      <td>3</td>\n",
       "      <td>None</td>\n",
       "      <td>None</td>\n",
       "      <td>None</td>\n",
       "      <td>None</td>\n",
       "      <td>None</td>\n",
       "      <td>48.432393</td>\n",
       "      <td>...</td>\n",
       "      <td>0</td>\n",
       "      <td>0</td>\n",
       "      <td>0</td>\n",
       "      <td>5</td>\n",
       "      <td>14</td>\n",
       "      <td>9</td>\n",
       "      <td>0</td>\n",
       "      <td>28</td>\n",
       "      <td>3</td>\n",
       "      <td>1.80</td>\n",
       "    </tr>\n",
       "    <tr>\n",
       "      <th>86</th>\n",
       "      <td>101</td>\n",
       "      <td>Darvault</td>\n",
       "      <td>darvault</td>\n",
       "      <td>3</td>\n",
       "      <td>Le secteur de bloc de Darvault est plus modest...</td>\n",
       "      <td>The Darvault bouldering area is more modest an...</td>\n",
       "      <td>None</td>\n",
       "      <td>None</td>\n",
       "      <td>None</td>\n",
       "      <td>48.268174</td>\n",
       "      <td>...</td>\n",
       "      <td>27</td>\n",
       "      <td>22</td>\n",
       "      <td>20</td>\n",
       "      <td>19</td>\n",
       "      <td>6</td>\n",
       "      <td>2</td>\n",
       "      <td>0</td>\n",
       "      <td>105</td>\n",
       "      <td>8</td>\n",
       "      <td>7.35</td>\n",
       "    </tr>\n",
       "    <tr>\n",
       "      <th>87</th>\n",
       "      <td>104</td>\n",
       "      <td>Apremont Portes du Désert</td>\n",
       "      <td>apremontportesdudesert</td>\n",
       "      <td>3</td>\n",
       "      <td>Petit secteur situé entre Apremont Envers et A...</td>\n",
       "      <td>Small area between Apremont Envers and Apremon...</td>\n",
       "      <td>None</td>\n",
       "      <td>None</td>\n",
       "      <td>None</td>\n",
       "      <td>48.437100</td>\n",
       "      <td>...</td>\n",
       "      <td>0</td>\n",
       "      <td>0</td>\n",
       "      <td>1</td>\n",
       "      <td>6</td>\n",
       "      <td>23</td>\n",
       "      <td>37</td>\n",
       "      <td>7</td>\n",
       "      <td>74</td>\n",
       "      <td>3</td>\n",
       "      <td>3.30</td>\n",
       "    </tr>\n",
       "  </tbody>\n",
       "</table>\n",
       "<p>88 rows × 24 columns</p>\n",
       "</div>"
      ],
      "text/plain": [
       "    area_id                        area_name               name_searchable  \\\n",
       "0         1                     Rocher Canon                   rochercanon   \n",
       "1         2                     Cul de Chien                    culdechien   \n",
       "2         4                           Cuvier                        cuvier   \n",
       "3         5                 Franchard Isatis               franchardisatis   \n",
       "4         6                       Cuvier Est                     cuvierest   \n",
       "5         7                         Apremont                      apremont   \n",
       "6         8                       Rocher Fin                     rocherfin   \n",
       "7         9                         Éléphant                      elephant   \n",
       "8        10                             95.2                           952   \n",
       "9        11             Franchard Cuisinière           franchardcuisiniere   \n",
       "10       12                 Roche aux Sabots                rocheauxsabots   \n",
       "11       13              Canche aux Merciers             cancheauxmerciers   \n",
       "12       14                 Rocher du Potala                rocherdupotala   \n",
       "13       15                  Gorge aux Châts                 gorgeauxchats   \n",
       "14       16                             91.1                           911   \n",
       "15       17                   Rocher Guichot                 rocherguichot   \n",
       "16       18                       Diplodocus                    diplodocus   \n",
       "17       19                Rocher des Potets               rocherdespotets   \n",
       "18       20                   Apremont Ouest                 apremontouest   \n",
       "19       21                        Bois Rond                      boisrond   \n",
       "20       22                Rocher des Souris               rocherdessouris   \n",
       "21       23                 Buthiers Piscine               buthierspiscine   \n",
       "22       24         Rocher Saint-Germain Est         rochersaintgermainest   \n",
       "23       25                Roche aux Oiseaux               rocheauxoiseaux   \n",
       "24       26                      Drei Zinnen                    dreizinnen   \n",
       "25       27                  Jean des Vignes                 jeandesvignes   \n",
       "26       28                     La Ségognole                   lasegognole   \n",
       "27       29               Beauvais Nainville             beauvaisnainville   \n",
       "28       30                      J.A. Martin                      jamartin   \n",
       "29       31  Franchard Cuisinière Crêtes Sud  franchardcuisinierecretessud   \n",
       "30       32                       Petit Bois                     petitbois   \n",
       "31       33           Rocher des Demoiselles          rocherdesdemoiselles   \n",
       "32       34                Franchard Sablons              franchardsablons   \n",
       "33       35          Rocher de la Cathédrale          rocherdelacathedrale   \n",
       "34       36         Franchard Hautes Plaines        franchardhautesplaines   \n",
       "35       37                  Franchard Meyer                franchardmeyer   \n",
       "36       38       Franchard Sablons Carriers      franchardsablonscarriers   \n",
       "37       39                Franchard Raymond              franchardraymond   \n",
       "38       40                 Cuvier Merveille               cuviermerveille   \n",
       "39       41                         Maunoury                      maunoury   \n",
       "40       42                     Dame Jouanne                   damejouanne   \n",
       "41       43                     Cuvier Ouest                   cuvierouest   \n",
       "42       44                      Cuvier Nord                    cuviernord   \n",
       "43       45                  Cuvier Bellevue                cuvierbellevue   \n",
       "44       46                  Apremont Bizons                apremontbizons   \n",
       "45       47               Rocher Canon Ouest              rochercanonouest   \n",
       "46       48         Apremont Butte aux Dames         apremontbutteauxdames   \n",
       "47       49                Apremont Solitude              apremontsolitude   \n",
       "48       50                    Rocher d'Avon                   rocherdavon   \n",
       "49       51           Restant du Long Rocher           restantdulongrocher   \n",
       "50       52               Rocher de Bouligny              rocherdebouligny   \n",
       "51       53                        Mont Ussy                      montussy   \n",
       "52       54                Rocher du Général               rocherdugeneral   \n",
       "53       55           Justice de Chambergeot          justicedechambergeot   \n",
       "54       56                  Grande Montagne                grandemontagne   \n",
       "55       57             Rocher du Télégraphe            rocherdutelegraphe   \n",
       "56       58                    Pignon Poteau                  pignonpoteau   \n",
       "57       59                     Gros Sablons                   grossablons   \n",
       "58       60                      Corne-Biche                    cornebiche   \n",
       "59       61               Rocher de la Reine               rocherdelareine   \n",
       "60       62                  Apremont Envers                apremontenvers   \n",
       "61       63                  Apremont Désert                apremontdesert   \n",
       "62       64                   Cuvier Rempart                 cuvierrempart   \n",
       "63       66             Cuvier Petit Rempart            cuvierpetitrempart   \n",
       "64       67            Cuvier Reconnaissance          cuvierreconnaissance   \n",
       "65       69                     Apremont Est                   apremontest   \n",
       "66       70                Rocher d'Avon Est                rocherdavonest   \n",
       "67       71                Gros Sablons Nord               grossablonsnord   \n",
       "68       72                      Le Calvaire                    lecalvaire   \n",
       "69       73                        Mont Aigu                      montaigu   \n",
       "70       75                     Rocher Gréau                   rochergreau   \n",
       "71       76                  Roche d'Hercule                 rochedhercule   \n",
       "72       77                  Buthiers Tennis                buthierstennis   \n",
       "73       78                  Buthiers Canard                buthierscanard   \n",
       "74       80              Beauvais Télégraphe            beauvaistelegraphe   \n",
       "75       81             Beauvais Loutteville           beauvaisloutteville   \n",
       "76       82           Beauvais Roches Noires          beauvaisrochesnoires   \n",
       "77       83                  Beauvais Hameau                beauvaishameau   \n",
       "78       84           Puiselet Mont Sarrasin          puiseletmontsarrasin   \n",
       "79       86       Restant du Long Rocher Sud        restantdulongrochersud   \n",
       "80       91                     Haute Pierre                   hautepierre   \n",
       "81       92                    Mont d'Olivet                   montdolivet   \n",
       "82       94                        La Troche                      latroche   \n",
       "83       95                     Toit d'Orsay                    toitdorsay   \n",
       "84       96                    Mont Ussy Est                   montussyest   \n",
       "85       99                   Apremont Sully                 apremontsully   \n",
       "86      101                         Darvault                      darvault   \n",
       "87      104        Apremont Portes du Désert        apremontportesdudesert   \n",
       "\n",
       "    priority                                     description_fr  \\\n",
       "0          1  Rocher Canon est un des secteurs les plus faci...   \n",
       "1          1  Cul de Chien est connu pour ses magnifiques ét...   \n",
       "2          1  Bas Cuvier est un secteur mythique, parmi les ...   \n",
       "3          1  Franchard Isatis est un secteur très populaire...   \n",
       "4          2  Cuvier Est est un petit secteur situé proche d...   \n",
       "5          1  Si vous cherchez un secteur adapté aux débutan...   \n",
       "6          1  Rocher Fin est un secteur magnifique, un peu m...   \n",
       "7          1  Éléphant est un secteur absolument magnifique,...   \n",
       "8          1  95.2 est l'un des massifs de Fontainebleau qui...   \n",
       "9          1  Franchard Cuisinière est un secteur populaire,...   \n",
       "10         1  La Roche aux Sabots est un secteur très popula...   \n",
       "11         1  La Canche aux Merciers est un secteur parfait ...   \n",
       "12         1  Le Rocher du Potala est un secteur idéal pour ...   \n",
       "13         1  À savoir : le parking le long de la route des ...   \n",
       "14         1  91.1 est un secteur populaire situé à côté de ...   \n",
       "15         1  Rocher Guichot est un petit secteur agréable p...   \n",
       "16         1  Diplodocus est un petit secteur qui convient t...   \n",
       "17         2  Rocher des Potets est un tout petit secteur id...   \n",
       "18         2                                               None   \n",
       "19         1                                               None   \n",
       "20         3                                               None   \n",
       "21         1  Buthiers Piscine est un secteur situé juste à ...   \n",
       "22         1                                               None   \n",
       "23         2  La Roche aux Oiseaux est un petit secteur calm...   \n",
       "24         1  À savoir : on entend le bruit des voitures à c...   \n",
       "25         2                                               None   \n",
       "26         1  La Ségognole est un petit secteur assez dense,...   \n",
       "27         1                                               None   \n",
       "28         1  À savoir : certaines peintures sont effacées, ...   \n",
       "29         2  Franchard Cuisinière Crêtes Sud est un petit s...   \n",
       "30         1                                               None   \n",
       "31         2  L'accès n'est pas facile, comptez une quinzain...   \n",
       "32         2  Franchard Sablons est un petit secteur calme, ...   \n",
       "33         3                                               None   \n",
       "34         2  Franchard Hautes Plaines est petit secteur cal...   \n",
       "35         3  Le secteur est calme, mais certaines voies son...   \n",
       "36         3                                               None   \n",
       "37         3  Le secteur est calme, mais certaines voies son...   \n",
       "38         2  Cuvier Merveille est un micro-secteur, essenti...   \n",
       "39         2  Le secteur est moins connu (et donc plus calme...   \n",
       "40         2  Dame Jouanne est un des tous premiers secteurs...   \n",
       "41         3  Cuvier Ouest est un petit secteur situé à côté...   \n",
       "42         3  Cuvier Nord est un petit secteur situé à côté ...   \n",
       "43         3  Secteur plutôt sauvage proche de Cuvier, connu...   \n",
       "44         2  Le secteur est dense et dégagé, il est beaucou...   \n",
       "45         3  Rocher Canon Ouest est un tout petit secteur p...   \n",
       "46         2  Le secteur est dense et dégagé, il est beaucou...   \n",
       "47         3  Apremont Solitude est un petit secteur situé à...   \n",
       "48         1  À savoir : le parking historique le long de la...   \n",
       "49         1                                               None   \n",
       "50         2                                               None   \n",
       "51         2                                               None   \n",
       "52         2  Rocher du Général est un petit secteur calme a...   \n",
       "53         2                                               None   \n",
       "54         3  Grande Montagne est un petit secteur longeant ...   \n",
       "55         3  Bon à savoir : plusieurs circuits enfants sont...   \n",
       "56         3  Pignon Poteau est un petit secteur longeant le...   \n",
       "57         2  Gros Sablons s'étend sur une grande distance, ...   \n",
       "58         3  Corne-Biche est un secteur assez peu fréquenté...   \n",
       "59         2  Rocher de la Reine est un joli secteur, idéal ...   \n",
       "60         2  Apremont Envers est un secteur calme situé à c...   \n",
       "61         3  Grand secteur à l’est d’Apremont avec 4 beaux ...   \n",
       "62         2  Cuvier Rempart est un secteur historique propo...   \n",
       "63         3                                               None   \n",
       "64         3  À savoir : il est difficile de se déplacer et ...   \n",
       "65         2  À savoir : il est assez difficile de se déplac...   \n",
       "66         2  À savoir : le parking historique le long de la...   \n",
       "67         3  Gros Sablons Nord est situé juste à côté de Gr...   \n",
       "68         3                                               None   \n",
       "69         3                                               None   \n",
       "70         3                                               None   \n",
       "71         3  Secteur proche de Fontainebleau juste à côté d...   \n",
       "72         3                                               None   \n",
       "73         3                                               None   \n",
       "74         3  Beauvais Télégraphe est un secteur qui mérite ...   \n",
       "75         2  Beauvais Louteville est un secteur tout proche...   \n",
       "76         3  Beauvais Roches Noires et un secteur plus éloi...   \n",
       "77         2  Beauvais Hameau est un grand secteurs très int...   \n",
       "78         3  Situé proche de Nemours, Puiselet Mont Sarrasi...   \n",
       "79         2                                               None   \n",
       "80         3  La Haute Pierre est un joli secteur proche de ...   \n",
       "81         3  Le Mont d'Olivet est un petit secteur sur une ...   \n",
       "82         3  La Troche est un petit secteur accessible en R...   \n",
       "83         3  Le Toit d'Orsay est un petit secteur proche de...   \n",
       "84         3  Situé tout proche du parking du Mont Ussy, ce ...   \n",
       "85         3                                               None   \n",
       "86         3  Le secteur de bloc de Darvault est plus modest...   \n",
       "87         3  Petit secteur situé entre Apremont Envers et A...   \n",
       "\n",
       "                                       description_en  \\\n",
       "0   Rocher Canon is one of the easiest sectors to ...   \n",
       "1   Cul de Chien is known for its beautiful stretc...   \n",
       "2   Bas Cuvier is one of the most famous areas in ...   \n",
       "3   Franchard Isatis is a very popular area, and v...   \n",
       "4   Cuvier Est is a small area, 5-10 min away from...   \n",
       "5   If you are looking for an area suited for begi...   \n",
       "6   Rocher Fin is a beautiful area, a little less ...   \n",
       "7   Éléphant is an absolutely beautiful area, perf...   \n",
       "8   95.2 is one of the Fontainebleau massifs that ...   \n",
       "9   Franchard Cuisinière is a popular area, offeri...   \n",
       "10  La Roche aux Sabots is a popular area, and thu...   \n",
       "11  La Canche aux Merciers is a perfect area for b...   \n",
       "12  Rocher du Potala is an ideal area for a family...   \n",
       "13  Please note: the parking along \"Route des Gran...   \n",
       "14  91.1 is a popular area right next to Cul de Ch...   \n",
       "15  Rocher Guichot is a small area, although quite...   \n",
       "16  Diplodocus is a small area that is quite suite...   \n",
       "17  Rocher des Potets is a tiny area that is quite...   \n",
       "18                                               None   \n",
       "19                                               None   \n",
       "20                                               None   \n",
       "21  Buthiers Piscine is located right next to an o...   \n",
       "22                                               None   \n",
       "23  La Roche aux Oiseaux is a small and quite nice...   \n",
       "24  Note: the cars from the nearby highway make qu...   \n",
       "25                                               None   \n",
       "26  La Ségognole is a small but dense area, and is...   \n",
       "27                                               None   \n",
       "28  Please note: some of the paint markings are fa...   \n",
       "29  Franchard Cuisinière Crêtes Sud is a small are...   \n",
       "30                                               None   \n",
       "31  The walk from the parking takes more than 15 m...   \n",
       "32  Franchard Sablons is a small and quiet area, l...   \n",
       "33                                               None   \n",
       "34  Franchard Hautes Plaines is a small and quiet ...   \n",
       "35  The area is very quiet, but many problems aren...   \n",
       "36                                               None   \n",
       "37  The area is very quiet, but many problems aren...   \n",
       "38  Cuvier Merveille is a tiny area, mainly consis...   \n",
       "39  The area is less known (and thus quieter) than...   \n",
       "40  Dame Jouanne is a historic area in Font. It is...   \n",
       "41  Cuvier Ouest is a small area located right nex...   \n",
       "42  Cuvier Nord is a small area located right next...   \n",
       "43  A rather wild area close to Cuvier, known for ...   \n",
       "44  The area is dense and it's way easier to get a...   \n",
       "45  Rocher Canon Ouest is a tiny area located righ...   \n",
       "46  The area is dense and it's way easier to get a...   \n",
       "47  Apremont Solitude is a small area located East...   \n",
       "48  Please note: the historic parking lot along th...   \n",
       "49                                               None   \n",
       "50                                               None   \n",
       "51                                               None   \n",
       "52  Rocher du Général is a lovely and quiet area, ...   \n",
       "53                                               None   \n",
       "54  Grande Montagne is a small area alongside the ...   \n",
       "55  Note: there are several circuits for kids righ...   \n",
       "56  Pignon Poteau is a small area alongside the \"2...   \n",
       "57  Gros Sablons stretches over a long distance, w...   \n",
       "58  Corne-Biche is a lesser-known area, and it can...   \n",
       "59  Rocher de la Reine is a lovely area, quite sui...   \n",
       "60  Apremont Envers is a quiet area located next t...   \n",
       "61  Large area to the east of Apremont with 4 beau...   \n",
       "62  Cuvier Rempart is a historical area offering m...   \n",
       "63                                               None   \n",
       "64  Please note: It is difficult to move around an...   \n",
       "65  Please note: it can be quite tricky to find yo...   \n",
       "66  Please note: the historic parking lot along th...   \n",
       "67  Gros Sablons Nord is located right next to Gro...   \n",
       "68                                               None   \n",
       "69                                               None   \n",
       "70                                               None   \n",
       "71  Area close to Fontainebleau right next to Mont...   \n",
       "72                                               None   \n",
       "73                                               None   \n",
       "74  Beauvais Télégraphe is an area worth visiting ...   \n",
       "75  Beauvais Louteville is an area very close to t...   \n",
       "76  Beauvais Roches Noires is a more remote area f...   \n",
       "77  Beauvais Hameau is a large area that is very i...   \n",
       "78  Located near Nemours, Puiselet Mont Sarrasin i...   \n",
       "79                                               None   \n",
       "80  La Haute Pierre is a lovely area near Milly wi...   \n",
       "81  Mont d'Olivet is a small area on a hill near N...   \n",
       "82  La Troche is a small area accessible by RER an...   \n",
       "83  Toit d'Orsay is a small area near the road and...   \n",
       "84  Located very close to the Mont Ussy parking lo...   \n",
       "85                                               None   \n",
       "86  The Darvault bouldering area is more modest an...   \n",
       "87  Small area between Apremont Envers and Apremon...   \n",
       "\n",
       "                                           warning_fr  \\\n",
       "0                                                None   \n",
       "1                                                None   \n",
       "2                                                None   \n",
       "3                                                None   \n",
       "4                                                None   \n",
       "5                                                None   \n",
       "6                                                None   \n",
       "7                                                None   \n",
       "8                                                None   \n",
       "9                                                None   \n",
       "10                                               None   \n",
       "11                                               None   \n",
       "12                                               None   \n",
       "13                                               None   \n",
       "14                                               None   \n",
       "15                                               None   \n",
       "16                                               None   \n",
       "17                                               None   \n",
       "18                                               None   \n",
       "19                                               None   \n",
       "20                                               None   \n",
       "21                                               None   \n",
       "22                                               None   \n",
       "23                                               None   \n",
       "24                                               None   \n",
       "25                                               None   \n",
       "26                                               None   \n",
       "27                                               None   \n",
       "28                                               None   \n",
       "29                                               None   \n",
       "30                                               None   \n",
       "31                                               None   \n",
       "32                                               None   \n",
       "33                                               None   \n",
       "34                                               None   \n",
       "35                                               None   \n",
       "36                                               None   \n",
       "37                                               None   \n",
       "38                                               None   \n",
       "39                                               None   \n",
       "40                                               None   \n",
       "41  Réserve biologique : évitez de pénétrer dans l...   \n",
       "42                                               None   \n",
       "43                                               None   \n",
       "44                                               None   \n",
       "45                                               None   \n",
       "46                                               None   \n",
       "47                                               None   \n",
       "48                                               None   \n",
       "49                                               None   \n",
       "50                                               None   \n",
       "51                                               None   \n",
       "52                                               None   \n",
       "53                                               None   \n",
       "54                                               None   \n",
       "55                                               None   \n",
       "56                                               None   \n",
       "57                                               None   \n",
       "58                                               None   \n",
       "59                                               None   \n",
       "60                                               None   \n",
       "61                                               None   \n",
       "62  Please note: the yellow circuit isn't suited f...   \n",
       "63                                               None   \n",
       "64                                               None   \n",
       "65                                               None   \n",
       "66                                               None   \n",
       "67                                               None   \n",
       "68                                               None   \n",
       "69                                               None   \n",
       "70                                               None   \n",
       "71                                               None   \n",
       "72                                               None   \n",
       "73                                               None   \n",
       "74                                               None   \n",
       "75                                               None   \n",
       "76                                               None   \n",
       "77                                               None   \n",
       "78                                               None   \n",
       "79                                               None   \n",
       "80  Réserve de chasse : ne pas y grimper pendant l...   \n",
       "81                                               None   \n",
       "82                                               None   \n",
       "83                                               None   \n",
       "84                                               None   \n",
       "85                                               None   \n",
       "86                                               None   \n",
       "87                                               None   \n",
       "\n",
       "                                           warning_en  \\\n",
       "0                                                None   \n",
       "1                                                None   \n",
       "2                                                None   \n",
       "3                                                None   \n",
       "4                                                None   \n",
       "5                                                None   \n",
       "6                                                None   \n",
       "7                                                None   \n",
       "8                                                None   \n",
       "9                                                None   \n",
       "10                                               None   \n",
       "11                                               None   \n",
       "12                                               None   \n",
       "13                                               None   \n",
       "14                                               None   \n",
       "15                                               None   \n",
       "16                                               None   \n",
       "17                                               None   \n",
       "18                                               None   \n",
       "19                                               None   \n",
       "20                                               None   \n",
       "21                                               None   \n",
       "22                                               None   \n",
       "23                                               None   \n",
       "24                                               None   \n",
       "25                                               None   \n",
       "26                                               None   \n",
       "27                                               None   \n",
       "28                                               None   \n",
       "29                                               None   \n",
       "30                                               None   \n",
       "31                                               None   \n",
       "32                                               None   \n",
       "33                                               None   \n",
       "34                                               None   \n",
       "35                                               None   \n",
       "36                                               None   \n",
       "37                                               None   \n",
       "38                                               None   \n",
       "39                                               None   \n",
       "40                                               None   \n",
       "41  Biological reserve: avoid leaving the paths an...   \n",
       "42                                               None   \n",
       "43                                               None   \n",
       "44                                               None   \n",
       "45                                               None   \n",
       "46                                               None   \n",
       "47                                               None   \n",
       "48                                               None   \n",
       "49                                               None   \n",
       "50                                               None   \n",
       "51                                               None   \n",
       "52                                               None   \n",
       "53                                               None   \n",
       "54                                               None   \n",
       "55                                               None   \n",
       "56                                               None   \n",
       "57                                               None   \n",
       "58                                               None   \n",
       "59                                               None   \n",
       "60                                               None   \n",
       "61                                               None   \n",
       "62                                               None   \n",
       "63                                               None   \n",
       "64                                               None   \n",
       "65                                               None   \n",
       "66                                               None   \n",
       "67                                               None   \n",
       "68                                               None   \n",
       "69                                               None   \n",
       "70                                               None   \n",
       "71                                               None   \n",
       "72                                               None   \n",
       "73                                               None   \n",
       "74                                               None   \n",
       "75                                               None   \n",
       "76                                               None   \n",
       "77                                               None   \n",
       "78                                               None   \n",
       "79                                               None   \n",
       "80  Hunting area: no climbing during hunting seaso...   \n",
       "81                                               None   \n",
       "82                                               None   \n",
       "83                                               None   \n",
       "84                                               None   \n",
       "85                                               None   \n",
       "86                                               None   \n",
       "87                                               None   \n",
       "\n",
       "                                                 tags  south_west_lat  ...  \\\n",
       "0           popular,beginner_friendly,family_friendly       48.460701  ...   \n",
       "1   popular,beginner_friendly,dry_fast,family_frie...       48.374897  ...   \n",
       "2                                             popular       48.446402  ...   \n",
       "3           popular,beginner_friendly,family_friendly       48.408219  ...   \n",
       "4                                                None       48.445739  ...   \n",
       "5                                            dry_fast       48.435696  ...   \n",
       "6                   beginner_friendly,family_friendly       48.375742  ...   \n",
       "7                             popular,family_friendly       48.292882  ...   \n",
       "8   popular,beginner_friendly,dry_fast,family_frie...       48.384645  ...   \n",
       "9           popular,beginner_friendly,family_friendly       48.409614  ...   \n",
       "10          popular,beginner_friendly,family_friendly       48.373992  ...   \n",
       "11                  beginner_friendly,family_friendly       48.391560  ...   \n",
       "12                  beginner_friendly,family_friendly       48.366862  ...   \n",
       "13                         beginner_friendly,dry_fast       48.397974  ...   \n",
       "14         beginner_friendly,dry_fast,family_friendly       48.375926  ...   \n",
       "15                  beginner_friendly,family_friendly       48.363753  ...   \n",
       "16                  beginner_friendly,family_friendly       48.370977  ...   \n",
       "17                  beginner_friendly,family_friendly       48.381672  ...   \n",
       "18                                               None       48.436300  ...   \n",
       "19                                  beginner_friendly       48.389905  ...   \n",
       "20                                               None       48.385001  ...   \n",
       "21                  beginner_friendly,family_friendly       48.291829  ...   \n",
       "22                  beginner_friendly,family_friendly       48.438819  ...   \n",
       "23                                               None       48.377678  ...   \n",
       "24                         beginner_friendly,dry_fast       48.392291  ...   \n",
       "25                  beginner_friendly,family_friendly       48.382397  ...   \n",
       "26                  beginner_friendly,family_friendly       48.379642  ...   \n",
       "27         beginner_friendly,dry_fast,family_friendly       48.501270  ...   \n",
       "28                  beginner_friendly,family_friendly       48.360089  ...   \n",
       "29                                               None       48.407420  ...   \n",
       "30                                               None       48.262495  ...   \n",
       "31                                           dry_fast       48.378774  ...   \n",
       "32                  beginner_friendly,family_friendly       48.407250  ...   \n",
       "33                                               None       48.363673  ...   \n",
       "34                                  beginner_friendly       48.407238  ...   \n",
       "35                                               None       48.407120  ...   \n",
       "36                                               None       48.408210  ...   \n",
       "37                                               None       48.405149  ...   \n",
       "38                                               None       48.444090  ...   \n",
       "39                                               None       48.301883  ...   \n",
       "40                                               None       48.302254  ...   \n",
       "41                                               None       48.446810  ...   \n",
       "42                                               None       48.446912  ...   \n",
       "43                                               None       48.446530  ...   \n",
       "44                  beginner_friendly,family_friendly       48.433760  ...   \n",
       "45                                               None       48.461050  ...   \n",
       "46                  beginner_friendly,family_friendly       48.437825  ...   \n",
       "47                                               None       48.435406  ...   \n",
       "48                                  beginner_friendly       48.392594  ...   \n",
       "49                                               None       48.353466  ...   \n",
       "50                                               None       48.384282  ...   \n",
       "51                                    family_friendly       48.420623  ...   \n",
       "52                  beginner_friendly,family_friendly       48.371493  ...   \n",
       "53                                    family_friendly       48.393286  ...   \n",
       "54                                               None       48.368996  ...   \n",
       "55                                               None       48.394450  ...   \n",
       "56                                               None       48.389003  ...   \n",
       "57                                           dry_fast       48.383055  ...   \n",
       "58                                               None       48.397384  ...   \n",
       "59                           dry_fast,family_friendly       48.391639  ...   \n",
       "60                                    family_friendly       48.436688  ...   \n",
       "61                                               None       48.435330  ...   \n",
       "62                                               None       48.444674  ...   \n",
       "63                                               None       48.444817  ...   \n",
       "64                                               None       48.445906  ...   \n",
       "65                                               None       48.434960  ...   \n",
       "66                                               None       48.392276  ...   \n",
       "67                                               None       48.387061  ...   \n",
       "68                                               None       48.420223  ...   \n",
       "69                                               None       48.400670  ...   \n",
       "70                                               None       48.261685  ...   \n",
       "71                                               None       48.420984  ...   \n",
       "72                                               None       48.294532  ...   \n",
       "73                                               None       48.294504  ...   \n",
       "74                                               None       48.500171  ...   \n",
       "75                                    family_friendly       48.502471  ...   \n",
       "76                                               None       48.503325  ...   \n",
       "77                                               None       48.499602  ...   \n",
       "78                                               None       48.268132  ...   \n",
       "79                  beginner_friendly,family_friendly       48.353115  ...   \n",
       "80                                               None       48.405343  ...   \n",
       "81                                               None       48.258787  ...   \n",
       "82                                               None       48.711115  ...   \n",
       "83                                               None       48.712776  ...   \n",
       "84                                               None       48.421312  ...   \n",
       "85                                               None       48.432393  ...   \n",
       "86                                               None       48.268174  ...   \n",
       "87                                               None       48.437100  ...   \n",
       "\n",
       "    level2_count  level3_count  level4_count  level5_count  level6_count  \\\n",
       "0             78            71            74            65            84   \n",
       "1             40            40            74            36            32   \n",
       "2             28            19            39           102           131   \n",
       "3             52            60            98            96           140   \n",
       "4              0             6            26            46            58   \n",
       "5              1            21            41            17            16   \n",
       "6             24            38            51            45            51   \n",
       "7             38            32            46            37            47   \n",
       "8              9            69            67            65            45   \n",
       "9             18            56            56            95            94   \n",
       "10            40            36            47            29            56   \n",
       "11            58            64            41            48            75   \n",
       "12            36            59            58            72            80   \n",
       "13            11            31            32            30            70   \n",
       "14            61            87            88            50            47   \n",
       "15            15            15            15            20            32   \n",
       "16            53            49            29             5             9   \n",
       "17            58            24            11             4             8   \n",
       "18            10            25            19            45            43   \n",
       "19            56            46            26            38            72   \n",
       "20             1             5             4             9            27   \n",
       "21            48            26            43            53            68   \n",
       "22            43            37            25            31            42   \n",
       "23             4            23            26            33            47   \n",
       "24            25            39            37            22            63   \n",
       "25             1            14            41            24            23   \n",
       "26            44            52            14            28            13   \n",
       "27           142            71            40            40            95   \n",
       "28            51            94            80            65            86   \n",
       "29             0             0             1             4            37   \n",
       "30            89            42            72            39            48   \n",
       "31             4            21            18            31            90   \n",
       "32            43            26            47            27            25   \n",
       "33            11            19            12             3            16   \n",
       "34            53            38            14             9            28   \n",
       "35             0             4            17             6            21   \n",
       "36             0             0             3             5            10   \n",
       "37             0             0             2            32            24   \n",
       "38             1             1             0             9            14   \n",
       "39            31            61            33            30            44   \n",
       "40            86           105           111            70            51   \n",
       "41             0             1            26            22            31   \n",
       "42             3            15            14            23            33   \n",
       "43            20            33            12            19            58   \n",
       "44            58            62            60            78            95   \n",
       "45             0             0             6            16            29   \n",
       "46            49            36            54            56            68   \n",
       "47             0             7            36            15            25   \n",
       "48             7            32            24            31            38   \n",
       "49             0             0            52            23            34   \n",
       "50             8            12            21            33            46   \n",
       "51            26            26            34            22            28   \n",
       "52            29            13            32            20            15   \n",
       "53            43            22             9             3            15   \n",
       "54             8            40            23             7            17   \n",
       "55             0             5            25            14            46   \n",
       "56            49            28             2             0             0   \n",
       "57            16            51            39            38            24   \n",
       "58            56            55            29            19            16   \n",
       "59            45            22            43            16            68   \n",
       "60            41            36            27            51            54   \n",
       "61            39            65            36            10            64   \n",
       "62             6            20            38           121           172   \n",
       "63             0             1             6            19            36   \n",
       "64             1             4             7            33            43   \n",
       "65            47            57            42            79            45   \n",
       "66             0             2             5            13            11   \n",
       "67            15            19            43            18            13   \n",
       "68            56            35            25            27            41   \n",
       "69            37            57            56            22            53   \n",
       "70             0             0             2             8            36   \n",
       "71             0             1             1            13            46   \n",
       "72             0             0             4            25            29   \n",
       "73            11            24            30            18            28   \n",
       "74            34             5            34            15             7   \n",
       "75            45            33            26             7            10   \n",
       "76             8            15            36            33             9   \n",
       "77            55            58            40            81            68   \n",
       "78            40            67            28            48            37   \n",
       "79            32            29            13             8            26   \n",
       "80            16            24            17            13            36   \n",
       "81             3            35            24            14            10   \n",
       "82            20            15            21            19            39   \n",
       "83             0             0             1             2             5   \n",
       "84            45             8             2             0             2   \n",
       "85             0             0             0             5            14   \n",
       "86            27            22            20            19             6   \n",
       "87             0             0             1             6            23   \n",
       "\n",
       "    level7_count  level8_count  problems_count  cluster_id  download_size  \n",
       "0             97            15             528          11          44.85  \n",
       "1             16             5             243           1          22.35  \n",
       "2            136            10             467           4          29.40  \n",
       "3            139            10             595           2          40.80  \n",
       "4             53             2             191           4          11.10  \n",
       "5             40             1             137           3          11.70  \n",
       "6             39             1             249           1          18.30  \n",
       "7             43             5             287           5          20.25  \n",
       "8             61             3             319           1          26.70  \n",
       "9             96            10             425           2          29.55  \n",
       "10            66             2             282           1          21.30  \n",
       "11            51             5             382           1          30.45  \n",
       "12            35             6             346           1          24.90  \n",
       "13            44             5             223           1          12.30  \n",
       "14            38             0             373           1          31.95  \n",
       "15            21             3             121           1           8.25  \n",
       "16             8             0             155           1          13.95  \n",
       "17             6             0             112           1          14.25  \n",
       "18            70             3             215           3          18.75  \n",
       "19            35             2             275           1          22.35  \n",
       "20            40             0              86           1           4.20  \n",
       "21            48             9             361           6          30.15  \n",
       "22            26             5             261          12          17.85  \n",
       "23            36             2             171           1          10.95  \n",
       "24            55             4             245           1          16.80  \n",
       "25            16             1             120           1          10.35  \n",
       "26             2             0             154           1          14.55  \n",
       "27            48             0             536           7          44.55  \n",
       "28            62             5             444           1          42.75  \n",
       "29            44             8              95           2           6.90  \n",
       "30            24             5             336           8          32.55  \n",
       "31            73             6             243          18          15.75  \n",
       "32            41             3             212           2          18.60  \n",
       "33            11             0              72           1           7.05  \n",
       "34            44             2             191           2          19.05  \n",
       "35            32             7              87           2           7.80  \n",
       "36            17             6              41           2           2.40  \n",
       "37            31             1              90           2           7.50  \n",
       "38            14             2              41           4           1.95  \n",
       "39            74             3             277           5          29.55  \n",
       "40            73             5             512           5          44.40  \n",
       "41            37             2             119           4           9.90  \n",
       "42            67             3             158           4          13.20  \n",
       "43            65             2             212           4          16.95  \n",
       "44            61             2             417           3          35.85  \n",
       "45            37             3              91          11           6.00  \n",
       "46            41             1             305           3          26.85  \n",
       "47            25             1             109           3           9.15  \n",
       "48            46             3             181          16          14.70  \n",
       "49            25             0             134           9          15.15  \n",
       "50            24             8             153          17           9.30  \n",
       "51            29             1             167          13          15.90  \n",
       "52            10             0             119           1          13.95  \n",
       "53            18             0             116           1          13.05  \n",
       "54            20             1             116           1          13.50  \n",
       "55            52             1             143           1          11.40  \n",
       "56             0             0              83           1           9.00  \n",
       "57            25             5             198           1          22.20  \n",
       "58            26             3             210          14          21.30  \n",
       "59            49             3             247           1          24.15  \n",
       "60            68             9             288           3          30.45  \n",
       "61            81             3             298           3          26.85  \n",
       "62           142            34             533           4          39.00  \n",
       "63            35             2              99           4           5.55  \n",
       "64            37             7             132           4           9.15  \n",
       "65            57             3             331           3          34.35  \n",
       "66             5             0              36          16           2.40  \n",
       "67            11             0             119           1          13.65  \n",
       "68            40             4             248          13          20.70  \n",
       "69            37             0             262          15          26.85  \n",
       "70            41            14             101           8           7.65  \n",
       "71            48             1             110          13           6.90  \n",
       "72            28             4              90           6           9.60  \n",
       "73            33             2             146           6          15.00  \n",
       "74             6             0             142           7          10.80  \n",
       "75             1             0             199           7          10.80  \n",
       "76             1             0             102           7           7.20  \n",
       "77            19             0             353           7          37.95  \n",
       "78            32             0             260           8          26.85  \n",
       "79            11             1             121           9          10.05  \n",
       "80            11             0             156          19          16.35  \n",
       "81             6             0              96           8           7.65  \n",
       "82            35             1             167          10           5.55  \n",
       "83            11             7              26          10           1.20  \n",
       "84             4             1              62          13           8.40  \n",
       "85             9             0              28           3           1.80  \n",
       "86             2             0             105           8           7.35  \n",
       "87            37             7              74           3           3.30  \n",
       "\n",
       "[88 rows x 24 columns]"
      ]
     },
     "execution_count": 105,
     "metadata": {},
     "output_type": "execute_result"
    }
   ],
   "source": [
    "areas"
   ]
  },
  {
   "cell_type": "code",
   "execution_count": 103,
   "metadata": {},
   "outputs": [
    {
     "data": {
      "text/plain": [
       "array(['7a', '6a', '7b+', '6c', '7b', '6c+', '7a+', '6b', '7c', '6b+',\n",
       "       '5c', '6a+', '8a', '7c+', '5b', '8a+', '5a', '3c', '4c', '4a',\n",
       "       '4b', '3b', '8b+', '8b', '2c', '3a', '2a', '2b', '1b', '1c', '8c',\n",
       "       '8c+', '1a', '', '9a'], dtype=object)"
      ]
     },
     "execution_count": 103,
     "metadata": {},
     "output_type": "execute_result"
    }
   ],
   "source": [
    "df[\"grade\"].unique()"
   ]
  },
  {
   "cell_type": "code",
   "execution_count": 104,
   "metadata": {},
   "outputs": [
    {
     "data": {
      "text/html": [
       "<div>\n",
       "<style scoped>\n",
       "    .dataframe tbody tr th:only-of-type {\n",
       "        vertical-align: middle;\n",
       "    }\n",
       "\n",
       "    .dataframe tbody tr th {\n",
       "        vertical-align: top;\n",
       "    }\n",
       "\n",
       "    .dataframe thead th {\n",
       "        text-align: right;\n",
       "    }\n",
       "</style>\n",
       "<table border=\"1\" class=\"dataframe\">\n",
       "  <thead>\n",
       "    <tr style=\"text-align: right;\">\n",
       "      <th></th>\n",
       "      <th>id</th>\n",
       "      <th>name</th>\n",
       "      <th>name_en</th>\n",
       "      <th>name_searchable</th>\n",
       "      <th>grade</th>\n",
       "      <th>latitude</th>\n",
       "      <th>longitude</th>\n",
       "      <th>circuit_id</th>\n",
       "      <th>circuit_number</th>\n",
       "      <th>circuit_color</th>\n",
       "      <th>steepness</th>\n",
       "      <th>sit_start</th>\n",
       "      <th>area_id</th>\n",
       "      <th>bleau_info_id</th>\n",
       "      <th>featured</th>\n",
       "      <th>popularity</th>\n",
       "      <th>parent_id</th>\n",
       "      <th>area_name</th>\n",
       "    </tr>\n",
       "  </thead>\n",
       "  <tbody>\n",
       "    <tr>\n",
       "      <th>640</th>\n",
       "      <td>690</td>\n",
       "      <td>Le Toit du Cul de Chien</td>\n",
       "      <td>Le Toit du Cul de Chien</td>\n",
       "      <td>letoitduculdechien</td>\n",
       "      <td>7a</td>\n",
       "      <td>48.376143</td>\n",
       "      <td>2.522716</td>\n",
       "      <td>NaN</td>\n",
       "      <td>None</td>\n",
       "      <td>None</td>\n",
       "      <td>roof</td>\n",
       "      <td>0</td>\n",
       "      <td>2</td>\n",
       "      <td>173</td>\n",
       "      <td>1</td>\n",
       "      <td>23402</td>\n",
       "      <td>NaN</td>\n",
       "      <td>Cul de Chien</td>\n",
       "    </tr>\n",
       "    <tr>\n",
       "      <th>500</th>\n",
       "      <td>506</td>\n",
       "      <td>La Marie-Rose</td>\n",
       "      <td>La Marie-Rose</td>\n",
       "      <td>lamarierose</td>\n",
       "      <td>6a</td>\n",
       "      <td>48.447066</td>\n",
       "      <td>2.639099</td>\n",
       "      <td>15.0</td>\n",
       "      <td>22</td>\n",
       "      <td>red</td>\n",
       "      <td>wall</td>\n",
       "      <td>0</td>\n",
       "      <td>4</td>\n",
       "      <td>2128</td>\n",
       "      <td>1</td>\n",
       "      <td>18910</td>\n",
       "      <td>NaN</td>\n",
       "      <td>Cuvier</td>\n",
       "    </tr>\n",
       "    <tr>\n",
       "      <th>3003</th>\n",
       "      <td>3409</td>\n",
       "      <td>Graviton</td>\n",
       "      <td>Graviton</td>\n",
       "      <td>graviton</td>\n",
       "      <td>7a</td>\n",
       "      <td>48.374257</td>\n",
       "      <td>2.514130</td>\n",
       "      <td>NaN</td>\n",
       "      <td>None</td>\n",
       "      <td>red</td>\n",
       "      <td>wall</td>\n",
       "      <td>0</td>\n",
       "      <td>12</td>\n",
       "      <td>782</td>\n",
       "      <td>1</td>\n",
       "      <td>16879</td>\n",
       "      <td>NaN</td>\n",
       "      <td>Roche aux Sabots</td>\n",
       "    </tr>\n",
       "    <tr>\n",
       "      <th>2529</th>\n",
       "      <td>2902</td>\n",
       "      <td>Retour aux Sources</td>\n",
       "      <td>Retour aux Sources</td>\n",
       "      <td>retourauxsources</td>\n",
       "      <td>7a</td>\n",
       "      <td>48.385725</td>\n",
       "      <td>2.527241</td>\n",
       "      <td>NaN</td>\n",
       "      <td>None</td>\n",
       "      <td>None</td>\n",
       "      <td>overhang</td>\n",
       "      <td>1</td>\n",
       "      <td>10</td>\n",
       "      <td>5</td>\n",
       "      <td>1</td>\n",
       "      <td>13812</td>\n",
       "      <td>NaN</td>\n",
       "      <td>95.2</td>\n",
       "    </tr>\n",
       "    <tr>\n",
       "      <th>2954</th>\n",
       "      <td>3355</td>\n",
       "      <td>L'Oblique</td>\n",
       "      <td>L'Oblique</td>\n",
       "      <td>loblique</td>\n",
       "      <td>7a</td>\n",
       "      <td>48.374647</td>\n",
       "      <td>2.513958</td>\n",
       "      <td>NaN</td>\n",
       "      <td>None</td>\n",
       "      <td>None</td>\n",
       "      <td>roof</td>\n",
       "      <td>0</td>\n",
       "      <td>12</td>\n",
       "      <td>767</td>\n",
       "      <td>1</td>\n",
       "      <td>13426</td>\n",
       "      <td>3319.0</td>\n",
       "      <td>Roche aux Sabots</td>\n",
       "    </tr>\n",
       "    <tr>\n",
       "      <th>...</th>\n",
       "      <td>...</td>\n",
       "      <td>...</td>\n",
       "      <td>...</td>\n",
       "      <td>...</td>\n",
       "      <td>...</td>\n",
       "      <td>...</td>\n",
       "      <td>...</td>\n",
       "      <td>...</td>\n",
       "      <td>...</td>\n",
       "      <td>...</td>\n",
       "      <td>...</td>\n",
       "      <td>...</td>\n",
       "      <td>...</td>\n",
       "      <td>...</td>\n",
       "      <td>...</td>\n",
       "      <td>...</td>\n",
       "      <td>...</td>\n",
       "      <td>...</td>\n",
       "    </tr>\n",
       "    <tr>\n",
       "      <th>11311</th>\n",
       "      <td>12028</td>\n",
       "      <td>Amok (assis)</td>\n",
       "      <td>Amok (assis)</td>\n",
       "      <td>amokassis</td>\n",
       "      <td>8a+</td>\n",
       "      <td>48.384508</td>\n",
       "      <td>2.694254</td>\n",
       "      <td>NaN</td>\n",
       "      <td>None</td>\n",
       "      <td>None</td>\n",
       "      <td>overhang</td>\n",
       "      <td>1</td>\n",
       "      <td>52</td>\n",
       "      <td>11464</td>\n",
       "      <td>0</td>\n",
       "      <td>0</td>\n",
       "      <td>12027.0</td>\n",
       "      <td>Rocher de Bouligny</td>\n",
       "    </tr>\n",
       "    <tr>\n",
       "      <th>3840</th>\n",
       "      <td>4282</td>\n",
       "      <td>Mars Attaque</td>\n",
       "      <td>Mars Attaque</td>\n",
       "      <td>marsattaque</td>\n",
       "      <td>6b+</td>\n",
       "      <td>48.398928</td>\n",
       "      <td>2.520316</td>\n",
       "      <td>NaN</td>\n",
       "      <td>None</td>\n",
       "      <td>None</td>\n",
       "      <td>wall</td>\n",
       "      <td>0</td>\n",
       "      <td>15</td>\n",
       "      <td>12059</td>\n",
       "      <td>0</td>\n",
       "      <td>0</td>\n",
       "      <td>NaN</td>\n",
       "      <td>Gorge aux Châts</td>\n",
       "    </tr>\n",
       "    <tr>\n",
       "      <th>11314</th>\n",
       "      <td>12031</td>\n",
       "      <td>La Peau d'Éléphant</td>\n",
       "      <td>La Peau d'Éléphant</td>\n",
       "      <td>lapeaudelephant</td>\n",
       "      <td>4b</td>\n",
       "      <td>48.384726</td>\n",
       "      <td>2.695105</td>\n",
       "      <td>NaN</td>\n",
       "      <td>None</td>\n",
       "      <td>None</td>\n",
       "      <td>slab</td>\n",
       "      <td>0</td>\n",
       "      <td>52</td>\n",
       "      <td>16789</td>\n",
       "      <td>0</td>\n",
       "      <td>0</td>\n",
       "      <td>NaN</td>\n",
       "      <td>Rocher de Bouligny</td>\n",
       "    </tr>\n",
       "    <tr>\n",
       "      <th>11315</th>\n",
       "      <td>12032</td>\n",
       "      <td>La Grattonade du 17 Octobre</td>\n",
       "      <td>La Grattonade du 17 Octobre</td>\n",
       "      <td>lagrattonadedu17octobre</td>\n",
       "      <td>5a</td>\n",
       "      <td>48.384703</td>\n",
       "      <td>2.695097</td>\n",
       "      <td>NaN</td>\n",
       "      <td>None</td>\n",
       "      <td>None</td>\n",
       "      <td>slab</td>\n",
       "      <td>0</td>\n",
       "      <td>52</td>\n",
       "      <td>16790</td>\n",
       "      <td>0</td>\n",
       "      <td>0</td>\n",
       "      <td>NaN</td>\n",
       "      <td>Rocher de Bouligny</td>\n",
       "    </tr>\n",
       "    <tr>\n",
       "      <th>13789</th>\n",
       "      <td>14542</td>\n",
       "      <td>La Boule de Soumission</td>\n",
       "      <td>La Boule de Soumission</td>\n",
       "      <td>labouledesoumission</td>\n",
       "      <td>6a</td>\n",
       "      <td>48.445741</td>\n",
       "      <td>2.648203</td>\n",
       "      <td>NaN</td>\n",
       "      <td>None</td>\n",
       "      <td>None</td>\n",
       "      <td>other</td>\n",
       "      <td>0</td>\n",
       "      <td>64</td>\n",
       "      <td>22765</td>\n",
       "      <td>0</td>\n",
       "      <td>0</td>\n",
       "      <td>NaN</td>\n",
       "      <td>Cuvier Rempart</td>\n",
       "    </tr>\n",
       "  </tbody>\n",
       "</table>\n",
       "<p>18462 rows × 18 columns</p>\n",
       "</div>"
      ],
      "text/plain": [
       "          id                         name                      name_en  \\\n",
       "640      690      Le Toit du Cul de Chien      Le Toit du Cul de Chien   \n",
       "500      506                La Marie-Rose                La Marie-Rose   \n",
       "3003    3409                     Graviton                     Graviton   \n",
       "2529    2902           Retour aux Sources           Retour aux Sources   \n",
       "2954    3355                    L'Oblique                    L'Oblique   \n",
       "...      ...                          ...                          ...   \n",
       "11311  12028                 Amok (assis)                 Amok (assis)   \n",
       "3840    4282                 Mars Attaque                 Mars Attaque   \n",
       "11314  12031           La Peau d'Éléphant           La Peau d'Éléphant   \n",
       "11315  12032  La Grattonade du 17 Octobre  La Grattonade du 17 Octobre   \n",
       "13789  14542       La Boule de Soumission       La Boule de Soumission   \n",
       "\n",
       "               name_searchable grade   latitude  longitude  circuit_id  \\\n",
       "640         letoitduculdechien    7a  48.376143   2.522716         NaN   \n",
       "500                lamarierose    6a  48.447066   2.639099        15.0   \n",
       "3003                  graviton    7a  48.374257   2.514130         NaN   \n",
       "2529          retourauxsources    7a  48.385725   2.527241         NaN   \n",
       "2954                  loblique    7a  48.374647   2.513958         NaN   \n",
       "...                        ...   ...        ...        ...         ...   \n",
       "11311                amokassis   8a+  48.384508   2.694254         NaN   \n",
       "3840               marsattaque   6b+  48.398928   2.520316         NaN   \n",
       "11314          lapeaudelephant    4b  48.384726   2.695105         NaN   \n",
       "11315  lagrattonadedu17octobre    5a  48.384703   2.695097         NaN   \n",
       "13789      labouledesoumission    6a  48.445741   2.648203         NaN   \n",
       "\n",
       "      circuit_number circuit_color steepness  sit_start  area_id  \\\n",
       "640             None          None      roof          0        2   \n",
       "500               22           red      wall          0        4   \n",
       "3003            None           red      wall          0       12   \n",
       "2529            None          None  overhang          1       10   \n",
       "2954            None          None      roof          0       12   \n",
       "...              ...           ...       ...        ...      ...   \n",
       "11311           None          None  overhang          1       52   \n",
       "3840            None          None      wall          0       15   \n",
       "11314           None          None      slab          0       52   \n",
       "11315           None          None      slab          0       52   \n",
       "13789           None          None     other          0       64   \n",
       "\n",
       "      bleau_info_id  featured  popularity  parent_id           area_name  \n",
       "640             173         1       23402        NaN        Cul de Chien  \n",
       "500            2128         1       18910        NaN              Cuvier  \n",
       "3003            782         1       16879        NaN    Roche aux Sabots  \n",
       "2529              5         1       13812        NaN                95.2  \n",
       "2954            767         1       13426     3319.0    Roche aux Sabots  \n",
       "...             ...       ...         ...        ...                 ...  \n",
       "11311         11464         0           0    12027.0  Rocher de Bouligny  \n",
       "3840          12059         0           0        NaN     Gorge aux Châts  \n",
       "11314         16789         0           0        NaN  Rocher de Bouligny  \n",
       "11315         16790         0           0        NaN  Rocher de Bouligny  \n",
       "13789         22765         0           0        NaN      Cuvier Rempart  \n",
       "\n",
       "[18462 rows x 18 columns]"
      ]
     },
     "execution_count": 104,
     "metadata": {},
     "output_type": "execute_result"
    }
   ],
   "source": []
  },
  {
   "cell_type": "code",
   "execution_count": 100,
   "metadata": {},
   "outputs": [
    {
     "data": {
      "text/html": [
       "<div>\n",
       "<style scoped>\n",
       "    .dataframe tbody tr th:only-of-type {\n",
       "        vertical-align: middle;\n",
       "    }\n",
       "\n",
       "    .dataframe tbody tr th {\n",
       "        vertical-align: top;\n",
       "    }\n",
       "\n",
       "    .dataframe thead th {\n",
       "        text-align: right;\n",
       "    }\n",
       "</style>\n",
       "<table border=\"1\" class=\"dataframe\">\n",
       "  <thead>\n",
       "    <tr style=\"text-align: right;\">\n",
       "      <th></th>\n",
       "      <th>id</th>\n",
       "      <th>name</th>\n",
       "      <th>name_en</th>\n",
       "      <th>name_searchable</th>\n",
       "      <th>grade</th>\n",
       "      <th>latitude</th>\n",
       "      <th>longitude</th>\n",
       "      <th>circuit_id</th>\n",
       "      <th>circuit_number</th>\n",
       "      <th>circuit_color</th>\n",
       "      <th>steepness</th>\n",
       "      <th>sit_start</th>\n",
       "      <th>area_id</th>\n",
       "      <th>bleau_info_id</th>\n",
       "      <th>featured</th>\n",
       "      <th>popularity</th>\n",
       "      <th>parent_id</th>\n",
       "      <th>area_name</th>\n",
       "    </tr>\n",
       "  </thead>\n",
       "  <tbody>\n",
       "    <tr>\n",
       "      <th>3845</th>\n",
       "      <td>4288</td>\n",
       "      <td>La Grande Caravane</td>\n",
       "      <td>La Grande Caravane</td>\n",
       "      <td>lagrandecaravane</td>\n",
       "      <td>7c</td>\n",
       "      <td>48.399148</td>\n",
       "      <td>2.520176</td>\n",
       "      <td>NaN</td>\n",
       "      <td>None</td>\n",
       "      <td>None</td>\n",
       "      <td>overhang</td>\n",
       "      <td>1</td>\n",
       "      <td>15</td>\n",
       "      <td>12042</td>\n",
       "      <td>0</td>\n",
       "      <td>324</td>\n",
       "      <td>NaN</td>\n",
       "      <td>Gorge aux Châts</td>\n",
       "    </tr>\n",
       "    <tr>\n",
       "      <th>3839</th>\n",
       "      <td>4281</td>\n",
       "      <td>No Comply</td>\n",
       "      <td>No Comply</td>\n",
       "      <td>nocomply</td>\n",
       "      <td>7c</td>\n",
       "      <td>48.398923</td>\n",
       "      <td>2.520338</td>\n",
       "      <td>NaN</td>\n",
       "      <td>None</td>\n",
       "      <td>None</td>\n",
       "      <td>overhang</td>\n",
       "      <td>1</td>\n",
       "      <td>15</td>\n",
       "      <td>303953</td>\n",
       "      <td>0</td>\n",
       "      <td>84</td>\n",
       "      <td>NaN</td>\n",
       "      <td>Gorge aux Châts</td>\n",
       "    </tr>\n",
       "    <tr>\n",
       "      <th>3811</th>\n",
       "      <td>4250</td>\n",
       "      <td>Agression Totale</td>\n",
       "      <td>Agression Totale</td>\n",
       "      <td>agressiontotale</td>\n",
       "      <td>7c</td>\n",
       "      <td>48.398992</td>\n",
       "      <td>2.519971</td>\n",
       "      <td>NaN</td>\n",
       "      <td>None</td>\n",
       "      <td>None</td>\n",
       "      <td>overhang</td>\n",
       "      <td>0</td>\n",
       "      <td>15</td>\n",
       "      <td>23611</td>\n",
       "      <td>0</td>\n",
       "      <td>43</td>\n",
       "      <td>NaN</td>\n",
       "      <td>Gorge aux Châts</td>\n",
       "    </tr>\n",
       "  </tbody>\n",
       "</table>\n",
       "</div>"
      ],
      "text/plain": [
       "        id                name             name_en   name_searchable grade  \\\n",
       "3845  4288  La Grande Caravane  La Grande Caravane  lagrandecaravane    7c   \n",
       "3839  4281           No Comply           No Comply          nocomply    7c   \n",
       "3811  4250    Agression Totale    Agression Totale   agressiontotale    7c   \n",
       "\n",
       "       latitude  longitude  circuit_id circuit_number circuit_color steepness  \\\n",
       "3845  48.399148   2.520176         NaN           None          None  overhang   \n",
       "3839  48.398923   2.520338         NaN           None          None  overhang   \n",
       "3811  48.398992   2.519971         NaN           None          None  overhang   \n",
       "\n",
       "      sit_start  area_id bleau_info_id  featured  popularity  parent_id  \\\n",
       "3845          1       15         12042         0         324        NaN   \n",
       "3839          1       15        303953         0          84        NaN   \n",
       "3811          0       15         23611         0          43        NaN   \n",
       "\n",
       "            area_name  \n",
       "3845  Gorge aux Châts  \n",
       "3839  Gorge aux Châts  \n",
       "3811  Gorge aux Châts  "
      ]
     },
     "execution_count": 100,
     "metadata": {},
     "output_type": "execute_result"
    }
   ],
   "source": [
    "df[\n",
    "    df[\"grade\"].str.startswith(\"7c\") & \n",
    "    df[\"steepness\"].isin([\"roof\", \"overhang\"]) &\n",
    "    df[\"area_name\"].isin(['Gorge aux Châts',]) # 'Rocher des Souris', 'Jean des Vignes', 'Rocher des Potets',  '95.2',  \n",
    "].sort_values(\"popularity\", ascending=False)"
   ]
  },
  {
   "cell_type": "code",
   "execution_count": 101,
   "metadata": {},
   "outputs": [],
   "source": [
    "df.head().to_clipboard()"
   ]
  },
  {
   "cell_type": "markdown",
   "metadata": {},
   "source": [
    "# Vero's list \n",
    "Velociraptor\n",
    "Extraction Divine (assis)\n",
    "La Grande Caravane"
   ]
  },
  {
   "cell_type": "code",
   "execution_count": null,
   "metadata": {},
   "outputs": [],
   "source": [
    "# Create an interactive map showing climbing areas\n",
    "import folium\n",
    "from folium import plugins\n",
    "\n",
    "# Get unique areas with their coordinates\n",
    "areas = df.groupby('area_name').agg({\n",
    "    'lat': 'first',\n",
    "    'lon': 'first',\n",
    "    'id': 'count'  # Count problems per area\n",
    "}).reset_index()\n",
    "\n",
    "# Create base map centered on Fontainebleau\n",
    "m = folium.Map(\n",
    "    location=[48.4, 2.7],  # Approximate center of Fontainebleau\n",
    "    zoom_start=11\n",
    ")\n",
    "\n",
    "# Add markers for each area\n",
    "for idx, row in areas.iterrows():\n",
    "    if pd.notna(row['lat']) and pd.notna(row['lon']):  # Check for valid coordinates\n",
    "        folium.CircleMarker(\n",
    "            location=[row['lat'], row['lon']],\n",
    "            radius=int(np.log(row['id'] + 1) * 3),  # Size based on number of problems\n",
    "            popup=f\"{row['area_name']}<br>{row['id']} problems\",\n",
    "            color='red',\n",
    "            fill=True,\n",
    "            fill_color='red'\n",
    "        ).add_to(m)\n",
    "\n",
    "# Add a fullscreen option\n",
    "plugins.Fullscreen().add_to(m)\n",
    "\n",
    "# Display the map\n",
    "m\n"
   ]
  }
 ],
 "metadata": {
  "kernelspec": {
   "display_name": "farmon",
   "language": "python",
   "name": "farmon"
  },
  "language_info": {
   "codemirror_mode": {
    "name": "ipython",
    "version": 3
   },
   "file_extension": ".py",
   "mimetype": "text/x-python",
   "name": "python",
   "nbconvert_exporter": "python",
   "pygments_lexer": "ipython3",
   "version": "3.10.15"
  }
 },
 "nbformat": 4,
 "nbformat_minor": 2
}
