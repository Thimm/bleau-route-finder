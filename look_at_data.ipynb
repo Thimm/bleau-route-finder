{
 "cells": [
  {
   "cell_type": "code",
   "execution_count": 73,
   "metadata": {},
   "outputs": [],
   "source": [
    "import pandas as pd\n",
    "import sqlite3\n",
    "con = sqlite3.connect(\"boolder.db\")\n",
    "df = pd.read_sql(\"SELECT * FROM problems\", con)\n",
    "# show 100 rows\n",
    "pd.set_option('display.max_rows', 100)\n"
   ]
  },
  {
   "cell_type": "code",
   "execution_count": 74,
   "metadata": {},
   "outputs": [],
   "source": [
    "areas = pd.read_sql(\"SELECT * FROM areas\", con)\n",
    "areas.rename(columns={\"id\": \"area_id\", \"name\": \"area_name\"}, inplace=True)"
   ]
  },
  {
   "cell_type": "code",
   "execution_count": 75,
   "metadata": {},
   "outputs": [
    {
     "data": {
      "text/html": [
       "<div>\n",
       "<style scoped>\n",
       "    .dataframe tbody tr th:only-of-type {\n",
       "        vertical-align: middle;\n",
       "    }\n",
       "\n",
       "    .dataframe tbody tr th {\n",
       "        vertical-align: top;\n",
       "    }\n",
       "\n",
       "    .dataframe thead th {\n",
       "        text-align: right;\n",
       "    }\n",
       "</style>\n",
       "<table border=\"1\" class=\"dataframe\">\n",
       "  <thead>\n",
       "    <tr style=\"text-align: right;\">\n",
       "      <th></th>\n",
       "      <th>id</th>\n",
       "      <th>name</th>\n",
       "      <th>name_en</th>\n",
       "      <th>name_searchable</th>\n",
       "      <th>grade</th>\n",
       "      <th>latitude</th>\n",
       "      <th>longitude</th>\n",
       "      <th>circuit_id</th>\n",
       "      <th>circuit_number</th>\n",
       "      <th>circuit_color</th>\n",
       "      <th>steepness</th>\n",
       "      <th>sit_start</th>\n",
       "      <th>area_id</th>\n",
       "      <th>bleau_info_id</th>\n",
       "      <th>featured</th>\n",
       "      <th>popularity</th>\n",
       "      <th>parent_id</th>\n",
       "      <th>area_name</th>\n",
       "    </tr>\n",
       "  </thead>\n",
       "  <tbody>\n",
       "    <tr>\n",
       "      <th>640</th>\n",
       "      <td>690</td>\n",
       "      <td>Le Toit du Cul de Chien</td>\n",
       "      <td>Le Toit du Cul de Chien</td>\n",
       "      <td>letoitduculdechien</td>\n",
       "      <td>7a</td>\n",
       "      <td>48.376143</td>\n",
       "      <td>2.522716</td>\n",
       "      <td>NaN</td>\n",
       "      <td>None</td>\n",
       "      <td>None</td>\n",
       "      <td>roof</td>\n",
       "      <td>0</td>\n",
       "      <td>2</td>\n",
       "      <td>173</td>\n",
       "      <td>1</td>\n",
       "      <td>23402</td>\n",
       "      <td>NaN</td>\n",
       "      <td>Cul de Chien</td>\n",
       "    </tr>\n",
       "    <tr>\n",
       "      <th>500</th>\n",
       "      <td>506</td>\n",
       "      <td>La Marie-Rose</td>\n",
       "      <td>La Marie-Rose</td>\n",
       "      <td>lamarierose</td>\n",
       "      <td>6a</td>\n",
       "      <td>48.447066</td>\n",
       "      <td>2.639099</td>\n",
       "      <td>15.0</td>\n",
       "      <td>22</td>\n",
       "      <td>red</td>\n",
       "      <td>wall</td>\n",
       "      <td>0</td>\n",
       "      <td>4</td>\n",
       "      <td>2128</td>\n",
       "      <td>1</td>\n",
       "      <td>18910</td>\n",
       "      <td>NaN</td>\n",
       "      <td>Cuvier</td>\n",
       "    </tr>\n",
       "    <tr>\n",
       "      <th>3003</th>\n",
       "      <td>3409</td>\n",
       "      <td>Graviton</td>\n",
       "      <td>Graviton</td>\n",
       "      <td>graviton</td>\n",
       "      <td>7a</td>\n",
       "      <td>48.374257</td>\n",
       "      <td>2.514130</td>\n",
       "      <td>NaN</td>\n",
       "      <td>None</td>\n",
       "      <td>red</td>\n",
       "      <td>wall</td>\n",
       "      <td>0</td>\n",
       "      <td>12</td>\n",
       "      <td>782</td>\n",
       "      <td>1</td>\n",
       "      <td>16879</td>\n",
       "      <td>NaN</td>\n",
       "      <td>Roche aux Sabots</td>\n",
       "    </tr>\n",
       "    <tr>\n",
       "      <th>2529</th>\n",
       "      <td>2902</td>\n",
       "      <td>Retour aux Sources</td>\n",
       "      <td>Retour aux Sources</td>\n",
       "      <td>retourauxsources</td>\n",
       "      <td>7a</td>\n",
       "      <td>48.385725</td>\n",
       "      <td>2.527241</td>\n",
       "      <td>NaN</td>\n",
       "      <td>None</td>\n",
       "      <td>None</td>\n",
       "      <td>overhang</td>\n",
       "      <td>1</td>\n",
       "      <td>10</td>\n",
       "      <td>5</td>\n",
       "      <td>1</td>\n",
       "      <td>13812</td>\n",
       "      <td>NaN</td>\n",
       "      <td>95.2</td>\n",
       "    </tr>\n",
       "    <tr>\n",
       "      <th>2954</th>\n",
       "      <td>3355</td>\n",
       "      <td>L'Oblique</td>\n",
       "      <td>L'Oblique</td>\n",
       "      <td>loblique</td>\n",
       "      <td>7a</td>\n",
       "      <td>48.374647</td>\n",
       "      <td>2.513958</td>\n",
       "      <td>NaN</td>\n",
       "      <td>None</td>\n",
       "      <td>None</td>\n",
       "      <td>roof</td>\n",
       "      <td>0</td>\n",
       "      <td>12</td>\n",
       "      <td>767</td>\n",
       "      <td>1</td>\n",
       "      <td>13426</td>\n",
       "      <td>3319.0</td>\n",
       "      <td>Roche aux Sabots</td>\n",
       "    </tr>\n",
       "    <tr>\n",
       "      <th>...</th>\n",
       "      <td>...</td>\n",
       "      <td>...</td>\n",
       "      <td>...</td>\n",
       "      <td>...</td>\n",
       "      <td>...</td>\n",
       "      <td>...</td>\n",
       "      <td>...</td>\n",
       "      <td>...</td>\n",
       "      <td>...</td>\n",
       "      <td>...</td>\n",
       "      <td>...</td>\n",
       "      <td>...</td>\n",
       "      <td>...</td>\n",
       "      <td>...</td>\n",
       "      <td>...</td>\n",
       "      <td>...</td>\n",
       "      <td>...</td>\n",
       "      <td>...</td>\n",
       "    </tr>\n",
       "    <tr>\n",
       "      <th>11311</th>\n",
       "      <td>12028</td>\n",
       "      <td>Amok (assis)</td>\n",
       "      <td>Amok (assis)</td>\n",
       "      <td>amokassis</td>\n",
       "      <td>8a+</td>\n",
       "      <td>48.384508</td>\n",
       "      <td>2.694254</td>\n",
       "      <td>NaN</td>\n",
       "      <td>None</td>\n",
       "      <td>None</td>\n",
       "      <td>overhang</td>\n",
       "      <td>1</td>\n",
       "      <td>52</td>\n",
       "      <td>11464</td>\n",
       "      <td>0</td>\n",
       "      <td>0</td>\n",
       "      <td>12027.0</td>\n",
       "      <td>Rocher de Bouligny</td>\n",
       "    </tr>\n",
       "    <tr>\n",
       "      <th>3840</th>\n",
       "      <td>4282</td>\n",
       "      <td>Mars Attaque</td>\n",
       "      <td>Mars Attaque</td>\n",
       "      <td>marsattaque</td>\n",
       "      <td>6b+</td>\n",
       "      <td>48.398928</td>\n",
       "      <td>2.520316</td>\n",
       "      <td>NaN</td>\n",
       "      <td>None</td>\n",
       "      <td>None</td>\n",
       "      <td>wall</td>\n",
       "      <td>0</td>\n",
       "      <td>15</td>\n",
       "      <td>12059</td>\n",
       "      <td>0</td>\n",
       "      <td>0</td>\n",
       "      <td>NaN</td>\n",
       "      <td>Gorge aux Châts</td>\n",
       "    </tr>\n",
       "    <tr>\n",
       "      <th>11314</th>\n",
       "      <td>12031</td>\n",
       "      <td>La Peau d'Éléphant</td>\n",
       "      <td>La Peau d'Éléphant</td>\n",
       "      <td>lapeaudelephant</td>\n",
       "      <td>4b</td>\n",
       "      <td>48.384726</td>\n",
       "      <td>2.695105</td>\n",
       "      <td>NaN</td>\n",
       "      <td>None</td>\n",
       "      <td>None</td>\n",
       "      <td>slab</td>\n",
       "      <td>0</td>\n",
       "      <td>52</td>\n",
       "      <td>16789</td>\n",
       "      <td>0</td>\n",
       "      <td>0</td>\n",
       "      <td>NaN</td>\n",
       "      <td>Rocher de Bouligny</td>\n",
       "    </tr>\n",
       "    <tr>\n",
       "      <th>11315</th>\n",
       "      <td>12032</td>\n",
       "      <td>La Grattonade du 17 Octobre</td>\n",
       "      <td>La Grattonade du 17 Octobre</td>\n",
       "      <td>lagrattonadedu17octobre</td>\n",
       "      <td>5a</td>\n",
       "      <td>48.384703</td>\n",
       "      <td>2.695097</td>\n",
       "      <td>NaN</td>\n",
       "      <td>None</td>\n",
       "      <td>None</td>\n",
       "      <td>slab</td>\n",
       "      <td>0</td>\n",
       "      <td>52</td>\n",
       "      <td>16790</td>\n",
       "      <td>0</td>\n",
       "      <td>0</td>\n",
       "      <td>NaN</td>\n",
       "      <td>Rocher de Bouligny</td>\n",
       "    </tr>\n",
       "    <tr>\n",
       "      <th>13789</th>\n",
       "      <td>14542</td>\n",
       "      <td>La Boule de Soumission</td>\n",
       "      <td>La Boule de Soumission</td>\n",
       "      <td>labouledesoumission</td>\n",
       "      <td>6a</td>\n",
       "      <td>48.445741</td>\n",
       "      <td>2.648203</td>\n",
       "      <td>NaN</td>\n",
       "      <td>None</td>\n",
       "      <td>None</td>\n",
       "      <td>other</td>\n",
       "      <td>0</td>\n",
       "      <td>64</td>\n",
       "      <td>22765</td>\n",
       "      <td>0</td>\n",
       "      <td>0</td>\n",
       "      <td>NaN</td>\n",
       "      <td>Cuvier Rempart</td>\n",
       "    </tr>\n",
       "  </tbody>\n",
       "</table>\n",
       "<p>18462 rows × 18 columns</p>\n",
       "</div>"
      ],
      "text/plain": [
       "          id                         name                      name_en  \\\n",
       "640      690      Le Toit du Cul de Chien      Le Toit du Cul de Chien   \n",
       "500      506                La Marie-Rose                La Marie-Rose   \n",
       "3003    3409                     Graviton                     Graviton   \n",
       "2529    2902           Retour aux Sources           Retour aux Sources   \n",
       "2954    3355                    L'Oblique                    L'Oblique   \n",
       "...      ...                          ...                          ...   \n",
       "11311  12028                 Amok (assis)                 Amok (assis)   \n",
       "3840    4282                 Mars Attaque                 Mars Attaque   \n",
       "11314  12031           La Peau d'Éléphant           La Peau d'Éléphant   \n",
       "11315  12032  La Grattonade du 17 Octobre  La Grattonade du 17 Octobre   \n",
       "13789  14542       La Boule de Soumission       La Boule de Soumission   \n",
       "\n",
       "               name_searchable grade   latitude  longitude  circuit_id  \\\n",
       "640         letoitduculdechien    7a  48.376143   2.522716         NaN   \n",
       "500                lamarierose    6a  48.447066   2.639099        15.0   \n",
       "3003                  graviton    7a  48.374257   2.514130         NaN   \n",
       "2529          retourauxsources    7a  48.385725   2.527241         NaN   \n",
       "2954                  loblique    7a  48.374647   2.513958         NaN   \n",
       "...                        ...   ...        ...        ...         ...   \n",
       "11311                amokassis   8a+  48.384508   2.694254         NaN   \n",
       "3840               marsattaque   6b+  48.398928   2.520316         NaN   \n",
       "11314          lapeaudelephant    4b  48.384726   2.695105         NaN   \n",
       "11315  lagrattonadedu17octobre    5a  48.384703   2.695097         NaN   \n",
       "13789      labouledesoumission    6a  48.445741   2.648203         NaN   \n",
       "\n",
       "      circuit_number circuit_color steepness  sit_start  area_id  \\\n",
       "640             None          None      roof          0        2   \n",
       "500               22           red      wall          0        4   \n",
       "3003            None           red      wall          0       12   \n",
       "2529            None          None  overhang          1       10   \n",
       "2954            None          None      roof          0       12   \n",
       "...              ...           ...       ...        ...      ...   \n",
       "11311           None          None  overhang          1       52   \n",
       "3840            None          None      wall          0       15   \n",
       "11314           None          None      slab          0       52   \n",
       "11315           None          None      slab          0       52   \n",
       "13789           None          None     other          0       64   \n",
       "\n",
       "      bleau_info_id  featured  popularity  parent_id           area_name  \n",
       "640             173         1       23402        NaN        Cul de Chien  \n",
       "500            2128         1       18910        NaN              Cuvier  \n",
       "3003            782         1       16879        NaN    Roche aux Sabots  \n",
       "2529              5         1       13812        NaN                95.2  \n",
       "2954            767         1       13426     3319.0    Roche aux Sabots  \n",
       "...             ...       ...         ...        ...                 ...  \n",
       "11311         11464         0           0    12027.0  Rocher de Bouligny  \n",
       "3840          12059         0           0        NaN     Gorge aux Châts  \n",
       "11314         16789         0           0        NaN  Rocher de Bouligny  \n",
       "11315         16790         0           0        NaN  Rocher de Bouligny  \n",
       "13789         22765         0           0        NaN      Cuvier Rempart  \n",
       "\n",
       "[18462 rows x 18 columns]"
      ]
     },
     "execution_count": 75,
     "metadata": {},
     "output_type": "execute_result"
    }
   ],
   "source": [
    "df = df.merge(areas[[\"area_id\", \"area_name\"]], on=\"area_id\", how=\"left\")\n",
    "df = df.sort_values(\"popularity\", ascending=False)\n",
    "df"
   ]
  },
  {
   "cell_type": "code",
   "execution_count": 76,
   "metadata": {},
   "outputs": [
    {
     "data": {
      "text/plain": [
       "<Axes: xlabel='grade'>"
      ]
     },
     "execution_count": 76,
     "metadata": {},
     "output_type": "execute_result"
    },
    {
     "data": {
      "image/png": "[encoded data removed]",
      "text/plain": [
       "<Figure size 640x480 with 1 Axes>"
      ]
     },
     "metadata": {},
     "output_type": "display_data"
    }
   ],
   "source": [
    "df[\"grade\"].value_counts().sort_index().plot(kind=\"bar\")"
   ]
  },
  {
   "cell_type": "code",
   "execution_count": 77,
   "metadata": {},
   "outputs": [
    {
     "data": {
      "text/plain": [
       "<Axes: xlabel='steepness'>"
      ]
     },
     "execution_count": 77,
     "metadata": {},
     "output_type": "execute_result"
    },
    {
     "data": {
      "image/png": "[encoded data removed]",
      "text/plain": [
       "<Figure size 640x480 with 1 Axes>"
      ]
     },
     "metadata": {},
     "output_type": "display_data"
    }
   ],
   "source": [
    "df[\"steepness\"].value_counts().plot(kind=\"bar\")"
   ]
  },
  {
   "cell_type": "code",
   "execution_count": 78,
   "metadata": {},
   "outputs": [
    {
     "data": {
      "application/vnd.plotly.v1+json": {
       "config": {
        "plotlyServerURL": "https://plot.ly"
       },
       "data": [
        {
         "branchvalues": "total",
         "customdata": [
          [
           1
          ],
          [
           1
          ],
          [
           1
          ],
          [
           1
          ],
          [
           31
          ],
          [
           1
          ],
          [
           120
          ],
          [
           123
          ],
          [
           15
          ],
          [
           46
          ],
          [
           265
          ],
          [
           2
          ],
          [
           34
          ],
          [
           9
          ],
          [
           12
          ],
          [
           117
          ],
          [
           3
          ],
          [
           141
          ],
          [
           36
          ],
          [
           96
          ],
          [
           300
          ],
          [
           10
          ],
          [
           354
          ],
          [
           132
          ],
          [
           243
          ],
          [
           234
          ],
          [
           21
          ],
          [
           300
          ],
          [
           125
          ],
          [
           246
          ],
          [
           230
          ],
          [
           20
          ],
          [
           1
          ],
          [
           235
          ],
          [
           123
          ],
          [
           260
          ],
          [
           194
          ],
          [
           28
          ],
          [
           209
          ],
          [
           134
          ],
          [
           268
          ],
          [
           182
          ],
          [
           35
          ],
          [
           241
          ],
          [
           133
          ],
          [
           325
          ],
          [
           195
          ],
          [
           58
          ],
          [
           217
          ],
          [
           111
          ],
          [
           355
          ],
          [
           156
          ],
          [
           78
          ],
          [
           183
          ],
          [
           99
          ],
          [
           365
          ],
          [
           136
          ],
          [
           90
          ],
          [
           1
          ],
          [
           200
          ],
          [
           85
          ],
          [
           375
          ],
          [
           121
          ],
          [
           87
          ],
          [
           6
          ],
          [
           160
          ],
          [
           80
          ],
          [
           308
          ],
          [
           144
          ],
          [
           130
          ],
          [
           6
          ],
          [
           172
          ],
          [
           77
          ],
          [
           419
          ],
          [
           175
          ],
          [
           167
          ],
          [
           6
          ],
          [
           134
          ],
          [
           94
          ],
          [
           411
          ],
          [
           161
          ],
          [
           189
          ],
          [
           5
          ],
          [
           122
          ],
          [
           115
          ],
          [
           381
          ],
          [
           79
          ],
          [
           98
          ],
          [
           9
          ],
          [
           31
          ],
          [
           52
          ],
          [
           142
          ],
          [
           143
          ],
          [
           162
          ],
          [
           20
          ],
          [
           74
          ],
          [
           114
          ],
          [
           252
          ],
          [
           71
          ],
          [
           92
          ],
          [
           22
          ],
          [
           25
          ],
          [
           74
          ],
          [
           109
          ],
          [
           151
          ],
          [
           183
          ],
          [
           26
          ],
          [
           61
          ],
          [
           135
          ],
          [
           238
          ],
          [
           64
          ],
          [
           104
          ],
          [
           17
          ],
          [
           18
          ],
          [
           76
          ],
          [
           96
          ],
          [
           204
          ],
          [
           328
          ],
          [
           57
          ],
          [
           58
          ],
          [
           265
          ],
          [
           260
          ],
          [
           125
          ],
          [
           177
          ],
          [
           45
          ],
          [
           26
          ],
          [
           178
          ],
          [
           130
          ],
          [
           109
          ],
          [
           165
          ],
          [
           41
          ],
          [
           23
          ],
          [
           161
          ],
          [
           88
          ],
          [
           58
          ],
          [
           134
          ],
          [
           34
          ],
          [
           15
          ],
          [
           120
          ],
          [
           63
          ],
          [
           61
          ],
          [
           125
          ],
          [
           28
          ],
          [
           8
          ],
          [
           82
          ],
          [
           49
          ],
          [
           30
          ],
          [
           63
          ],
          [
           20
          ],
          [
           7
          ],
          [
           47
          ],
          [
           26
          ],
          [
           26
          ],
          [
           42
          ],
          [
           16
          ],
          [
           5
          ],
          [
           48
          ],
          [
           21
          ],
          [
           6
          ],
          [
           21
          ],
          [
           14
          ],
          [
           2
          ],
          [
           23
          ],
          [
           6
          ],
          [
           4
          ],
          [
           8
          ],
          [
           8
          ],
          [
           2
          ],
          [
           11
          ],
          [
           2
          ],
          [
           2
          ],
          [
           6
          ],
          [
           4
          ],
          [
           5
          ],
          [
           2
          ],
          [
           1
          ],
          [
           1
          ],
          [
           5
          ],
          [
           6
          ],
          [
           2
          ],
          [
           1
          ],
          [
           1
          ],
          [
           1
          ],
          [
           3896
          ],
          [
           2627
          ],
          [
           393
          ],
          [
           3182
          ],
          [
           2768
          ],
          [
           5596
          ]
         ],
         "domain": {
          "x": [
           0,
           1
          ],
          "y": [
           0,
           1
          ]
         },
         "hovertemplate": "<b>%{label}</b><br>Count: %{customdata[0]:,.0f}<extra></extra>",
         "ids": [
          "other/",
          "slab/",
          "traverse/",
          "wall/",
          "other/1a",
          "slab/1a",
          "other/1b",
          "slab/1b",
          "traverse/1b",
          "wall/1b",
          "other/1c",
          "overhang/1c",
          "slab/1c",
          "traverse/1c",
          "wall/1c",
          "other/2a",
          "overhang/2a",
          "slab/2a",
          "traverse/2a",
          "wall/2a",
          "other/2b",
          "overhang/2b",
          "slab/2b",
          "traverse/2b",
          "wall/2b",
          "other/2c",
          "overhang/2c",
          "slab/2c",
          "traverse/2c",
          "wall/2c",
          "other/3a",
          "overhang/3a",
          "roof/3a",
          "slab/3a",
          "traverse/3a",
          "wall/3a",
          "other/3b",
          "overhang/3b",
          "slab/3b",
          "traverse/3b",
          "wall/3b",
          "other/3c",
          "overhang/3c",
          "slab/3c",
          "traverse/3c",
          "wall/3c",
          "other/4a",
          "overhang/4a",
          "slab/4a",
          "traverse/4a",
          "wall/4a",
          "other/4b",
          "overhang/4b",
          "slab/4b",
          "traverse/4b",
          "wall/4b",
          "other/4c",
          "overhang/4c",
          "roof/4c",
          "slab/4c",
          "traverse/4c",
          "wall/4c",
          "other/5a",
          "overhang/5a",
          "roof/5a",
          "slab/5a",
          "traverse/5a",
          "wall/5a",
          "other/5b",
          "overhang/5b",
          "roof/5b",
          "slab/5b",
          "traverse/5b",
          "wall/5b",
          "other/5c",
          "overhang/5c",
          "roof/5c",
          "slab/5c",
          "traverse/5c",
          "wall/5c",
          "other/6a",
          "overhang/6a",
          "roof/6a",
          "slab/6a",
          "traverse/6a",
          "wall/6a",
          "other/6a+",
          "overhang/6a+",
          "roof/6a+",
          "slab/6a+",
          "traverse/6a+",
          "wall/6a+",
          "other/6b",
          "overhang/6b",
          "roof/6b",
          "slab/6b",
          "traverse/6b",
          "wall/6b",
          "other/6b+",
          "overhang/6b+",
          "roof/6b+",
          "slab/6b+",
          "traverse/6b+",
          "wall/6b+",
          "other/6c",
          "overhang/6c",
          "roof/6c",
          "slab/6c",
          "traverse/6c",
          "wall/6c",
          "other/6c+",
          "overhang/6c+",
          "roof/6c+",
          "slab/6c+",
          "traverse/6c+",
          "wall/6c+",
          "other/7a",
          "overhang/7a",
          "roof/7a",
          "slab/7a",
          "traverse/7a",
          "wall/7a",
          "other/7a+",
          "overhang/7a+",
          "roof/7a+",
          "slab/7a+",
          "traverse/7a+",
          "wall/7a+",
          "other/7b",
          "overhang/7b",
          "roof/7b",
          "slab/7b",
          "traverse/7b",
          "wall/7b",
          "other/7b+",
          "overhang/7b+",
          "roof/7b+",
          "slab/7b+",
          "traverse/7b+",
          "wall/7b+",
          "other/7c",
          "overhang/7c",
          "roof/7c",
          "slab/7c",
          "traverse/7c",
          "wall/7c",
          "other/7c+",
          "overhang/7c+",
          "roof/7c+",
          "slab/7c+",
          "traverse/7c+",
          "wall/7c+",
          "other/8a",
          "overhang/8a",
          "roof/8a",
          "slab/8a",
          "traverse/8a",
          "wall/8a",
          "other/8a+",
          "overhang/8a+",
          "roof/8a+",
          "slab/8a+",
          "traverse/8a+",
          "wall/8a+",
          "other/8b",
          "overhang/8b",
          "roof/8b",
          "slab/8b",
          "traverse/8b",
          "wall/8b",
          "other/8b+",
          "overhang/8b+",
          "roof/8b+",
          "traverse/8b+",
          "wall/8b+",
          "other/8c",
          "overhang/8c",
          "roof/8c",
          "traverse/8c",
          "roof/8c+",
          "traverse/8c+",
          "wall/8c+",
          "traverse/9a",
          "other",
          "overhang",
          "roof",
          "slab",
          "traverse",
          "wall"
         ],
         "labels": [
          "",
          "",
          "",
          "",
          "1a",
          "1a",
          "1b",
          "1b",
          "1b",
          "1b",
          "1c",
          "1c",
          "1c",
          "1c",
          "1c",
          "2a",
          "2a",
          "2a",
          "2a",
          "2a",
          "2b",
          "2b",
          "2b",
          "2b",
          "2b",
          "2c",
          "2c",
          "2c",
          "2c",
          "2c",
          "3a",
          "3a",
          "3a",
          "3a",
          "3a",
          "3a",
          "3b",
          "3b",
          "3b",
          "3b",
          "3b",
          "3c",
          "3c",
          "3c",
          "3c",
          "3c",
          "4a",
          "4a",
          "4a",
          "4a",
          "4a",
          "4b",
          "4b",
          "4b",
          "4b",
          "4b",
          "4c",
          "4c",
          "4c",
          "4c",
          "4c",
          "4c",
          "5a",
          "5a",
          "5a",
          "5a",
          "5a",
          "5a",
          "5b",
          "5b",
          "5b",
          "5b",
          "5b",
          "5b",
          "5c",
          "5c",
          "5c",
          "5c",
          "5c",
          "5c",
          "6a",
          "6a",
          "6a",
          "6a",
          "6a",
          "6a",
          "6a+",
          "6a+",
          "6a+",
          "6a+",
          "6a+",
          "6a+",
          "6b",
          "6b",
          "6b",
          "6b",
          "6b",
          "6b",
          "6b+",
          "6b+",
          "6b+",
          "6b+",
          "6b+",
          "6b+",
          "6c",
          "6c",
          "6c",
          "6c",
          "6c",
          "6c",
          "6c+",
          "6c+",
          "6c+",
          "6c+",
          "6c+",
          "6c+",
          "7a",
          "7a",
          "7a",
          "7a",
          "7a",
          "7a",
          "7a+",
          "7a+",
          "7a+",
          "7a+",
          "7a+",
          "7a+",
          "7b",
          "7b",
          "7b",
          "7b",
          "7b",
          "7b",
          "7b+",
          "7b+",
          "7b+",
          "7b+",
          "7b+",
          "7b+",
          "7c",
          "7c",
          "7c",
          "7c",
          "7c",
          "7c",
          "7c+",
          "7c+",
          "7c+",
          "7c+",
          "7c+",
          "7c+",
          "8a",
          "8a",
          "8a",
          "8a",
          "8a",
          "8a",
          "8a+",
          "8a+",
          "8a+",
          "8a+",
          "8a+",
          "8a+",
          "8b",
          "8b",
          "8b",
          "8b",
          "8b",
          "8b",
          "8b+",
          "8b+",
          "8b+",
          "8b+",
          "8b+",
          "8c",
          "8c",
          "8c",
          "8c",
          "8c+",
          "8c+",
          "8c+",
          "9a",
          "other",
          "overhang",
          "roof",
          "slab",
          "traverse",
          "wall"
         ],
         "marker": {
          "colors": [
           "#FF6B6B",
           "#4ECDC4",
           "#45B7D1",
           "#96CEB4",
           "#FFEEAD",
           "#D4A5A5"
          ],
          "line": {
           "width": 2
          }
         },
         "name": "",
         "parents": [
          "other",
          "slab",
          "traverse",
          "wall",
          "other",
          "slab",
          "other",
          "slab",
          "traverse",
          "wall",
          "other",
          "overhang",
          "slab",
          "traverse",
          "wall",
          "other",
          "overhang",
          "slab",
          "traverse",
          "wall",
          "other",
          "overhang",
          "slab",
          "traverse",
          "wall",
          "other",
          "overhang",
          "slab",
          "traverse",
          "wall",
          "other",
          "overhang",
          "roof",
          "slab",
          "traverse",
          "wall",
          "other",
          "overhang",
          "slab",
          "traverse",
          "wall",
          "other",
          "overhang",
          "slab",
          "traverse",
          "wall",
          "other",
          "overhang",
          "slab",
          "traverse",
          "wall",
          "other",
          "overhang",
          "slab",
          "traverse",
          "wall",
          "other",
          "overhang",
          "roof",
          "slab",
          "traverse",
          "wall",
          "other",
          "overhang",
          "roof",
          "slab",
          "traverse",
          "wall",
          "other",
          "overhang",
          "roof",
          "slab",
          "traverse",
          "wall",
          "other",
          "overhang",
          "roof",
          "slab",
          "traverse",
          "wall",
          "other",
          "overhang",
          "roof",
          "slab",
          "traverse",
          "wall",
          "other",
          "overhang",
          "roof",
          "slab",
          "traverse",
          "wall",
          "other",
          "overhang",
          "roof",
          "slab",
          "traverse",
          "wall",
          "other",
          "overhang",
          "roof",
          "slab",
          "traverse",
          "wall",
          "other",
          "overhang",
          "roof",
          "slab",
          "traverse",
          "wall",
          "other",
          "overhang",
          "roof",
          "slab",
          "traverse",
          "wall",
          "other",
          "overhang",
          "roof",
          "slab",
          "traverse",
          "wall",
          "other",
          "overhang",
          "roof",
          "slab",
          "traverse",
          "wall",
          "other",
          "overhang",
          "roof",
          "slab",
          "traverse",
          "wall",
          "other",
          "overhang",
          "roof",
          "slab",
          "traverse",
          "wall",
          "other",
          "overhang",
          "roof",
          "slab",
          "traverse",
          "wall",
          "other",
          "overhang",
          "roof",
          "slab",
          "traverse",
          "wall",
          "other",
          "overhang",
          "roof",
          "slab",
          "traverse",
          "wall",
          "other",
          "overhang",
          "roof",
          "slab",
          "traverse",
          "wall",
          "other",
          "overhang",
          "roof",
          "slab",
          "traverse",
          "wall",
          "other",
          "overhang",
          "roof",
          "traverse",
          "wall",
          "other",
          "overhang",
          "roof",
          "traverse",
          "roof",
          "traverse",
          "wall",
          "traverse",
          "",
          "",
          "",
          "",
          "",
          ""
         ],
         "textinfo": "label+value",
         "type": "treemap",
         "values": [
          1,
          1,
          1,
          1,
          31,
          1,
          120,
          123,
          15,
          46,
          265,
          2,
          34,
          9,
          12,
          117,
          3,
          141,
          36,
          96,
          300,
          10,
          354,
          132,
          243,
          234,
          21,
          300,
          125,
          246,
          230,
          20,
          1,
          235,
          123,
          260,
          194,
          28,
          209,
          134,
          268,
          182,
          35,
          241,
          133,
          325,
          195,
          58,
          217,
          111,
          355,
          156,
          78,
          183,
          99,
          365,
          136,
          90,
          1,
          200,
          85,
          375,
          121,
          87,
          6,
          160,
          80,
          308,
          144,
          130,
          6,
          172,
          77,
          419,
          175,
          167,
          6,
          134,
          94,
          411,
          161,
          189,
          5,
          122,
          115,
          381,
          79,
          98,
          9,
          31,
          52,
          142,
          143,
          162,
          20,
          74,
          114,
          252,
          71,
          92,
          22,
          25,
          74,
          109,
          151,
          183,
          26,
          61,
          135,
          238,
          64,
          104,
          17,
          18,
          76,
          96,
          204,
          328,
          57,
          58,
          265,
          260,
          125,
          177,
          45,
          26,
          178,
          130,
          109,
          165,
          41,
          23,
          161,
          88,
          58,
          134,
          34,
          15,
          120,
          63,
          61,
          125,
          28,
          8,
          82,
          49,
          30,
          63,
          20,
          7,
          47,
          26,
          26,
          42,
          16,
          5,
          48,
          21,
          6,
          21,
          14,
          2,
          23,
          6,
          4,
          8,
          8,
          2,
          11,
          2,
          2,
          6,
          4,
          5,
          2,
          1,
          1,
          5,
          6,
          2,
          1,
          1,
          1,
          3896,
          2627,
          393,
          3182,
          2768,
          5596
         ]
        }
       ],
       "layout": {
        "legend": {
         "tracegroupgap": 0
        },
        "template": {
         "data": {
          "bar": [
           {
            "error_x": {
             "color": "#2a3f5f"
            },
            "error_y": {
             "color": "#2a3f5f"
            },
            "marker": {
             "line": {
              "color": "#E5ECF6",
              "width": 0.5
             },
             "pattern": {
              "fillmode": "overlay",
              "size": 10,
              "solidity": 0.2
             }
            },
            "type": "bar"
           }
          ],
          "barpolar": [
           {
            "marker": {
             "line": {
              "color": "#E5ECF6",
              "width": 0.5
             },
             "pattern": {
              "fillmode": "overlay",
              "size": 10,
              "solidity": 0.2
             }
            },
            "type": "barpolar"
           }
          ],
          "carpet": [
           {
            "aaxis": {
             "endlinecolor": "#2a3f5f",
             "gridcolor": "white",
             "linecolor": "white",
             "minorgridcolor": "white",
             "startlinecolor": "#2a3f5f"
            },
            "baxis": {
             "endlinecolor": "#2a3f5f",
             "gridcolor": "white",
             "linecolor": "white",
             "minorgridcolor": "white",
             "startlinecolor": "#2a3f5f"
            },
            "type": "carpet"
           }
          ],
          "choropleth": [
           {
            "colorbar": {
             "outlinewidth": 0,
             "ticks": ""
            },
            "type": "choropleth"
           }
          ],
          "contour": [
           {
            "colorbar": {
             "outlinewidth": 0,
             "ticks": ""
            },
            "colorscale": [
             [
              0,
              "#0d0887"
             ],
             [
              0.1111111111111111,
              "#46039f"
             ],
             [
              0.2222222222222222,
              "#7201a8"
             ],
             [
              0.3333333333333333,
              "#9c179e"
             ],
             [
              0.4444444444444444,
              "#bd3786"
             ],
             [
              0.5555555555555556,
              "#d8576b"
             ],
             [
              0.6666666666666666,
              "#ed7953"
             ],
             [
              0.7777777777777778,
              "#fb9f3a"
             ],
             [
              0.8888888888888888,
              "#fdca26"
             ],
             [
              1,
              "#f0f921"
             ]
            ],
            "type": "contour"
           }
          ],
          "contourcarpet": [
           {
            "colorbar": {
             "outlinewidth": 0,
             "ticks": ""
            },
            "type": "contourcarpet"
           }
          ],
          "heatmap": [
           {
            "colorbar": {
             "outlinewidth": 0,
             "ticks": ""
            },
            "colorscale": [
             [
              0,
              "#0d0887"
             ],
             [
              0.1111111111111111,
              "#46039f"
             ],
             [
              0.2222222222222222,
              "#7201a8"
             ],
             [
              0.3333333333333333,
              "#9c179e"
             ],
             [
              0.4444444444444444,
              "#bd3786"
             ],
             [
              0.5555555555555556,
              "#d8576b"
             ],
             [
              0.6666666666666666,
              "#ed7953"
             ],
             [
              0.7777777777777778,
              "#fb9f3a"
             ],
             [
              0.8888888888888888,
              "#fdca26"
             ],
             [
              1,
              "#f0f921"
             ]
            ],
            "type": "heatmap"
           }
          ],
          "heatmapgl": [
           {
            "colorbar": {
             "outlinewidth": 0,
             "ticks": ""
            },
            "colorscale": [
             [
              0,
              "#0d0887"
             ],
             [
              0.1111111111111111,
              "#46039f"
             ],
             [
              0.2222222222222222,
              "#7201a8"
             ],
             [
              0.3333333333333333,
              "#9c179e"
             ],
             [
              0.4444444444444444,
              "#bd3786"
             ],
             [
              0.5555555555555556,
              "#d8576b"
             ],
             [
              0.6666666666666666,
              "#ed7953"
             ],
             [
              0.7777777777777778,
              "#fb9f3a"
             ],
             [
              0.8888888888888888,
              "#fdca26"
             ],
             [
              1,
              "#f0f921"
             ]
            ],
            "type": "heatmapgl"
           }
          ],
          "histogram": [
           {
            "marker": {
             "pattern": {
              "fillmode": "overlay",
              "size": 10,
              "solidity": 0.2
             }
            },
            "type": "histogram"
           }
          ],
          "histogram2d": [
           {
            "colorbar": {
             "outlinewidth": 0,
             "ticks": ""
            },
            "colorscale": [
             [
              0,
              "#0d0887"
             ],
             [
              0.1111111111111111,
              "#46039f"
             ],
             [
              0.2222222222222222,
              "#7201a8"
             ],
             [
              0.3333333333333333,
              "#9c179e"
             ],
             [
              0.4444444444444444,
              "#bd3786"
             ],
             [
              0.5555555555555556,
              "#d8576b"
             ],
             [
              0.6666666666666666,
              "#ed7953"
             ],
             [
              0.7777777777777778,
              "#fb9f3a"
             ],
             [
              0.8888888888888888,
              "#fdca26"
             ],
             [
              1,
              "#f0f921"
             ]
            ],
            "type": "histogram2d"
           }
          ],
          "histogram2dcontour": [
           {
            "colorbar": {
             "outlinewidth": 0,
             "ticks": ""
            },
            "colorscale": [
             [
              0,
              "#0d0887"
             ],
             [
              0.1111111111111111,
              "#46039f"
             ],
             [
              0.2222222222222222,
              "#7201a8"
             ],
             [
              0.3333333333333333,
              "#9c179e"
             ],
             [
              0.4444444444444444,
              "#bd3786"
             ],
             [
              0.5555555555555556,
              "#d8576b"
             ],
             [
              0.6666666666666666,
              "#ed7953"
             ],
             [
              0.7777777777777778,
              "#fb9f3a"
             ],
             [
              0.8888888888888888,
              "#fdca26"
             ],
             [
              1,
              "#f0f921"
             ]
            ],
            "type": "histogram2dcontour"
           }
          ],
          "mesh3d": [
           {
            "colorbar": {
             "outlinewidth": 0,
             "ticks": ""
            },
            "type": "mesh3d"
           }
          ],
          "parcoords": [
           {
            "line": {
             "colorbar": {
              "outlinewidth": 0,
              "ticks": ""
             }
            },
            "type": "parcoords"
           }
          ],
          "pie": [
           {
            "automargin": true,
            "type": "pie"
           }
          ],
          "scatter": [
           {
            "fillpattern": {
             "fillmode": "overlay",
             "size": 10,
             "solidity": 0.2
            },
            "type": "scatter"
           }
          ],
          "scatter3d": [
           {
            "line": {
             "colorbar": {
              "outlinewidth": 0,
              "ticks": ""
             }
            },
            "marker": {
             "colorbar": {
              "outlinewidth": 0,
              "ticks": ""
             }
            },
            "type": "scatter3d"
           }
          ],
          "scattercarpet": [
           {
            "marker": {
             "colorbar": {
              "outlinewidth": 0,
              "ticks": ""
             }
            },
            "type": "scattercarpet"
           }
          ],
          "scattergeo": [
           {
            "marker": {
             "colorbar": {
              "outlinewidth": 0,
              "ticks": ""
             }
            },
            "type": "scattergeo"
           }
          ],
          "scattergl": [
           {
            "marker": {
             "colorbar": {
              "outlinewidth": 0,
              "ticks": ""
             }
            },
            "type": "scattergl"
           }
          ],
          "scattermapbox": [
           {
            "marker": {
             "colorbar": {
              "outlinewidth": 0,
              "ticks": ""
             }
            },
            "type": "scattermapbox"
           }
          ],
          "scatterpolar": [
           {
            "marker": {
             "colorbar": {
              "outlinewidth": 0,
              "ticks": ""
             }
            },
            "type": "scatterpolar"
           }
          ],
          "scatterpolargl": [
           {
            "marker": {
             "colorbar": {
              "outlinewidth": 0,
              "ticks": ""
             }
            },
            "type": "scatterpolargl"
           }
          ],
          "scatterternary": [
           {
            "marker": {
             "colorbar": {
              "outlinewidth": 0,
              "ticks": ""
             }
            },
            "type": "scatterternary"
           }
          ],
          "surface": [
           {
            "colorbar": {
             "outlinewidth": 0,
             "ticks": ""
            },
            "colorscale": [
             [
              0,
              "#0d0887"
             ],
             [
              0.1111111111111111,
              "#46039f"
             ],
             [
              0.2222222222222222,
              "#7201a8"
             ],
             [
              0.3333333333333333,
              "#9c179e"
             ],
             [
              0.4444444444444444,
              "#bd3786"
             ],
             [
              0.5555555555555556,
              "#d8576b"
             ],
             [
              0.6666666666666666,
              "#ed7953"
             ],
             [
              0.7777777777777778,
              "#fb9f3a"
             ],
             [
              0.8888888888888888,
              "#fdca26"
             ],
             [
              1,
              "#f0f921"
             ]
            ],
            "type": "surface"
           }
          ],
          "table": [
           {
            "cells": {
             "fill": {
              "color": "#EBF0F8"
             },
             "line": {
              "color": "white"
             }
            },
            "header": {
             "fill": {
              "color": "#C8D4E3"
             },
             "line": {
              "color": "white"
             }
            },
            "type": "table"
           }
          ]
         },
         "layout": {
          "annotationdefaults": {
           "arrowcolor": "#2a3f5f",
           "arrowhead": 0,
           "arrowwidth": 1
          },
          "autotypenumbers": "strict",
          "coloraxis": {
           "colorbar": {
            "outlinewidth": 0,
            "ticks": ""
           }
          },
          "colorscale": {
           "diverging": [
            [
             0,
             "#8e0152"
            ],
            [
             0.1,
             "#c51b7d"
            ],
            [
             0.2,
             "#de77ae"
            ],
            [
             0.3,
             "#f1b6da"
            ],
            [
             0.4,
             "#fde0ef"
            ],
            [
             0.5,
             "#f7f7f7"
            ],
            [
             0.6,
             "#e6f5d0"
            ],
            [
             0.7,
             "#b8e186"
            ],
            [
             0.8,
             "#7fbc41"
            ],
            [
             0.9,
             "#4d9221"
            ],
            [
             1,
             "#276419"
            ]
           ],
           "sequential": [
            [
             0,
             "#0d0887"
            ],
            [
             0.1111111111111111,
             "#46039f"
            ],
            [
             0.2222222222222222,
             "#7201a8"
            ],
            [
             0.3333333333333333,
             "#9c179e"
            ],
            [
             0.4444444444444444,
             "#bd3786"
            ],
            [
             0.5555555555555556,
             "#d8576b"
            ],
            [
             0.6666666666666666,
             "#ed7953"
            ],
            [
             0.7777777777777778,
             "#fb9f3a"
            ],
            [
             0.8888888888888888,
             "#fdca26"
            ],
            [
             1,
             "#f0f921"
            ]
           ],
           "sequentialminus": [
            [
             0,
             "#0d0887"
            ],
            [
             0.1111111111111111,
             "#46039f"
            ],
            [
             0.2222222222222222,
             "#7201a8"
            ],
            [
             0.3333333333333333,
             "#9c179e"
            ],
            [
             0.4444444444444444,
             "#bd3786"
            ],
            [
             0.5555555555555556,
             "#d8576b"
            ],
            [
             0.6666666666666666,
             "#ed7953"
            ],
            [
             0.7777777777777778,
             "#fb9f3a"
            ],
            [
             0.8888888888888888,
             "#fdca26"
            ],
            [
             1,
             "#f0f921"
            ]
           ]
          },
          "colorway": [
           "#636efa",
           "#EF553B",
           "#00cc96",
           "#ab63fa",
           "#FFA15A",
           "#19d3f3",
           "#FF6692",
           "#B6E880",
           "#FF97FF",
           "#FECB52"
          ],
          "font": {
           "color": "#2a3f5f"
          },
          "geo": {
           "bgcolor": "white",
           "lakecolor": "white",
           "landcolor": "#E5ECF6",
           "showlakes": true,
           "showland": true,
           "subunitcolor": "white"
          },
          "hoverlabel": {
           "align": "left"
          },
          "hovermode": "closest",
          "mapbox": {
           "style": "light"
          },
          "paper_bgcolor": "white",
          "plot_bgcolor": "#E5ECF6",
          "polar": {
           "angularaxis": {
            "gridcolor": "white",
            "linecolor": "white",
            "ticks": ""
           },
           "bgcolor": "#E5ECF6",
           "radialaxis": {
            "gridcolor": "white",
            "linecolor": "white",
            "ticks": ""
           }
          },
          "scene": {
           "xaxis": {
            "backgroundcolor": "#E5ECF6",
            "gridcolor": "white",
            "gridwidth": 2,
            "linecolor": "white",
            "showbackground": true,
            "ticks": "",
            "zerolinecolor": "white"
           },
           "yaxis": {
            "backgroundcolor": "#E5ECF6",
            "gridcolor": "white",
            "gridwidth": 2,
            "linecolor": "white",
            "showbackground": true,
            "ticks": "",
            "zerolinecolor": "white"
           },
           "zaxis": {
            "backgroundcolor": "#E5ECF6",
            "gridcolor": "white",
            "gridwidth": 2,
            "linecolor": "white",
            "showbackground": true,
            "ticks": "",
            "zerolinecolor": "white"
           }
          },
          "shapedefaults": {
           "line": {
            "color": "#2a3f5f"
           }
          },
          "ternary": {
           "aaxis": {
            "gridcolor": "white",
            "linecolor": "white",
            "ticks": ""
           },
           "baxis": {
            "gridcolor": "white",
            "linecolor": "white",
            "ticks": ""
           },
           "bgcolor": "#E5ECF6",
           "caxis": {
            "gridcolor": "white",
            "linecolor": "white",
            "ticks": ""
           }
          },
          "title": {
           "x": 0.05
          },
          "xaxis": {
           "automargin": true,
           "gridcolor": "white",
           "linecolor": "white",
           "ticks": "",
           "title": {
            "standoff": 15
           },
           "zerolinecolor": "white",
           "zerolinewidth": 2
          },
          "yaxis": {
           "automargin": true,
           "gridcolor": "white",
           "linecolor": "white",
           "ticks": "",
           "title": {
            "standoff": 15
           },
           "zerolinecolor": "white",
           "zerolinewidth": 2
          }
         }
        },
        "title": {
         "text": "Boulder Problems by Steepness and Grade"
        }
       }
      }
     },
     "metadata": {},
     "output_type": "display_data"
    }
   ],
   "source": [
    "import plotly.express as px\n",
    "\n",
    "# Create a count of problems by steepness and grade\n",
    "treemap_data = df.groupby(['steepness', 'grade']).size().reset_index(name='count')\n",
    "\n",
    "# Create the treemap with vibrant colors and count labels\n",
    "fig = px.treemap(treemap_data, \n",
    "                 path=['steepness', 'grade'],\n",
    "                 values='count',\n",
    "                 title='Boulder Problems by Steepness and Grade',\n",
    "                 color_continuous_scale='Viridis', # More vibrant colorscale\n",
    "                 custom_data=['count'])\n",
    "\n",
    "# Update hover template to show count and add some style\n",
    "fig.update_traces(\n",
    "    hovertemplate='<b>%{label}</b><br>Count: %{customdata[0]:,.0f}<extra></extra>',\n",
    "    textinfo='label+value',\n",
    "    marker=dict(\n",
    "        colors=['#FF6B6B', '#4ECDC4', '#45B7D1', '#96CEB4', '#FFEEAD', '#D4A5A5'],\n",
    "        line=dict(width=2)\n",
    "    )\n",
    ")\n",
    "\n",
    "fig.show()\n"
   ]
  },
  {
   "cell_type": "code",
   "execution_count": 79,
   "metadata": {},
   "outputs": [
    {
     "data": {
      "application/vnd.plotly.v1+json": {
       "config": {
        "plotlyServerURL": "https://plot.ly"
       },
       "data": [
        {
         "alignmentgroup": "True",
         "customdata": [
          [
           "",
           "other"
          ],
          [
           "",
           "slab"
          ],
          [
           "",
           "traverse"
          ],
          [
           "",
           "wall"
          ],
          [
           "1a",
           "other"
          ],
          [
           "1a",
           "slab"
          ],
          [
           "1b",
           "other"
          ],
          [
           "1b",
           "slab"
          ],
          [
           "1b",
           "traverse"
          ],
          [
           "1b",
           "wall"
          ],
          [
           "1c",
           "other"
          ],
          [
           "1c",
           "overhang"
          ],
          [
           "1c",
           "slab"
          ],
          [
           "1c",
           "traverse"
          ],
          [
           "1c",
           "wall"
          ],
          [
           "2a",
           "other"
          ],
          [
           "2a",
           "overhang"
          ],
          [
           "2a",
           "slab"
          ],
          [
           "2a",
           "traverse"
          ],
          [
           "2a",
           "wall"
          ],
          [
           "2b",
           "other"
          ],
          [
           "2b",
           "overhang"
          ],
          [
           "2b",
           "slab"
          ],
          [
           "2b",
           "traverse"
          ],
          [
           "2b",
           "wall"
          ],
          [
           "2c",
           "other"
          ],
          [
           "2c",
           "overhang"
          ],
          [
           "2c",
           "slab"
          ],
          [
           "2c",
           "traverse"
          ],
          [
           "2c",
           "wall"
          ],
          [
           "3a",
           "other"
          ],
          [
           "3a",
           "overhang"
          ],
          [
           "3a",
           "roof"
          ],
          [
           "3a",
           "slab"
          ],
          [
           "3a",
           "traverse"
          ],
          [
           "3a",
           "wall"
          ],
          [
           "3b",
           "other"
          ],
          [
           "3b",
           "overhang"
          ],
          [
           "3b",
           "slab"
          ],
          [
           "3b",
           "traverse"
          ],
          [
           "3b",
           "wall"
          ],
          [
           "3c",
           "other"
          ],
          [
           "3c",
           "overhang"
          ],
          [
           "3c",
           "slab"
          ],
          [
           "3c",
           "traverse"
          ],
          [
           "3c",
           "wall"
          ],
          [
           "4a",
           "other"
          ],
          [
           "4a",
           "overhang"
          ],
          [
           "4a",
           "slab"
          ],
          [
           "4a",
           "traverse"
          ],
          [
           "4a",
           "wall"
          ],
          [
           "4b",
           "other"
          ],
          [
           "4b",
           "overhang"
          ],
          [
           "4b",
           "slab"
          ],
          [
           "4b",
           "traverse"
          ],
          [
           "4b",
           "wall"
          ],
          [
           "4c",
           "other"
          ],
          [
           "4c",
           "overhang"
          ],
          [
           "4c",
           "roof"
          ],
          [
           "4c",
           "slab"
          ],
          [
           "4c",
           "traverse"
          ],
          [
           "4c",
           "wall"
          ],
          [
           "5a",
           "other"
          ],
          [
           "5a",
           "overhang"
          ],
          [
           "5a",
           "roof"
          ],
          [
           "5a",
           "slab"
          ],
          [
           "5a",
           "traverse"
          ],
          [
           "5a",
           "wall"
          ],
          [
           "5b",
           "other"
          ],
          [
           "5b",
           "overhang"
          ],
          [
           "5b",
           "roof"
          ],
          [
           "5b",
           "slab"
          ],
          [
           "5b",
           "traverse"
          ],
          [
           "5b",
           "wall"
          ],
          [
           "5c",
           "other"
          ],
          [
           "5c",
           "overhang"
          ],
          [
           "5c",
           "roof"
          ],
          [
           "5c",
           "slab"
          ],
          [
           "5c",
           "traverse"
          ],
          [
           "5c",
           "wall"
          ],
          [
           "6a",
           "other"
          ],
          [
           "6a",
           "overhang"
          ],
          [
           "6a",
           "roof"
          ],
          [
           "6a",
           "slab"
          ],
          [
           "6a",
           "traverse"
          ],
          [
           "6a",
           "wall"
          ],
          [
           "6a+",
           "other"
          ],
          [
           "6a+",
           "overhang"
          ],
          [
           "6a+",
           "roof"
          ],
          [
           "6a+",
           "slab"
          ],
          [
           "6a+",
           "traverse"
          ],
          [
           "6a+",
           "wall"
          ],
          [
           "6b",
           "other"
          ],
          [
           "6b",
           "overhang"
          ],
          [
           "6b",
           "roof"
          ],
          [
           "6b",
           "slab"
          ],
          [
           "6b",
           "traverse"
          ],
          [
           "6b",
           "wall"
          ],
          [
           "6b+",
           "other"
          ],
          [
           "6b+",
           "overhang"
          ],
          [
           "6b+",
           "roof"
          ],
          [
           "6b+",
           "slab"
          ],
          [
           "6b+",
           "traverse"
          ],
          [
           "6b+",
           "wall"
          ],
          [
           "6c",
           "other"
          ],
          [
           "6c",
           "overhang"
          ],
          [
           "6c",
           "roof"
          ],
          [
           "6c",
           "slab"
          ],
          [
           "6c",
           "traverse"
          ],
          [
           "6c",
           "wall"
          ],
          [
           "6c+",
           "other"
          ],
          [
           "6c+",
           "overhang"
          ],
          [
           "6c+",
           "roof"
          ],
          [
           "6c+",
           "slab"
          ],
          [
           "6c+",
           "traverse"
          ],
          [
           "6c+",
           "wall"
          ],
          [
           "7a",
           "other"
          ],
          [
           "7a",
           "overhang"
          ],
          [
           "7a",
           "roof"
          ],
          [
           "7a",
           "slab"
          ],
          [
           "7a",
           "traverse"
          ],
          [
           "7a",
           "wall"
          ],
          [
           "7a+",
           "other"
          ],
          [
           "7a+",
           "overhang"
          ],
          [
           "7a+",
           "roof"
          ],
          [
           "7a+",
           "slab"
          ],
          [
           "7a+",
           "traverse"
          ],
          [
           "7a+",
           "wall"
          ],
          [
           "7b",
           "other"
          ],
          [
           "7b",
           "overhang"
          ],
          [
           "7b",
           "roof"
          ],
          [
           "7b",
           "slab"
          ],
          [
           "7b",
           "traverse"
          ],
          [
           "7b",
           "wall"
          ],
          [
           "7b+",
           "other"
          ],
          [
           "7b+",
           "overhang"
          ],
          [
           "7b+",
           "roof"
          ],
          [
           "7b+",
           "slab"
          ],
          [
           "7b+",
           "traverse"
          ],
          [
           "7b+",
           "wall"
          ],
          [
           "7c",
           "other"
          ],
          [
           "7c",
           "overhang"
          ],
          [
           "7c",
           "roof"
          ],
          [
           "7c",
           "slab"
          ],
          [
           "7c",
           "traverse"
          ],
          [
           "7c",
           "wall"
          ],
          [
           "7c+",
           "other"
          ],
          [
           "7c+",
           "overhang"
          ],
          [
           "7c+",
           "roof"
          ],
          [
           "7c+",
           "slab"
          ],
          [
           "7c+",
           "traverse"
          ],
          [
           "7c+",
           "wall"
          ],
          [
           "8a",
           "other"
          ],
          [
           "8a",
           "overhang"
          ],
          [
           "8a",
           "roof"
          ],
          [
           "8a",
           "slab"
          ],
          [
           "8a",
           "traverse"
          ],
          [
           "8a",
           "wall"
          ],
          [
           "8a+",
           "other"
          ],
          [
           "8a+",
           "overhang"
          ],
          [
           "8a+",
           "roof"
          ],
          [
           "8a+",
           "slab"
          ],
          [
           "8a+",
           "traverse"
          ],
          [
           "8a+",
           "wall"
          ],
          [
           "8b",
           "other"
          ],
          [
           "8b",
           "overhang"
          ],
          [
           "8b",
           "roof"
          ],
          [
           "8b",
           "slab"
          ],
          [
           "8b",
           "traverse"
          ],
          [
           "8b",
           "wall"
          ],
          [
           "8b+",
           "other"
          ],
          [
           "8b+",
           "overhang"
          ],
          [
           "8b+",
           "roof"
          ],
          [
           "8b+",
           "traverse"
          ],
          [
           "8b+",
           "wall"
          ],
          [
           "8c",
           "other"
          ],
          [
           "8c",
           "overhang"
          ],
          [
           "8c",
           "roof"
          ],
          [
           "8c",
           "traverse"
          ],
          [
           "8c+",
           "roof"
          ],
          [
           "8c+",
           "traverse"
          ],
          [
           "8c+",
           "wall"
          ],
          [
           "9a",
           "traverse"
          ]
         ],
         "hovertemplate": "<b>%{x}</b><br>Steepness: %{customdata[1]}<br>Count: %{y}<extra></extra>",
         "legendgroup": "other",
         "marker": {
          "color": "#FF6B6B",
          "pattern": {
           "shape": ""
          }
         },
         "name": "other",
         "offsetgroup": "other",
         "orientation": "v",
         "showlegend": true,
         "textposition": "auto",
         "type": "bar",
         "x": [
          "",
          "1a",
          "1b",
          "1c",
          "2a",
          "2b",
          "2c",
          "3a",
          "3b",
          "3c",
          "4a",
          "4b",
          "4c",
          "5a",
          "5b",
          "5c",
          "6a",
          "6a+",
          "6b",
          "6b+",
          "6c",
          "6c+",
          "7a",
          "7a+",
          "7b",
          "7b+",
          "7c",
          "7c+",
          "8a",
          "8a+",
          "8b",
          "8b+",
          "8c"
         ],
         "xaxis": "x",
         "y": [
          1,
          31,
          120,
          265,
          117,
          300,
          234,
          230,
          194,
          182,
          195,
          156,
          136,
          121,
          144,
          175,
          161,
          79,
          143,
          71,
          151,
          64,
          204,
          125,
          109,
          58,
          61,
          30,
          26,
          6,
          4,
          2,
          1
         ],
         "yaxis": "y"
        },
        {
         "alignmentgroup": "True",
         "customdata": [
          [
           "",
           "other"
          ],
          [
           "",
           "slab"
          ],
          [
           "",
           "traverse"
          ],
          [
           "",
           "wall"
          ],
          [
           "1a",
           "other"
          ],
          [
           "1a",
           "slab"
          ],
          [
           "1b",
           "other"
          ],
          [
           "1b",
           "slab"
          ],
          [
           "1b",
           "traverse"
          ],
          [
           "1b",
           "wall"
          ],
          [
           "1c",
           "other"
          ],
          [
           "1c",
           "overhang"
          ],
          [
           "1c",
           "slab"
          ],
          [
           "1c",
           "traverse"
          ],
          [
           "1c",
           "wall"
          ],
          [
           "2a",
           "other"
          ],
          [
           "2a",
           "overhang"
          ],
          [
           "2a",
           "slab"
          ],
          [
           "2a",
           "traverse"
          ],
          [
           "2a",
           "wall"
          ],
          [
           "2b",
           "other"
          ],
          [
           "2b",
           "overhang"
          ],
          [
           "2b",
           "slab"
          ],
          [
           "2b",
           "traverse"
          ],
          [
           "2b",
           "wall"
          ],
          [
           "2c",
           "other"
          ],
          [
           "2c",
           "overhang"
          ],
          [
           "2c",
           "slab"
          ],
          [
           "2c",
           "traverse"
          ],
          [
           "2c",
           "wall"
          ],
          [
           "3a",
           "other"
          ],
          [
           "3a",
           "overhang"
          ],
          [
           "3a",
           "roof"
          ],
          [
           "3a",
           "slab"
          ],
          [
           "3a",
           "traverse"
          ],
          [
           "3a",
           "wall"
          ],
          [
           "3b",
           "other"
          ],
          [
           "3b",
           "overhang"
          ],
          [
           "3b",
           "slab"
          ],
          [
           "3b",
           "traverse"
          ],
          [
           "3b",
           "wall"
          ],
          [
           "3c",
           "other"
          ],
          [
           "3c",
           "overhang"
          ],
          [
           "3c",
           "slab"
          ],
          [
           "3c",
           "traverse"
          ],
          [
           "3c",
           "wall"
          ],
          [
           "4a",
           "other"
          ],
          [
           "4a",
           "overhang"
          ],
          [
           "4a",
           "slab"
          ],
          [
           "4a",
           "traverse"
          ],
          [
           "4a",
           "wall"
          ],
          [
           "4b",
           "other"
          ],
          [
           "4b",
           "overhang"
          ],
          [
           "4b",
           "slab"
          ],
          [
           "4b",
           "traverse"
          ],
          [
           "4b",
           "wall"
          ],
          [
           "4c",
           "other"
          ],
          [
           "4c",
           "overhang"
          ],
          [
           "4c",
           "roof"
          ],
          [
           "4c",
           "slab"
          ],
          [
           "4c",
           "traverse"
          ],
          [
           "4c",
           "wall"
          ],
          [
           "5a",
           "other"
          ],
          [
           "5a",
           "overhang"
          ],
          [
           "5a",
           "roof"
          ],
          [
           "5a",
           "slab"
          ],
          [
           "5a",
           "traverse"
          ],
          [
           "5a",
           "wall"
          ],
          [
           "5b",
           "other"
          ],
          [
           "5b",
           "overhang"
          ],
          [
           "5b",
           "roof"
          ],
          [
           "5b",
           "slab"
          ],
          [
           "5b",
           "traverse"
          ],
          [
           "5b",
           "wall"
          ],
          [
           "5c",
           "other"
          ],
          [
           "5c",
           "overhang"
          ],
          [
           "5c",
           "roof"
          ],
          [
           "5c",
           "slab"
          ],
          [
           "5c",
           "traverse"
          ],
          [
           "5c",
           "wall"
          ],
          [
           "6a",
           "other"
          ],
          [
           "6a",
           "overhang"
          ],
          [
           "6a",
           "roof"
          ],
          [
           "6a",
           "slab"
          ],
          [
           "6a",
           "traverse"
          ],
          [
           "6a",
           "wall"
          ],
          [
           "6a+",
           "other"
          ],
          [
           "6a+",
           "overhang"
          ],
          [
           "6a+",
           "roof"
          ],
          [
           "6a+",
           "slab"
          ],
          [
           "6a+",
           "traverse"
          ],
          [
           "6a+",
           "wall"
          ],
          [
           "6b",
           "other"
          ],
          [
           "6b",
           "overhang"
          ],
          [
           "6b",
           "roof"
          ],
          [
           "6b",
           "slab"
          ],
          [
           "6b",
           "traverse"
          ],
          [
           "6b",
           "wall"
          ],
          [
           "6b+",
           "other"
          ],
          [
           "6b+",
           "overhang"
          ],
          [
           "6b+",
           "roof"
          ],
          [
           "6b+",
           "slab"
          ],
          [
           "6b+",
           "traverse"
          ],
          [
           "6b+",
           "wall"
          ],
          [
           "6c",
           "other"
          ],
          [
           "6c",
           "overhang"
          ],
          [
           "6c",
           "roof"
          ],
          [
           "6c",
           "slab"
          ],
          [
           "6c",
           "traverse"
          ],
          [
           "6c",
           "wall"
          ],
          [
           "6c+",
           "other"
          ],
          [
           "6c+",
           "overhang"
          ],
          [
           "6c+",
           "roof"
          ],
          [
           "6c+",
           "slab"
          ],
          [
           "6c+",
           "traverse"
          ],
          [
           "6c+",
           "wall"
          ],
          [
           "7a",
           "other"
          ],
          [
           "7a",
           "overhang"
          ],
          [
           "7a",
           "roof"
          ],
          [
           "7a",
           "slab"
          ],
          [
           "7a",
           "traverse"
          ],
          [
           "7a",
           "wall"
          ],
          [
           "7a+",
           "other"
          ],
          [
           "7a+",
           "overhang"
          ],
          [
           "7a+",
           "roof"
          ],
          [
           "7a+",
           "slab"
          ],
          [
           "7a+",
           "traverse"
          ],
          [
           "7a+",
           "wall"
          ],
          [
           "7b",
           "other"
          ],
          [
           "7b",
           "overhang"
          ],
          [
           "7b",
           "roof"
          ],
          [
           "7b",
           "slab"
          ],
          [
           "7b",
           "traverse"
          ],
          [
           "7b",
           "wall"
          ],
          [
           "7b+",
           "other"
          ],
          [
           "7b+",
           "overhang"
          ],
          [
           "7b+",
           "roof"
          ],
          [
           "7b+",
           "slab"
          ],
          [
           "7b+",
           "traverse"
          ],
          [
           "7b+",
           "wall"
          ],
          [
           "7c",
           "other"
          ],
          [
           "7c",
           "overhang"
          ],
          [
           "7c",
           "roof"
          ],
          [
           "7c",
           "slab"
          ],
          [
           "7c",
           "traverse"
          ],
          [
           "7c",
           "wall"
          ],
          [
           "7c+",
           "other"
          ],
          [
           "7c+",
           "overhang"
          ],
          [
           "7c+",
           "roof"
          ],
          [
           "7c+",
           "slab"
          ],
          [
           "7c+",
           "traverse"
          ],
          [
           "7c+",
           "wall"
          ],
          [
           "8a",
           "other"
          ],
          [
           "8a",
           "overhang"
          ],
          [
           "8a",
           "roof"
          ],
          [
           "8a",
           "slab"
          ],
          [
           "8a",
           "traverse"
          ],
          [
           "8a",
           "wall"
          ],
          [
           "8a+",
           "other"
          ],
          [
           "8a+",
           "overhang"
          ],
          [
           "8a+",
           "roof"
          ],
          [
           "8a+",
           "slab"
          ],
          [
           "8a+",
           "traverse"
          ],
          [
           "8a+",
           "wall"
          ],
          [
           "8b",
           "other"
          ],
          [
           "8b",
           "overhang"
          ],
          [
           "8b",
           "roof"
          ],
          [
           "8b",
           "slab"
          ],
          [
           "8b",
           "traverse"
          ],
          [
           "8b",
           "wall"
          ],
          [
           "8b+",
           "other"
          ],
          [
           "8b+",
           "overhang"
          ],
          [
           "8b+",
           "roof"
          ],
          [
           "8b+",
           "traverse"
          ],
          [
           "8b+",
           "wall"
          ],
          [
           "8c",
           "other"
          ],
          [
           "8c",
           "overhang"
          ],
          [
           "8c",
           "roof"
          ],
          [
           "8c",
           "traverse"
          ],
          [
           "8c+",
           "roof"
          ],
          [
           "8c+",
           "traverse"
          ],
          [
           "8c+",
           "wall"
          ],
          [
           "9a",
           "traverse"
          ]
         ],
         "hovertemplate": "<b>%{x}</b><br>Steepness: %{customdata[1]}<br>Count: %{y}<extra></extra>",
         "legendgroup": "slab",
         "marker": {
          "color": "#4ECDC4",
          "pattern": {
           "shape": ""
          }
         },
         "name": "slab",
         "offsetgroup": "slab",
         "orientation": "v",
         "showlegend": true,
         "textposition": "auto",
         "type": "bar",
         "x": [
          "",
          "1a",
          "1b",
          "1c",
          "2a",
          "2b",
          "2c",
          "3a",
          "3b",
          "3c",
          "4a",
          "4b",
          "4c",
          "5a",
          "5b",
          "5c",
          "6a",
          "6a+",
          "6b",
          "6b+",
          "6c",
          "6c+",
          "7a",
          "7a+",
          "7b",
          "7b+",
          "7c",
          "7c+",
          "8a",
          "8a+",
          "8b"
         ],
         "xaxis": "x",
         "y": [
          1,
          1,
          123,
          34,
          141,
          354,
          300,
          235,
          209,
          241,
          217,
          183,
          200,
          160,
          172,
          134,
          122,
          31,
          74,
          25,
          61,
          18,
          58,
          26,
          23,
          15,
          8,
          7,
          5,
          2,
          2
         ],
         "yaxis": "y"
        },
        {
         "alignmentgroup": "True",
         "customdata": [
          [
           "",
           "other"
          ],
          [
           "",
           "slab"
          ],
          [
           "",
           "traverse"
          ],
          [
           "",
           "wall"
          ],
          [
           "1a",
           "other"
          ],
          [
           "1a",
           "slab"
          ],
          [
           "1b",
           "other"
          ],
          [
           "1b",
           "slab"
          ],
          [
           "1b",
           "traverse"
          ],
          [
           "1b",
           "wall"
          ],
          [
           "1c",
           "other"
          ],
          [
           "1c",
           "overhang"
          ],
          [
           "1c",
           "slab"
          ],
          [
           "1c",
           "traverse"
          ],
          [
           "1c",
           "wall"
          ],
          [
           "2a",
           "other"
          ],
          [
           "2a",
           "overhang"
          ],
          [
           "2a",
           "slab"
          ],
          [
           "2a",
           "traverse"
          ],
          [
           "2a",
           "wall"
          ],
          [
           "2b",
           "other"
          ],
          [
           "2b",
           "overhang"
          ],
          [
           "2b",
           "slab"
          ],
          [
           "2b",
           "traverse"
          ],
          [
           "2b",
           "wall"
          ],
          [
           "2c",
           "other"
          ],
          [
           "2c",
           "overhang"
          ],
          [
           "2c",
           "slab"
          ],
          [
           "2c",
           "traverse"
          ],
          [
           "2c",
           "wall"
          ],
          [
           "3a",
           "other"
          ],
          [
           "3a",
           "overhang"
          ],
          [
           "3a",
           "roof"
          ],
          [
           "3a",
           "slab"
          ],
          [
           "3a",
           "traverse"
          ],
          [
           "3a",
           "wall"
          ],
          [
           "3b",
           "other"
          ],
          [
           "3b",
           "overhang"
          ],
          [
           "3b",
           "slab"
          ],
          [
           "3b",
           "traverse"
          ],
          [
           "3b",
           "wall"
          ],
          [
           "3c",
           "other"
          ],
          [
           "3c",
           "overhang"
          ],
          [
           "3c",
           "slab"
          ],
          [
           "3c",
           "traverse"
          ],
          [
           "3c",
           "wall"
          ],
          [
           "4a",
           "other"
          ],
          [
           "4a",
           "overhang"
          ],
          [
           "4a",
           "slab"
          ],
          [
           "4a",
           "traverse"
          ],
          [
           "4a",
           "wall"
          ],
          [
           "4b",
           "other"
          ],
          [
           "4b",
           "overhang"
          ],
          [
           "4b",
           "slab"
          ],
          [
           "4b",
           "traverse"
          ],
          [
           "4b",
           "wall"
          ],
          [
           "4c",
           "other"
          ],
          [
           "4c",
           "overhang"
          ],
          [
           "4c",
           "roof"
          ],
          [
           "4c",
           "slab"
          ],
          [
           "4c",
           "traverse"
          ],
          [
           "4c",
           "wall"
          ],
          [
           "5a",
           "other"
          ],
          [
           "5a",
           "overhang"
          ],
          [
           "5a",
           "roof"
          ],
          [
           "5a",
           "slab"
          ],
          [
           "5a",
           "traverse"
          ],
          [
           "5a",
           "wall"
          ],
          [
           "5b",
           "other"
          ],
          [
           "5b",
           "overhang"
          ],
          [
           "5b",
           "roof"
          ],
          [
           "5b",
           "slab"
          ],
          [
           "5b",
           "traverse"
          ],
          [
           "5b",
           "wall"
          ],
          [
           "5c",
           "other"
          ],
          [
           "5c",
           "overhang"
          ],
          [
           "5c",
           "roof"
          ],
          [
           "5c",
           "slab"
          ],
          [
           "5c",
           "traverse"
          ],
          [
           "5c",
           "wall"
          ],
          [
           "6a",
           "other"
          ],
          [
           "6a",
           "overhang"
          ],
          [
           "6a",
           "roof"
          ],
          [
           "6a",
           "slab"
          ],
          [
           "6a",
           "traverse"
          ],
          [
           "6a",
           "wall"
          ],
          [
           "6a+",
           "other"
          ],
          [
           "6a+",
           "overhang"
          ],
          [
           "6a+",
           "roof"
          ],
          [
           "6a+",
           "slab"
          ],
          [
           "6a+",
           "traverse"
          ],
          [
           "6a+",
           "wall"
          ],
          [
           "6b",
           "other"
          ],
          [
           "6b",
           "overhang"
          ],
          [
           "6b",
           "roof"
          ],
          [
           "6b",
           "slab"
          ],
          [
           "6b",
           "traverse"
          ],
          [
           "6b",
           "wall"
          ],
          [
           "6b+",
           "other"
          ],
          [
           "6b+",
           "overhang"
          ],
          [
           "6b+",
           "roof"
          ],
          [
           "6b+",
           "slab"
          ],
          [
           "6b+",
           "traverse"
          ],
          [
           "6b+",
           "wall"
          ],
          [
           "6c",
           "other"
          ],
          [
           "6c",
           "overhang"
          ],
          [
           "6c",
           "roof"
          ],
          [
           "6c",
           "slab"
          ],
          [
           "6c",
           "traverse"
          ],
          [
           "6c",
           "wall"
          ],
          [
           "6c+",
           "other"
          ],
          [
           "6c+",
           "overhang"
          ],
          [
           "6c+",
           "roof"
          ],
          [
           "6c+",
           "slab"
          ],
          [
           "6c+",
           "traverse"
          ],
          [
           "6c+",
           "wall"
          ],
          [
           "7a",
           "other"
          ],
          [
           "7a",
           "overhang"
          ],
          [
           "7a",
           "roof"
          ],
          [
           "7a",
           "slab"
          ],
          [
           "7a",
           "traverse"
          ],
          [
           "7a",
           "wall"
          ],
          [
           "7a+",
           "other"
          ],
          [
           "7a+",
           "overhang"
          ],
          [
           "7a+",
           "roof"
          ],
          [
           "7a+",
           "slab"
          ],
          [
           "7a+",
           "traverse"
          ],
          [
           "7a+",
           "wall"
          ],
          [
           "7b",
           "other"
          ],
          [
           "7b",
           "overhang"
          ],
          [
           "7b",
           "roof"
          ],
          [
           "7b",
           "slab"
          ],
          [
           "7b",
           "traverse"
          ],
          [
           "7b",
           "wall"
          ],
          [
           "7b+",
           "other"
          ],
          [
           "7b+",
           "overhang"
          ],
          [
           "7b+",
           "roof"
          ],
          [
           "7b+",
           "slab"
          ],
          [
           "7b+",
           "traverse"
          ],
          [
           "7b+",
           "wall"
          ],
          [
           "7c",
           "other"
          ],
          [
           "7c",
           "overhang"
          ],
          [
           "7c",
           "roof"
          ],
          [
           "7c",
           "slab"
          ],
          [
           "7c",
           "traverse"
          ],
          [
           "7c",
           "wall"
          ],
          [
           "7c+",
           "other"
          ],
          [
           "7c+",
           "overhang"
          ],
          [
           "7c+",
           "roof"
          ],
          [
           "7c+",
           "slab"
          ],
          [
           "7c+",
           "traverse"
          ],
          [
           "7c+",
           "wall"
          ],
          [
           "8a",
           "other"
          ],
          [
           "8a",
           "overhang"
          ],
          [
           "8a",
           "roof"
          ],
          [
           "8a",
           "slab"
          ],
          [
           "8a",
           "traverse"
          ],
          [
           "8a",
           "wall"
          ],
          [
           "8a+",
           "other"
          ],
          [
           "8a+",
           "overhang"
          ],
          [
           "8a+",
           "roof"
          ],
          [
           "8a+",
           "slab"
          ],
          [
           "8a+",
           "traverse"
          ],
          [
           "8a+",
           "wall"
          ],
          [
           "8b",
           "other"
          ],
          [
           "8b",
           "overhang"
          ],
          [
           "8b",
           "roof"
          ],
          [
           "8b",
           "slab"
          ],
          [
           "8b",
           "traverse"
          ],
          [
           "8b",
           "wall"
          ],
          [
           "8b+",
           "other"
          ],
          [
           "8b+",
           "overhang"
          ],
          [
           "8b+",
           "roof"
          ],
          [
           "8b+",
           "traverse"
          ],
          [
           "8b+",
           "wall"
          ],
          [
           "8c",
           "other"
          ],
          [
           "8c",
           "overhang"
          ],
          [
           "8c",
           "roof"
          ],
          [
           "8c",
           "traverse"
          ],
          [
           "8c+",
           "roof"
          ],
          [
           "8c+",
           "traverse"
          ],
          [
           "8c+",
           "wall"
          ],
          [
           "9a",
           "traverse"
          ]
         ],
         "hovertemplate": "<b>%{x}</b><br>Steepness: %{customdata[1]}<br>Count: %{y}<extra></extra>",
         "legendgroup": "traverse",
         "marker": {
          "color": "#45B7D1",
          "pattern": {
           "shape": ""
          }
         },
         "name": "traverse",
         "offsetgroup": "traverse",
         "orientation": "v",
         "showlegend": true,
         "textposition": "auto",
         "type": "bar",
         "x": [
          "",
          "1b",
          "1c",
          "2a",
          "2b",
          "2c",
          "3a",
          "3b",
          "3c",
          "4a",
          "4b",
          "4c",
          "5a",
          "5b",
          "5c",
          "6a",
          "6a+",
          "6b",
          "6b+",
          "6c",
          "6c+",
          "7a",
          "7a+",
          "7b",
          "7b+",
          "7c",
          "7c+",
          "8a",
          "8a+",
          "8b",
          "8b+",
          "8c",
          "8c+",
          "9a"
         ],
         "xaxis": "x",
         "y": [
          1,
          15,
          9,
          36,
          132,
          125,
          123,
          134,
          133,
          111,
          99,
          85,
          80,
          77,
          94,
          115,
          52,
          114,
          74,
          135,
          76,
          265,
          178,
          161,
          120,
          82,
          47,
          48,
          23,
          11,
          5,
          6,
          1,
          1
         ],
         "yaxis": "y"
        },
        {
         "alignmentgroup": "True",
         "customdata": [
          [
           "",
           "other"
          ],
          [
           "",
           "slab"
          ],
          [
           "",
           "traverse"
          ],
          [
           "",
           "wall"
          ],
          [
           "1a",
           "other"
          ],
          [
           "1a",
           "slab"
          ],
          [
           "1b",
           "other"
          ],
          [
           "1b",
           "slab"
          ],
          [
           "1b",
           "traverse"
          ],
          [
           "1b",
           "wall"
          ],
          [
           "1c",
           "other"
          ],
          [
           "1c",
           "overhang"
          ],
          [
           "1c",
           "slab"
          ],
          [
           "1c",
           "traverse"
          ],
          [
           "1c",
           "wall"
          ],
          [
           "2a",
           "other"
          ],
          [
           "2a",
           "overhang"
          ],
          [
           "2a",
           "slab"
          ],
          [
           "2a",
           "traverse"
          ],
          [
           "2a",
           "wall"
          ],
          [
           "2b",
           "other"
          ],
          [
           "2b",
           "overhang"
          ],
          [
           "2b",
           "slab"
          ],
          [
           "2b",
           "traverse"
          ],
          [
           "2b",
           "wall"
          ],
          [
           "2c",
           "other"
          ],
          [
           "2c",
           "overhang"
          ],
          [
           "2c",
           "slab"
          ],
          [
           "2c",
           "traverse"
          ],
          [
           "2c",
           "wall"
          ],
          [
           "3a",
           "other"
          ],
          [
           "3a",
           "overhang"
          ],
          [
           "3a",
           "roof"
          ],
          [
           "3a",
           "slab"
          ],
          [
           "3a",
           "traverse"
          ],
          [
           "3a",
           "wall"
          ],
          [
           "3b",
           "other"
          ],
          [
           "3b",
           "overhang"
          ],
          [
           "3b",
           "slab"
          ],
          [
           "3b",
           "traverse"
          ],
          [
           "3b",
           "wall"
          ],
          [
           "3c",
           "other"
          ],
          [
           "3c",
           "overhang"
          ],
          [
           "3c",
           "slab"
          ],
          [
           "3c",
           "traverse"
          ],
          [
           "3c",
           "wall"
          ],
          [
           "4a",
           "other"
          ],
          [
           "4a",
           "overhang"
          ],
          [
           "4a",
           "slab"
          ],
          [
           "4a",
           "traverse"
          ],
          [
           "4a",
           "wall"
          ],
          [
           "4b",
           "other"
          ],
          [
           "4b",
           "overhang"
          ],
          [
           "4b",
           "slab"
          ],
          [
           "4b",
           "traverse"
          ],
          [
           "4b",
           "wall"
          ],
          [
           "4c",
           "other"
          ],
          [
           "4c",
           "overhang"
          ],
          [
           "4c",
           "roof"
          ],
          [
           "4c",
           "slab"
          ],
          [
           "4c",
           "traverse"
          ],
          [
           "4c",
           "wall"
          ],
          [
           "5a",
           "other"
          ],
          [
           "5a",
           "overhang"
          ],
          [
           "5a",
           "roof"
          ],
          [
           "5a",
           "slab"
          ],
          [
           "5a",
           "traverse"
          ],
          [
           "5a",
           "wall"
          ],
          [
           "5b",
           "other"
          ],
          [
           "5b",
           "overhang"
          ],
          [
           "5b",
           "roof"
          ],
          [
           "5b",
           "slab"
          ],
          [
           "5b",
           "traverse"
          ],
          [
           "5b",
           "wall"
          ],
          [
           "5c",
           "other"
          ],
          [
           "5c",
           "overhang"
          ],
          [
           "5c",
           "roof"
          ],
          [
           "5c",
           "slab"
          ],
          [
           "5c",
           "traverse"
          ],
          [
           "5c",
           "wall"
          ],
          [
           "6a",
           "other"
          ],
          [
           "6a",
           "overhang"
          ],
          [
           "6a",
           "roof"
          ],
          [
           "6a",
           "slab"
          ],
          [
           "6a",
           "traverse"
          ],
          [
           "6a",
           "wall"
          ],
          [
           "6a+",
           "other"
          ],
          [
           "6a+",
           "overhang"
          ],
          [
           "6a+",
           "roof"
          ],
          [
           "6a+",
           "slab"
          ],
          [
           "6a+",
           "traverse"
          ],
          [
           "6a+",
           "wall"
          ],
          [
           "6b",
           "other"
          ],
          [
           "6b",
           "overhang"
          ],
          [
           "6b",
           "roof"
          ],
          [
           "6b",
           "slab"
          ],
          [
           "6b",
           "traverse"
          ],
          [
           "6b",
           "wall"
          ],
          [
           "6b+",
           "other"
          ],
          [
           "6b+",
           "overhang"
          ],
          [
           "6b+",
           "roof"
          ],
          [
           "6b+",
           "slab"
          ],
          [
           "6b+",
           "traverse"
          ],
          [
           "6b+",
           "wall"
          ],
          [
           "6c",
           "other"
          ],
          [
           "6c",
           "overhang"
          ],
          [
           "6c",
           "roof"
          ],
          [
           "6c",
           "slab"
          ],
          [
           "6c",
           "traverse"
          ],
          [
           "6c",
           "wall"
          ],
          [
           "6c+",
           "other"
          ],
          [
           "6c+",
           "overhang"
          ],
          [
           "6c+",
           "roof"
          ],
          [
           "6c+",
           "slab"
          ],
          [
           "6c+",
           "traverse"
          ],
          [
           "6c+",
           "wall"
          ],
          [
           "7a",
           "other"
          ],
          [
           "7a",
           "overhang"
          ],
          [
           "7a",
           "roof"
          ],
          [
           "7a",
           "slab"
          ],
          [
           "7a",
           "traverse"
          ],
          [
           "7a",
           "wall"
          ],
          [
           "7a+",
           "other"
          ],
          [
           "7a+",
           "overhang"
          ],
          [
           "7a+",
           "roof"
          ],
          [
           "7a+",
           "slab"
          ],
          [
           "7a+",
           "traverse"
          ],
          [
           "7a+",
           "wall"
          ],
          [
           "7b",
           "other"
          ],
          [
           "7b",
           "overhang"
          ],
          [
           "7b",
           "roof"
          ],
          [
           "7b",
           "slab"
          ],
          [
           "7b",
           "traverse"
          ],
          [
           "7b",
           "wall"
          ],
          [
           "7b+",
           "other"
          ],
          [
           "7b+",
           "overhang"
          ],
          [
           "7b+",
           "roof"
          ],
          [
           "7b+",
           "slab"
          ],
          [
           "7b+",
           "traverse"
          ],
          [
           "7b+",
           "wall"
          ],
          [
           "7c",
           "other"
          ],
          [
           "7c",
           "overhang"
          ],
          [
           "7c",
           "roof"
          ],
          [
           "7c",
           "slab"
          ],
          [
           "7c",
           "traverse"
          ],
          [
           "7c",
           "wall"
          ],
          [
           "7c+",
           "other"
          ],
          [
           "7c+",
           "overhang"
          ],
          [
           "7c+",
           "roof"
          ],
          [
           "7c+",
           "slab"
          ],
          [
           "7c+",
           "traverse"
          ],
          [
           "7c+",
           "wall"
          ],
          [
           "8a",
           "other"
          ],
          [
           "8a",
           "overhang"
          ],
          [
           "8a",
           "roof"
          ],
          [
           "8a",
           "slab"
          ],
          [
           "8a",
           "traverse"
          ],
          [
           "8a",
           "wall"
          ],
          [
           "8a+",
           "other"
          ],
          [
           "8a+",
           "overhang"
          ],
          [
           "8a+",
           "roof"
          ],
          [
           "8a+",
           "slab"
          ],
          [
           "8a+",
           "traverse"
          ],
          [
           "8a+",
           "wall"
          ],
          [
           "8b",
           "other"
          ],
          [
           "8b",
           "overhang"
          ],
          [
           "8b",
           "roof"
          ],
          [
           "8b",
           "slab"
          ],
          [
           "8b",
           "traverse"
          ],
          [
           "8b",
           "wall"
          ],
          [
           "8b+",
           "other"
          ],
          [
           "8b+",
           "overhang"
          ],
          [
           "8b+",
           "roof"
          ],
          [
           "8b+",
           "traverse"
          ],
          [
           "8b+",
           "wall"
          ],
          [
           "8c",
           "other"
          ],
          [
           "8c",
           "overhang"
          ],
          [
           "8c",
           "roof"
          ],
          [
           "8c",
           "traverse"
          ],
          [
           "8c+",
           "roof"
          ],
          [
           "8c+",
           "traverse"
          ],
          [
           "8c+",
           "wall"
          ],
          [
           "9a",
           "traverse"
          ]
         ],
         "hovertemplate": "<b>%{x}</b><br>Steepness: %{customdata[1]}<br>Count: %{y}<extra></extra>",
         "legendgroup": "wall",
         "marker": {
          "color": "#96CEB4",
          "pattern": {
           "shape": ""
          }
         },
         "name": "wall",
         "offsetgroup": "wall",
         "orientation": "v",
         "showlegend": true,
         "textposition": "auto",
         "type": "bar",
         "x": [
          "",
          "1b",
          "1c",
          "2a",
          "2b",
          "2c",
          "3a",
          "3b",
          "3c",
          "4a",
          "4b",
          "4c",
          "5a",
          "5b",
          "5c",
          "6a",
          "6a+",
          "6b",
          "6b+",
          "6c",
          "6c+",
          "7a",
          "7a+",
          "7b",
          "7b+",
          "7c",
          "7c+",
          "8a",
          "8a+",
          "8b",
          "8b+",
          "8c+"
         ],
         "xaxis": "x",
         "y": [
          1,
          46,
          12,
          96,
          243,
          246,
          260,
          268,
          325,
          355,
          365,
          375,
          308,
          419,
          411,
          381,
          142,
          252,
          109,
          238,
          96,
          260,
          130,
          88,
          63,
          49,
          26,
          21,
          6,
          2,
          2,
          1
         ],
         "yaxis": "y"
        },
        {
         "alignmentgroup": "True",
         "customdata": [
          [
           "",
           "other"
          ],
          [
           "",
           "slab"
          ],
          [
           "",
           "traverse"
          ],
          [
           "",
           "wall"
          ],
          [
           "1a",
           "other"
          ],
          [
           "1a",
           "slab"
          ],
          [
           "1b",
           "other"
          ],
          [
           "1b",
           "slab"
          ],
          [
           "1b",
           "traverse"
          ],
          [
           "1b",
           "wall"
          ],
          [
           "1c",
           "other"
          ],
          [
           "1c",
           "overhang"
          ],
          [
           "1c",
           "slab"
          ],
          [
           "1c",
           "traverse"
          ],
          [
           "1c",
           "wall"
          ],
          [
           "2a",
           "other"
          ],
          [
           "2a",
           "overhang"
          ],
          [
           "2a",
           "slab"
          ],
          [
           "2a",
           "traverse"
          ],
          [
           "2a",
           "wall"
          ],
          [
           "2b",
           "other"
          ],
          [
           "2b",
           "overhang"
          ],
          [
           "2b",
           "slab"
          ],
          [
           "2b",
           "traverse"
          ],
          [
           "2b",
           "wall"
          ],
          [
           "2c",
           "other"
          ],
          [
           "2c",
           "overhang"
          ],
          [
           "2c",
           "slab"
          ],
          [
           "2c",
           "traverse"
          ],
          [
           "2c",
           "wall"
          ],
          [
           "3a",
           "other"
          ],
          [
           "3a",
           "overhang"
          ],
          [
           "3a",
           "roof"
          ],
          [
           "3a",
           "slab"
          ],
          [
           "3a",
           "traverse"
          ],
          [
           "3a",
           "wall"
          ],
          [
           "3b",
           "other"
          ],
          [
           "3b",
           "overhang"
          ],
          [
           "3b",
           "slab"
          ],
          [
           "3b",
           "traverse"
          ],
          [
           "3b",
           "wall"
          ],
          [
           "3c",
           "other"
          ],
          [
           "3c",
           "overhang"
          ],
          [
           "3c",
           "slab"
          ],
          [
           "3c",
           "traverse"
          ],
          [
           "3c",
           "wall"
          ],
          [
           "4a",
           "other"
          ],
          [
           "4a",
           "overhang"
          ],
          [
           "4a",
           "slab"
          ],
          [
           "4a",
           "traverse"
          ],
          [
           "4a",
           "wall"
          ],
          [
           "4b",
           "other"
          ],
          [
           "4b",
           "overhang"
          ],
          [
           "4b",
           "slab"
          ],
          [
           "4b",
           "traverse"
          ],
          [
           "4b",
           "wall"
          ],
          [
           "4c",
           "other"
          ],
          [
           "4c",
           "overhang"
          ],
          [
           "4c",
           "roof"
          ],
          [
           "4c",
           "slab"
          ],
          [
           "4c",
           "traverse"
          ],
          [
           "4c",
           "wall"
          ],
          [
           "5a",
           "other"
          ],
          [
           "5a",
           "overhang"
          ],
          [
           "5a",
           "roof"
          ],
          [
           "5a",
           "slab"
          ],
          [
           "5a",
           "traverse"
          ],
          [
           "5a",
           "wall"
          ],
          [
           "5b",
           "other"
          ],
          [
           "5b",
           "overhang"
          ],
          [
           "5b",
           "roof"
          ],
          [
           "5b",
           "slab"
          ],
          [
           "5b",
           "traverse"
          ],
          [
           "5b",
           "wall"
          ],
          [
           "5c",
           "other"
          ],
          [
           "5c",
           "overhang"
          ],
          [
           "5c",
           "roof"
          ],
          [
           "5c",
           "slab"
          ],
          [
           "5c",
           "traverse"
          ],
          [
           "5c",
           "wall"
          ],
          [
           "6a",
           "other"
          ],
          [
           "6a",
           "overhang"
          ],
          [
           "6a",
           "roof"
          ],
          [
           "6a",
           "slab"
          ],
          [
           "6a",
           "traverse"
          ],
          [
           "6a",
           "wall"
          ],
          [
           "6a+",
           "other"
          ],
          [
           "6a+",
           "overhang"
          ],
          [
           "6a+",
           "roof"
          ],
          [
           "6a+",
           "slab"
          ],
          [
           "6a+",
           "traverse"
          ],
          [
           "6a+",
           "wall"
          ],
          [
           "6b",
           "other"
          ],
          [
           "6b",
           "overhang"
          ],
          [
           "6b",
           "roof"
          ],
          [
           "6b",
           "slab"
          ],
          [
           "6b",
           "traverse"
          ],
          [
           "6b",
           "wall"
          ],
          [
           "6b+",
           "other"
          ],
          [
           "6b+",
           "overhang"
          ],
          [
           "6b+",
           "roof"
          ],
          [
           "6b+",
           "slab"
          ],
          [
           "6b+",
           "traverse"
          ],
          [
           "6b+",
           "wall"
          ],
          [
           "6c",
           "other"
          ],
          [
           "6c",
           "overhang"
          ],
          [
           "6c",
           "roof"
          ],
          [
           "6c",
           "slab"
          ],
          [
           "6c",
           "traverse"
          ],
          [
           "6c",
           "wall"
          ],
          [
           "6c+",
           "other"
          ],
          [
           "6c+",
           "overhang"
          ],
          [
           "6c+",
           "roof"
          ],
          [
           "6c+",
           "slab"
          ],
          [
           "6c+",
           "traverse"
          ],
          [
           "6c+",
           "wall"
          ],
          [
           "7a",
           "other"
          ],
          [
           "7a",
           "overhang"
          ],
          [
           "7a",
           "roof"
          ],
          [
           "7a",
           "slab"
          ],
          [
           "7a",
           "traverse"
          ],
          [
           "7a",
           "wall"
          ],
          [
           "7a+",
           "other"
          ],
          [
           "7a+",
           "overhang"
          ],
          [
           "7a+",
           "roof"
          ],
          [
           "7a+",
           "slab"
          ],
          [
           "7a+",
           "traverse"
          ],
          [
           "7a+",
           "wall"
          ],
          [
           "7b",
           "other"
          ],
          [
           "7b",
           "overhang"
          ],
          [
           "7b",
           "roof"
          ],
          [
           "7b",
           "slab"
          ],
          [
           "7b",
           "traverse"
          ],
          [
           "7b",
           "wall"
          ],
          [
           "7b+",
           "other"
          ],
          [
           "7b+",
           "overhang"
          ],
          [
           "7b+",
           "roof"
          ],
          [
           "7b+",
           "slab"
          ],
          [
           "7b+",
           "traverse"
          ],
          [
           "7b+",
           "wall"
          ],
          [
           "7c",
           "other"
          ],
          [
           "7c",
           "overhang"
          ],
          [
           "7c",
           "roof"
          ],
          [
           "7c",
           "slab"
          ],
          [
           "7c",
           "traverse"
          ],
          [
           "7c",
           "wall"
          ],
          [
           "7c+",
           "other"
          ],
          [
           "7c+",
           "overhang"
          ],
          [
           "7c+",
           "roof"
          ],
          [
           "7c+",
           "slab"
          ],
          [
           "7c+",
           "traverse"
          ],
          [
           "7c+",
           "wall"
          ],
          [
           "8a",
           "other"
          ],
          [
           "8a",
           "overhang"
          ],
          [
           "8a",
           "roof"
          ],
          [
           "8a",
           "slab"
          ],
          [
           "8a",
           "traverse"
          ],
          [
           "8a",
           "wall"
          ],
          [
           "8a+",
           "other"
          ],
          [
           "8a+",
           "overhang"
          ],
          [
           "8a+",
           "roof"
          ],
          [
           "8a+",
           "slab"
          ],
          [
           "8a+",
           "traverse"
          ],
          [
           "8a+",
           "wall"
          ],
          [
           "8b",
           "other"
          ],
          [
           "8b",
           "overhang"
          ],
          [
           "8b",
           "roof"
          ],
          [
           "8b",
           "slab"
          ],
          [
           "8b",
           "traverse"
          ],
          [
           "8b",
           "wall"
          ],
          [
           "8b+",
           "other"
          ],
          [
           "8b+",
           "overhang"
          ],
          [
           "8b+",
           "roof"
          ],
          [
           "8b+",
           "traverse"
          ],
          [
           "8b+",
           "wall"
          ],
          [
           "8c",
           "other"
          ],
          [
           "8c",
           "overhang"
          ],
          [
           "8c",
           "roof"
          ],
          [
           "8c",
           "traverse"
          ],
          [
           "8c+",
           "roof"
          ],
          [
           "8c+",
           "traverse"
          ],
          [
           "8c+",
           "wall"
          ],
          [
           "9a",
           "traverse"
          ]
         ],
         "hovertemplate": "<b>%{x}</b><br>Steepness: %{customdata[1]}<br>Count: %{y}<extra></extra>",
         "legendgroup": "overhang",
         "marker": {
          "color": "#FFEEAD",
          "pattern": {
           "shape": ""
          }
         },
         "name": "overhang",
         "offsetgroup": "overhang",
         "orientation": "v",
         "showlegend": true,
         "textposition": "auto",
         "type": "bar",
         "x": [
          "1c",
          "2a",
          "2b",
          "2c",
          "3a",
          "3b",
          "3c",
          "4a",
          "4b",
          "4c",
          "5a",
          "5b",
          "5c",
          "6a",
          "6a+",
          "6b",
          "6b+",
          "6c",
          "6c+",
          "7a",
          "7a+",
          "7b",
          "7b+",
          "7c",
          "7c+",
          "8a",
          "8a+",
          "8b",
          "8b+",
          "8c"
         ],
         "xaxis": "x",
         "y": [
          2,
          3,
          10,
          21,
          20,
          28,
          35,
          58,
          78,
          90,
          87,
          130,
          167,
          189,
          98,
          162,
          92,
          183,
          104,
          328,
          177,
          165,
          134,
          125,
          63,
          42,
          21,
          8,
          6,
          1
         ],
         "yaxis": "y"
        },
        {
         "alignmentgroup": "True",
         "customdata": [
          [
           "",
           "other"
          ],
          [
           "",
           "slab"
          ],
          [
           "",
           "traverse"
          ],
          [
           "",
           "wall"
          ],
          [
           "1a",
           "other"
          ],
          [
           "1a",
           "slab"
          ],
          [
           "1b",
           "other"
          ],
          [
           "1b",
           "slab"
          ],
          [
           "1b",
           "traverse"
          ],
          [
           "1b",
           "wall"
          ],
          [
           "1c",
           "other"
          ],
          [
           "1c",
           "overhang"
          ],
          [
           "1c",
           "slab"
          ],
          [
           "1c",
           "traverse"
          ],
          [
           "1c",
           "wall"
          ],
          [
           "2a",
           "other"
          ],
          [
           "2a",
           "overhang"
          ],
          [
           "2a",
           "slab"
          ],
          [
           "2a",
           "traverse"
          ],
          [
           "2a",
           "wall"
          ],
          [
           "2b",
           "other"
          ],
          [
           "2b",
           "overhang"
          ],
          [
           "2b",
           "slab"
          ],
          [
           "2b",
           "traverse"
          ],
          [
           "2b",
           "wall"
          ],
          [
           "2c",
           "other"
          ],
          [
           "2c",
           "overhang"
          ],
          [
           "2c",
           "slab"
          ],
          [
           "2c",
           "traverse"
          ],
          [
           "2c",
           "wall"
          ],
          [
           "3a",
           "other"
          ],
          [
           "3a",
           "overhang"
          ],
          [
           "3a",
           "roof"
          ],
          [
           "3a",
           "slab"
          ],
          [
           "3a",
           "traverse"
          ],
          [
           "3a",
           "wall"
          ],
          [
           "3b",
           "other"
          ],
          [
           "3b",
           "overhang"
          ],
          [
           "3b",
           "slab"
          ],
          [
           "3b",
           "traverse"
          ],
          [
           "3b",
           "wall"
          ],
          [
           "3c",
           "other"
          ],
          [
           "3c",
           "overhang"
          ],
          [
           "3c",
           "slab"
          ],
          [
           "3c",
           "traverse"
          ],
          [
           "3c",
           "wall"
          ],
          [
           "4a",
           "other"
          ],
          [
           "4a",
           "overhang"
          ],
          [
           "4a",
           "slab"
          ],
          [
           "4a",
           "traverse"
          ],
          [
           "4a",
           "wall"
          ],
          [
           "4b",
           "other"
          ],
          [
           "4b",
           "overhang"
          ],
          [
           "4b",
           "slab"
          ],
          [
           "4b",
           "traverse"
          ],
          [
           "4b",
           "wall"
          ],
          [
           "4c",
           "other"
          ],
          [
           "4c",
           "overhang"
          ],
          [
           "4c",
           "roof"
          ],
          [
           "4c",
           "slab"
          ],
          [
           "4c",
           "traverse"
          ],
          [
           "4c",
           "wall"
          ],
          [
           "5a",
           "other"
          ],
          [
           "5a",
           "overhang"
          ],
          [
           "5a",
           "roof"
          ],
          [
           "5a",
           "slab"
          ],
          [
           "5a",
           "traverse"
          ],
          [
           "5a",
           "wall"
          ],
          [
           "5b",
           "other"
          ],
          [
           "5b",
           "overhang"
          ],
          [
           "5b",
           "roof"
          ],
          [
           "5b",
           "slab"
          ],
          [
           "5b",
           "traverse"
          ],
          [
           "5b",
           "wall"
          ],
          [
           "5c",
           "other"
          ],
          [
           "5c",
           "overhang"
          ],
          [
           "5c",
           "roof"
          ],
          [
           "5c",
           "slab"
          ],
          [
           "5c",
           "traverse"
          ],
          [
           "5c",
           "wall"
          ],
          [
           "6a",
           "other"
          ],
          [
           "6a",
           "overhang"
          ],
          [
           "6a",
           "roof"
          ],
          [
           "6a",
           "slab"
          ],
          [
           "6a",
           "traverse"
          ],
          [
           "6a",
           "wall"
          ],
          [
           "6a+",
           "other"
          ],
          [
           "6a+",
           "overhang"
          ],
          [
           "6a+",
           "roof"
          ],
          [
           "6a+",
           "slab"
          ],
          [
           "6a+",
           "traverse"
          ],
          [
           "6a+",
           "wall"
          ],
          [
           "6b",
           "other"
          ],
          [
           "6b",
           "overhang"
          ],
          [
           "6b",
           "roof"
          ],
          [
           "6b",
           "slab"
          ],
          [
           "6b",
           "traverse"
          ],
          [
           "6b",
           "wall"
          ],
          [
           "6b+",
           "other"
          ],
          [
           "6b+",
           "overhang"
          ],
          [
           "6b+",
           "roof"
          ],
          [
           "6b+",
           "slab"
          ],
          [
           "6b+",
           "traverse"
          ],
          [
           "6b+",
           "wall"
          ],
          [
           "6c",
           "other"
          ],
          [
           "6c",
           "overhang"
          ],
          [
           "6c",
           "roof"
          ],
          [
           "6c",
           "slab"
          ],
          [
           "6c",
           "traverse"
          ],
          [
           "6c",
           "wall"
          ],
          [
           "6c+",
           "other"
          ],
          [
           "6c+",
           "overhang"
          ],
          [
           "6c+",
           "roof"
          ],
          [
           "6c+",
           "slab"
          ],
          [
           "6c+",
           "traverse"
          ],
          [
           "6c+",
           "wall"
          ],
          [
           "7a",
           "other"
          ],
          [
           "7a",
           "overhang"
          ],
          [
           "7a",
           "roof"
          ],
          [
           "7a",
           "slab"
          ],
          [
           "7a",
           "traverse"
          ],
          [
           "7a",
           "wall"
          ],
          [
           "7a+",
           "other"
          ],
          [
           "7a+",
           "overhang"
          ],
          [
           "7a+",
           "roof"
          ],
          [
           "7a+",
           "slab"
          ],
          [
           "7a+",
           "traverse"
          ],
          [
           "7a+",
           "wall"
          ],
          [
           "7b",
           "other"
          ],
          [
           "7b",
           "overhang"
          ],
          [
           "7b",
           "roof"
          ],
          [
           "7b",
           "slab"
          ],
          [
           "7b",
           "traverse"
          ],
          [
           "7b",
           "wall"
          ],
          [
           "7b+",
           "other"
          ],
          [
           "7b+",
           "overhang"
          ],
          [
           "7b+",
           "roof"
          ],
          [
           "7b+",
           "slab"
          ],
          [
           "7b+",
           "traverse"
          ],
          [
           "7b+",
           "wall"
          ],
          [
           "7c",
           "other"
          ],
          [
           "7c",
           "overhang"
          ],
          [
           "7c",
           "roof"
          ],
          [
           "7c",
           "slab"
          ],
          [
           "7c",
           "traverse"
          ],
          [
           "7c",
           "wall"
          ],
          [
           "7c+",
           "other"
          ],
          [
           "7c+",
           "overhang"
          ],
          [
           "7c+",
           "roof"
          ],
          [
           "7c+",
           "slab"
          ],
          [
           "7c+",
           "traverse"
          ],
          [
           "7c+",
           "wall"
          ],
          [
           "8a",
           "other"
          ],
          [
           "8a",
           "overhang"
          ],
          [
           "8a",
           "roof"
          ],
          [
           "8a",
           "slab"
          ],
          [
           "8a",
           "traverse"
          ],
          [
           "8a",
           "wall"
          ],
          [
           "8a+",
           "other"
          ],
          [
           "8a+",
           "overhang"
          ],
          [
           "8a+",
           "roof"
          ],
          [
           "8a+",
           "slab"
          ],
          [
           "8a+",
           "traverse"
          ],
          [
           "8a+",
           "wall"
          ],
          [
           "8b",
           "other"
          ],
          [
           "8b",
           "overhang"
          ],
          [
           "8b",
           "roof"
          ],
          [
           "8b",
           "slab"
          ],
          [
           "8b",
           "traverse"
          ],
          [
           "8b",
           "wall"
          ],
          [
           "8b+",
           "other"
          ],
          [
           "8b+",
           "overhang"
          ],
          [
           "8b+",
           "roof"
          ],
          [
           "8b+",
           "traverse"
          ],
          [
           "8b+",
           "wall"
          ],
          [
           "8c",
           "other"
          ],
          [
           "8c",
           "overhang"
          ],
          [
           "8c",
           "roof"
          ],
          [
           "8c",
           "traverse"
          ],
          [
           "8c+",
           "roof"
          ],
          [
           "8c+",
           "traverse"
          ],
          [
           "8c+",
           "wall"
          ],
          [
           "9a",
           "traverse"
          ]
         ],
         "hovertemplate": "<b>%{x}</b><br>Steepness: %{customdata[1]}<br>Count: %{y}<extra></extra>",
         "legendgroup": "roof",
         "marker": {
          "color": "#D4A5A5",
          "pattern": {
           "shape": ""
          }
         },
         "name": "roof",
         "offsetgroup": "roof",
         "orientation": "v",
         "showlegend": true,
         "textposition": "auto",
         "type": "bar",
         "x": [
          "3a",
          "4c",
          "5a",
          "5b",
          "5c",
          "6a",
          "6a+",
          "6b",
          "6b+",
          "6c",
          "6c+",
          "7a",
          "7a+",
          "7b",
          "7b+",
          "7c",
          "7c+",
          "8a",
          "8a+",
          "8b",
          "8b+",
          "8c",
          "8c+"
         ],
         "xaxis": "x",
         "y": [
          1,
          1,
          6,
          6,
          6,
          5,
          9,
          20,
          22,
          26,
          17,
          57,
          45,
          41,
          34,
          28,
          20,
          16,
          14,
          8,
          4,
          5,
          2
         ],
         "yaxis": "y"
        }
       ],
       "layout": {
        "barmode": "relative",
        "legend": {
         "title": {
          "text": "Steepness"
         },
         "tracegroupgap": 0
        },
        "template": {
         "data": {
          "bar": [
           {
            "error_x": {
             "color": "#2a3f5f"
            },
            "error_y": {
             "color": "#2a3f5f"
            },
            "marker": {
             "line": {
              "color": "#E5ECF6",
              "width": 0.5
             },
             "pattern": {
              "fillmode": "overlay",
              "size": 10,
              "solidity": 0.2
             }
            },
            "type": "bar"
           }
          ],
          "barpolar": [
           {
            "marker": {
             "line": {
              "color": "#E5ECF6",
              "width": 0.5
             },
             "pattern": {
              "fillmode": "overlay",
              "size": 10,
              "solidity": 0.2
             }
            },
            "type": "barpolar"
           }
          ],
          "carpet": [
           {
            "aaxis": {
             "endlinecolor": "#2a3f5f",
             "gridcolor": "white",
             "linecolor": "white",
             "minorgridcolor": "white",
             "startlinecolor": "#2a3f5f"
            },
            "baxis": {
             "endlinecolor": "#2a3f5f",
             "gridcolor": "white",
             "linecolor": "white",
             "minorgridcolor": "white",
             "startlinecolor": "#2a3f5f"
            },
            "type": "carpet"
           }
          ],
          "choropleth": [
           {
            "colorbar": {
             "outlinewidth": 0,
             "ticks": ""
            },
            "type": "choropleth"
           }
          ],
          "contour": [
           {
            "colorbar": {
             "outlinewidth": 0,
             "ticks": ""
            },
            "colorscale": [
             [
              0,
              "#0d0887"
             ],
             [
              0.1111111111111111,
              "#46039f"
             ],
             [
              0.2222222222222222,
              "#7201a8"
             ],
             [
              0.3333333333333333,
              "#9c179e"
             ],
             [
              0.4444444444444444,
              "#bd3786"
             ],
             [
              0.5555555555555556,
              "#d8576b"
             ],
             [
              0.6666666666666666,
              "#ed7953"
             ],
             [
              0.7777777777777778,
              "#fb9f3a"
             ],
             [
              0.8888888888888888,
              "#fdca26"
             ],
             [
              1,
              "#f0f921"
             ]
            ],
            "type": "contour"
           }
          ],
          "contourcarpet": [
           {
            "colorbar": {
             "outlinewidth": 0,
             "ticks": ""
            },
            "type": "contourcarpet"
           }
          ],
          "heatmap": [
           {
            "colorbar": {
             "outlinewidth": 0,
             "ticks": ""
            },
            "colorscale": [
             [
              0,
              "#0d0887"
             ],
             [
              0.1111111111111111,
              "#46039f"
             ],
             [
              0.2222222222222222,
              "#7201a8"
             ],
             [
              0.3333333333333333,
              "#9c179e"
             ],
             [
              0.4444444444444444,
              "#bd3786"
             ],
             [
              0.5555555555555556,
              "#d8576b"
             ],
             [
              0.6666666666666666,
              "#ed7953"
             ],
             [
              0.7777777777777778,
              "#fb9f3a"
             ],
             [
              0.8888888888888888,
              "#fdca26"
             ],
             [
              1,
              "#f0f921"
             ]
            ],
            "type": "heatmap"
           }
          ],
          "heatmapgl": [
           {
            "colorbar": {
             "outlinewidth": 0,
             "ticks": ""
            },
            "colorscale": [
             [
              0,
              "#0d0887"
             ],
             [
              0.1111111111111111,
              "#46039f"
             ],
             [
              0.2222222222222222,
              "#7201a8"
             ],
             [
              0.3333333333333333,
              "#9c179e"
             ],
             [
              0.4444444444444444,
              "#bd3786"
             ],
             [
              0.5555555555555556,
              "#d8576b"
             ],
             [
              0.6666666666666666,
              "#ed7953"
             ],
             [
              0.7777777777777778,
              "#fb9f3a"
             ],
             [
              0.8888888888888888,
              "#fdca26"
             ],
             [
              1,
              "#f0f921"
             ]
            ],
            "type": "heatmapgl"
           }
          ],
          "histogram": [
           {
            "marker": {
             "pattern": {
              "fillmode": "overlay",
              "size": 10,
              "solidity": 0.2
             }
            },
            "type": "histogram"
           }
          ],
          "histogram2d": [
           {
            "colorbar": {
             "outlinewidth": 0,
             "ticks": ""
            },
            "colorscale": [
             [
              0,
              "#0d0887"
             ],
             [
              0.1111111111111111,
              "#46039f"
             ],
             [
              0.2222222222222222,
              "#7201a8"
             ],
             [
              0.3333333333333333,
              "#9c179e"
             ],
             [
              0.4444444444444444,
              "#bd3786"
             ],
             [
              0.5555555555555556,
              "#d8576b"
             ],
             [
              0.6666666666666666,
              "#ed7953"
             ],
             [
              0.7777777777777778,
              "#fb9f3a"
             ],
             [
              0.8888888888888888,
              "#fdca26"
             ],
             [
              1,
              "#f0f921"
             ]
            ],
            "type": "histogram2d"
           }
          ],
          "histogram2dcontour": [
           {
            "colorbar": {
             "outlinewidth": 0,
             "ticks": ""
            },
            "colorscale": [
             [
              0,
              "#0d0887"
             ],
             [
              0.1111111111111111,
              "#46039f"
             ],
             [
              0.2222222222222222,
              "#7201a8"
             ],
             [
              0.3333333333333333,
              "#9c179e"
             ],
             [
              0.4444444444444444,
              "#bd3786"
             ],
             [
              0.5555555555555556,
              "#d8576b"
             ],
             [
              0.6666666666666666,
              "#ed7953"
             ],
             [
              0.7777777777777778,
              "#fb9f3a"
             ],
             [
              0.8888888888888888,
              "#fdca26"
             ],
             [
              1,
              "#f0f921"
             ]
            ],
            "type": "histogram2dcontour"
           }
          ],
          "mesh3d": [
           {
            "colorbar": {
             "outlinewidth": 0,
             "ticks": ""
            },
            "type": "mesh3d"
           }
          ],
          "parcoords": [
           {
            "line": {
             "colorbar": {
              "outlinewidth": 0,
              "ticks": ""
             }
            },
            "type": "parcoords"
           }
          ],
          "pie": [
           {
            "automargin": true,
            "type": "pie"
           }
          ],
          "scatter": [
           {
            "fillpattern": {
             "fillmode": "overlay",
             "size": 10,
             "solidity": 0.2
            },
            "type": "scatter"
           }
          ],
          "scatter3d": [
           {
            "line": {
             "colorbar": {
              "outlinewidth": 0,
              "ticks": ""
             }
            },
            "marker": {
             "colorbar": {
              "outlinewidth": 0,
              "ticks": ""
             }
            },
            "type": "scatter3d"
           }
          ],
          "scattercarpet": [
           {
            "marker": {
             "colorbar": {
              "outlinewidth": 0,
              "ticks": ""
             }
            },
            "type": "scattercarpet"
           }
          ],
          "scattergeo": [
           {
            "marker": {
             "colorbar": {
              "outlinewidth": 0,
              "ticks": ""
             }
            },
            "type": "scattergeo"
           }
          ],
          "scattergl": [
           {
            "marker": {
             "colorbar": {
              "outlinewidth": 0,
              "ticks": ""
             }
            },
            "type": "scattergl"
           }
          ],
          "scattermapbox": [
           {
            "marker": {
             "colorbar": {
              "outlinewidth": 0,
              "ticks": ""
             }
            },
            "type": "scattermapbox"
           }
          ],
          "scatterpolar": [
           {
            "marker": {
             "colorbar": {
              "outlinewidth": 0,
              "ticks": ""
             }
            },
            "type": "scatterpolar"
           }
          ],
          "scatterpolargl": [
           {
            "marker": {
             "colorbar": {
              "outlinewidth": 0,
              "ticks": ""
             }
            },
            "type": "scatterpolargl"
           }
          ],
          "scatterternary": [
           {
            "marker": {
             "colorbar": {
              "outlinewidth": 0,
              "ticks": ""
             }
            },
            "type": "scatterternary"
           }
          ],
          "surface": [
           {
            "colorbar": {
             "outlinewidth": 0,
             "ticks": ""
            },
            "colorscale": [
             [
              0,
              "#0d0887"
             ],
             [
              0.1111111111111111,
              "#46039f"
             ],
             [
              0.2222222222222222,
              "#7201a8"
             ],
             [
              0.3333333333333333,
              "#9c179e"
             ],
             [
              0.4444444444444444,
              "#bd3786"
             ],
             [
              0.5555555555555556,
              "#d8576b"
             ],
             [
              0.6666666666666666,
              "#ed7953"
             ],
             [
              0.7777777777777778,
              "#fb9f3a"
             ],
             [
              0.8888888888888888,
              "#fdca26"
             ],
             [
              1,
              "#f0f921"
             ]
            ],
            "type": "surface"
           }
          ],
          "table": [
           {
            "cells": {
             "fill": {
              "color": "#EBF0F8"
             },
             "line": {
              "color": "white"
             }
            },
            "header": {
             "fill": {
              "color": "#C8D4E3"
             },
             "line": {
              "color": "white"
             }
            },
            "type": "table"
           }
          ]
         },
         "layout": {
          "annotationdefaults": {
           "arrowcolor": "#2a3f5f",
           "arrowhead": 0,
           "arrowwidth": 1
          },
          "autotypenumbers": "strict",
          "coloraxis": {
           "colorbar": {
            "outlinewidth": 0,
            "ticks": ""
           }
          },
          "colorscale": {
           "diverging": [
            [
             0,
             "#8e0152"
            ],
            [
             0.1,
             "#c51b7d"
            ],
            [
             0.2,
             "#de77ae"
            ],
            [
             0.3,
             "#f1b6da"
            ],
            [
             0.4,
             "#fde0ef"
            ],
            [
             0.5,
             "#f7f7f7"
            ],
            [
             0.6,
             "#e6f5d0"
            ],
            [
             0.7,
             "#b8e186"
            ],
            [
             0.8,
             "#7fbc41"
            ],
            [
             0.9,
             "#4d9221"
            ],
            [
             1,
             "#276419"
            ]
           ],
           "sequential": [
            [
             0,
             "#0d0887"
            ],
            [
             0.1111111111111111,
             "#46039f"
            ],
            [
             0.2222222222222222,
             "#7201a8"
            ],
            [
             0.3333333333333333,
             "#9c179e"
            ],
            [
             0.4444444444444444,
             "#bd3786"
            ],
            [
             0.5555555555555556,
             "#d8576b"
            ],
            [
             0.6666666666666666,
             "#ed7953"
            ],
            [
             0.7777777777777778,
             "#fb9f3a"
            ],
            [
             0.8888888888888888,
             "#fdca26"
            ],
            [
             1,
             "#f0f921"
            ]
           ],
           "sequentialminus": [
            [
             0,
             "#0d0887"
            ],
            [
             0.1111111111111111,
             "#46039f"
            ],
            [
             0.2222222222222222,
             "#7201a8"
            ],
            [
             0.3333333333333333,
             "#9c179e"
            ],
            [
             0.4444444444444444,
             "#bd3786"
            ],
            [
             0.5555555555555556,
             "#d8576b"
            ],
            [
             0.6666666666666666,
             "#ed7953"
            ],
            [
             0.7777777777777778,
             "#fb9f3a"
            ],
            [
             0.8888888888888888,
             "#fdca26"
            ],
            [
             1,
             "#f0f921"
            ]
           ]
          },
          "colorway": [
           "#636efa",
           "#EF553B",
           "#00cc96",
           "#ab63fa",
           "#FFA15A",
           "#19d3f3",
           "#FF6692",
           "#B6E880",
           "#FF97FF",
           "#FECB52"
          ],
          "font": {
           "color": "#2a3f5f"
          },
          "geo": {
           "bgcolor": "white",
           "lakecolor": "white",
           "landcolor": "#E5ECF6",
           "showlakes": true,
           "showland": true,
           "subunitcolor": "white"
          },
          "hoverlabel": {
           "align": "left"
          },
          "hovermode": "closest",
          "mapbox": {
           "style": "light"
          },
          "paper_bgcolor": "white",
          "plot_bgcolor": "#E5ECF6",
          "polar": {
           "angularaxis": {
            "gridcolor": "white",
            "linecolor": "white",
            "ticks": ""
           },
           "bgcolor": "#E5ECF6",
           "radialaxis": {
            "gridcolor": "white",
            "linecolor": "white",
            "ticks": ""
           }
          },
          "scene": {
           "xaxis": {
            "backgroundcolor": "#E5ECF6",
            "gridcolor": "white",
            "gridwidth": 2,
            "linecolor": "white",
            "showbackground": true,
            "ticks": "",
            "zerolinecolor": "white"
           },
           "yaxis": {
            "backgroundcolor": "#E5ECF6",
            "gridcolor": "white",
            "gridwidth": 2,
            "linecolor": "white",
            "showbackground": true,
            "ticks": "",
            "zerolinecolor": "white"
           },
           "zaxis": {
            "backgroundcolor": "#E5ECF6",
            "gridcolor": "white",
            "gridwidth": 2,
            "linecolor": "white",
            "showbackground": true,
            "ticks": "",
            "zerolinecolor": "white"
           }
          },
          "shapedefaults": {
           "line": {
            "color": "#2a3f5f"
           }
          },
          "ternary": {
           "aaxis": {
            "gridcolor": "white",
            "linecolor": "white",
            "ticks": ""
           },
           "baxis": {
            "gridcolor": "white",
            "linecolor": "white",
            "ticks": ""
           },
           "bgcolor": "#E5ECF6",
           "caxis": {
            "gridcolor": "white",
            "linecolor": "white",
            "ticks": ""
           }
          },
          "title": {
           "x": 0.05
          },
          "xaxis": {
           "automargin": true,
           "gridcolor": "white",
           "linecolor": "white",
           "ticks": "",
           "title": {
            "standoff": 15
           },
           "zerolinecolor": "white",
           "zerolinewidth": 2
          },
          "yaxis": {
           "automargin": true,
           "gridcolor": "white",
           "linecolor": "white",
           "ticks": "",
           "title": {
            "standoff": 15
           },
           "zerolinecolor": "white",
           "zerolinewidth": 2
          }
         }
        },
        "title": {
         "text": "Boulder Problems by Grade and Steepness"
        },
        "xaxis": {
         "anchor": "y",
         "categoryorder": "category ascending",
         "domain": [
          0,
          1
         ],
         "title": {
          "text": "Grade"
         }
        },
        "yaxis": {
         "anchor": "x",
         "domain": [
          0,
          1
         ],
         "title": {
          "text": "Count"
         }
        }
       }
      }
     },
     "metadata": {},
     "output_type": "display_data"
    }
   ],
   "source": [
    "# Create grouped bar chart of problems by grade and steepness\n",
    "grade_counts = df.groupby(['grade', 'steepness']).size().reset_index(name='count')\n",
    "\n",
    "fig = px.bar(grade_counts, \n",
    "             x='grade',\n",
    "             y='count',\n",
    "             color='steepness',\n",
    "             title='Boulder Problems by Grade and Steepness',\n",
    "             labels={'count': 'Count', 'grade': 'Grade', 'steepness': 'Steepness'},\n",
    "             color_discrete_sequence=['#FF6B6B', '#4ECDC4', '#45B7D1', '#96CEB4', '#FFEEAD', '#D4A5A5'])\n",
    "\n",
    "fig.update_xaxes(categoryorder='category ascending')\n",
    "\n",
    "# Add click event to show individual problems\n",
    "fig.update_traces(\n",
    "    customdata=grade_counts[['grade', 'steepness']],\n",
    "    hovertemplate='<b>%{x}</b><br>Steepness: %{customdata[1]}<br>Count: %{y}<extra></extra>'\n",
    ")\n",
    "\n",
    "def show_problems(trace, points, selector):\n",
    "    if points.point_inds:\n",
    "        grade = points.customdata[0][0]\n",
    "        steepness = points.customdata[0][1]\n",
    "        problems = df[(df['grade'] == grade) & (df['steepness'] == steepness)]\n",
    "        print(f\"\\nProblems with Grade {grade} and Steepness {steepness}:\")\n",
    "        print(problems[['name', 'grade', 'steepness', 'popularity']].to_string())\n",
    "\n",
    "fig.data[0].on_click(show_problems)\n",
    "\n",
    "fig.show()\n"
   ]
  },
  {
   "cell_type": "code",
   "execution_count": 97,
   "metadata": {},
   "outputs": [
    {
     "data": {
      "text/plain": [
       "['91.1',\n",
       " '95.2',\n",
       " 'Apremont',\n",
       " 'Apremont Bizons',\n",
       " 'Apremont Butte aux Dames',\n",
       " 'Apremont Désert',\n",
       " 'Apremont Envers',\n",
       " 'Apremont Est',\n",
       " 'Apremont Ouest',\n",
       " 'Apremont Portes du Désert',\n",
       " 'Apremont Solitude',\n",
       " 'Apremont Sully',\n",
       " 'Beauvais Hameau',\n",
       " 'Beauvais Loutteville',\n",
       " 'Beauvais Nainville',\n",
       " 'Beauvais Roches Noires',\n",
       " 'Beauvais Télégraphe',\n",
       " 'Bois Rond',\n",
       " 'Buthiers Canard',\n",
       " 'Buthiers Piscine',\n",
       " 'Buthiers Tennis',\n",
       " 'Canche aux Merciers',\n",
       " 'Corne-Biche',\n",
       " 'Cul de Chien',\n",
       " 'Cuvier',\n",
       " 'Cuvier Bellevue',\n",
       " 'Cuvier Est',\n",
       " 'Cuvier Merveille',\n",
       " 'Cuvier Nord',\n",
       " 'Cuvier Ouest',\n",
       " 'Cuvier Petit Rempart',\n",
       " 'Cuvier Reconnaissance',\n",
       " 'Cuvier Rempart',\n",
       " 'Dame Jouanne',\n",
       " 'Darvault',\n",
       " 'Diplodocus',\n",
       " 'Drei Zinnen',\n",
       " 'Franchard Cuisinière',\n",
       " 'Franchard Cuisinière Crêtes Sud',\n",
       " 'Franchard Hautes Plaines',\n",
       " 'Franchard Isatis',\n",
       " 'Franchard Meyer',\n",
       " 'Franchard Raymond',\n",
       " 'Franchard Sablons',\n",
       " 'Franchard Sablons Carriers',\n",
       " 'Gorge aux Châts',\n",
       " 'Grande Montagne',\n",
       " 'Gros Sablons',\n",
       " 'Gros Sablons Nord',\n",
       " 'Haute Pierre',\n",
       " 'J.A. Martin',\n",
       " 'Jean des Vignes',\n",
       " 'Justice de Chambergeot',\n",
       " 'La Ségognole',\n",
       " 'La Troche',\n",
       " 'Le Calvaire',\n",
       " 'Maunoury',\n",
       " 'Mont Aigu',\n",
       " 'Mont Ussy',\n",
       " 'Mont Ussy Est',\n",
       " \"Mont d'Olivet\",\n",
       " 'Petit Bois',\n",
       " 'Pignon Poteau',\n",
       " 'Puiselet Mont Sarrasin',\n",
       " 'Restant du Long Rocher',\n",
       " 'Restant du Long Rocher Sud',\n",
       " 'Roche aux Oiseaux',\n",
       " 'Roche aux Sabots',\n",
       " \"Roche d'Hercule\",\n",
       " 'Rocher Canon',\n",
       " 'Rocher Canon Ouest',\n",
       " 'Rocher Fin',\n",
       " 'Rocher Gréau',\n",
       " 'Rocher Guichot',\n",
       " 'Rocher Saint-Germain Est',\n",
       " \"Rocher d'Avon\",\n",
       " \"Rocher d'Avon Est\",\n",
       " 'Rocher de Bouligny',\n",
       " 'Rocher de la Cathédrale',\n",
       " 'Rocher de la Reine',\n",
       " 'Rocher des Demoiselles',\n",
       " 'Rocher des Potets',\n",
       " 'Rocher des Souris',\n",
       " 'Rocher du Général',\n",
       " 'Rocher du Potala',\n",
       " 'Rocher du Télégraphe',\n",
       " \"Toit d'Orsay\",\n",
       " 'Éléphant']"
      ]
     },
     "execution_count": 97,
     "metadata": {},
     "output_type": "execute_result"
    }
   ],
   "source": [
    "sorted(areas.area_name.unique())"
   ]
  },
  {
   "cell_type": "code",
   "execution_count": 100,
   "metadata": {},
   "outputs": [
    {
     "data": {
      "text/html": [
       "<div>\n",
       "<style scoped>\n",
       "    .dataframe tbody tr th:only-of-type {\n",
       "        vertical-align: middle;\n",
       "    }\n",
       "\n",
       "    .dataframe tbody tr th {\n",
       "        vertical-align: top;\n",
       "    }\n",
       "\n",
       "    .dataframe thead th {\n",
       "        text-align: right;\n",
       "    }\n",
       "</style>\n",
       "<table border=\"1\" class=\"dataframe\">\n",
       "  <thead>\n",
       "    <tr style=\"text-align: right;\">\n",
       "      <th></th>\n",
       "      <th>id</th>\n",
       "      <th>name</th>\n",
       "      <th>name_en</th>\n",
       "      <th>name_searchable</th>\n",
       "      <th>grade</th>\n",
       "      <th>latitude</th>\n",
       "      <th>longitude</th>\n",
       "      <th>circuit_id</th>\n",
       "      <th>circuit_number</th>\n",
       "      <th>circuit_color</th>\n",
       "      <th>steepness</th>\n",
       "      <th>sit_start</th>\n",
       "      <th>area_id</th>\n",
       "      <th>bleau_info_id</th>\n",
       "      <th>featured</th>\n",
       "      <th>popularity</th>\n",
       "      <th>parent_id</th>\n",
       "      <th>area_name</th>\n",
       "    </tr>\n",
       "  </thead>\n",
       "  <tbody>\n",
       "    <tr>\n",
       "      <th>3845</th>\n",
       "      <td>4288</td>\n",
       "      <td>La Grande Caravane</td>\n",
       "      <td>La Grande Caravane</td>\n",
       "      <td>lagrandecaravane</td>\n",
       "      <td>7c</td>\n",
       "      <td>48.399148</td>\n",
       "      <td>2.520176</td>\n",
       "      <td>NaN</td>\n",
       "      <td>None</td>\n",
       "      <td>None</td>\n",
       "      <td>overhang</td>\n",
       "      <td>1</td>\n",
       "      <td>15</td>\n",
       "      <td>12042</td>\n",
       "      <td>0</td>\n",
       "      <td>324</td>\n",
       "      <td>NaN</td>\n",
       "      <td>Gorge aux Châts</td>\n",
       "    </tr>\n",
       "    <tr>\n",
       "      <th>3839</th>\n",
       "      <td>4281</td>\n",
       "      <td>No Comply</td>\n",
       "      <td>No Comply</td>\n",
       "      <td>nocomply</td>\n",
       "      <td>7c</td>\n",
       "      <td>48.398923</td>\n",
       "      <td>2.520338</td>\n",
       "      <td>NaN</td>\n",
       "      <td>None</td>\n",
       "      <td>None</td>\n",
       "      <td>overhang</td>\n",
       "      <td>1</td>\n",
       "      <td>15</td>\n",
       "      <td>303953</td>\n",
       "      <td>0</td>\n",
       "      <td>84</td>\n",
       "      <td>NaN</td>\n",
       "      <td>Gorge aux Châts</td>\n",
       "    </tr>\n",
       "    <tr>\n",
       "      <th>3811</th>\n",
       "      <td>4250</td>\n",
       "      <td>Agression Totale</td>\n",
       "      <td>Agression Totale</td>\n",
       "      <td>agressiontotale</td>\n",
       "      <td>7c</td>\n",
       "      <td>48.398992</td>\n",
       "      <td>2.519971</td>\n",
       "      <td>NaN</td>\n",
       "      <td>None</td>\n",
       "      <td>None</td>\n",
       "      <td>overhang</td>\n",
       "      <td>0</td>\n",
       "      <td>15</td>\n",
       "      <td>23611</td>\n",
       "      <td>0</td>\n",
       "      <td>43</td>\n",
       "      <td>NaN</td>\n",
       "      <td>Gorge aux Châts</td>\n",
       "    </tr>\n",
       "  </tbody>\n",
       "</table>\n",
       "</div>"
      ],
      "text/plain": [
       "        id                name             name_en   name_searchable grade  \\\n",
       "3845  4288  La Grande Caravane  La Grande Caravane  lagrandecaravane    7c   \n",
       "3839  4281           No Comply           No Comply          nocomply    7c   \n",
       "3811  4250    Agression Totale    Agression Totale   agressiontotale    7c   \n",
       "\n",
       "       latitude  longitude  circuit_id circuit_number circuit_color steepness  \\\n",
       "3845  48.399148   2.520176         NaN           None          None  overhang   \n",
       "3839  48.398923   2.520338         NaN           None          None  overhang   \n",
       "3811  48.398992   2.519971         NaN           None          None  overhang   \n",
       "\n",
       "      sit_start  area_id bleau_info_id  featured  popularity  parent_id  \\\n",
       "3845          1       15         12042         0         324        NaN   \n",
       "3839          1       15        303953         0          84        NaN   \n",
       "3811          0       15         23611         0          43        NaN   \n",
       "\n",
       "            area_name  \n",
       "3845  Gorge aux Châts  \n",
       "3839  Gorge aux Châts  \n",
       "3811  Gorge aux Châts  "
      ]
     },
     "execution_count": 100,
     "metadata": {},
     "output_type": "execute_result"
    }
   ],
   "source": [
    "df[\n",
    "    df[\"grade\"].str.startswith(\"7c\") & \n",
    "    df[\"steepness\"].isin([\"roof\", \"overhang\"]) &\n",
    "    df[\"area_name\"].isin(['Gorge aux Châts',]) # 'Rocher des Souris', 'Jean des Vignes', 'Rocher des Potets',  '95.2',  \n",
    "].sort_values(\"popularity\", ascending=False)"
   ]
  },
  {
   "cell_type": "code",
   "execution_count": 101,
   "metadata": {},
   "outputs": [],
   "source": [
    "df.head().to_clipboard()"
   ]
  },
  {
   "cell_type": "markdown",
   "metadata": {},
   "source": [
    "# Vero's list \n",
    "Velociraptor\n",
    "Extraction Divine (assis)\n",
    "La Grande Caravane"
   ]
  },
  {
   "cell_type": "code",
   "execution_count": null,
   "metadata": {},
   "outputs": [],
   "source": [
    "# Create an interactive map showing climbing areas\n",
    "import folium\n",
    "from folium import plugins\n",
    "\n",
    "# Get unique areas with their coordinates\n",
    "areas = df.groupby('area_name').agg({\n",
    "    'lat': 'first',\n",
    "    'lon': 'first',\n",
    "    'id': 'count'  # Count problems per area\n",
    "}).reset_index()\n",
    "\n",
    "# Create base map centered on Fontainebleau\n",
    "m = folium.Map(\n",
    "    location=[48.4, 2.7],  # Approximate center of Fontainebleau\n",
    "    zoom_start=11\n",
    ")\n",
    "\n",
    "# Add markers for each area\n",
    "for idx, row in areas.iterrows():\n",
    "    if pd.notna(row['lat']) and pd.notna(row['lon']):  # Check for valid coordinates\n",
    "        folium.CircleMarker(\n",
    "            location=[row['lat'], row['lon']],\n",
    "            radius=int(np.log(row['id'] + 1) * 3),  # Size based on number of problems\n",
    "            popup=f\"{row['area_name']}<br>{row['id']} problems\",\n",
    "            color='red',\n",
    "            fill=True,\n",
    "            fill_color='red'\n",
    "        ).add_to(m)\n",
    "\n",
    "# Add a fullscreen option\n",
    "plugins.Fullscreen().add_to(m)\n",
    "\n",
    "# Display the map\n",
    "m\n"
   ]
  }
 ],
 "metadata": {
  "kernelspec": {
   "display_name": "farmon",
   "language": "python",
   "name": "farmon"
  },
  "language_info": {
   "codemirror_mode": {
    "name": "ipython",
    "version": 3
   },
   "file_extension": ".py",
   "mimetype": "text/x-python",
   "name": "python",
   "nbconvert_exporter": "python",
   "pygments_lexer": "ipython3",
   "version": "3.10.15"
  }
 },
 "nbformat": 4,
 "nbformat_minor": 2
}
